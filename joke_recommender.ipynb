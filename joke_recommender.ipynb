{
 "cells": [
  {
   "cell_type": "code",
   "execution_count": 1,
   "metadata": {},
   "outputs": [
    {
     "name": "stderr",
     "output_type": "stream",
     "text": [
      "[INFO] graphlab.cython.cy_server: GraphLab Create v2.1 started. Logging: /tmp/graphlab_server_1512766075.log\n"
     ]
    },
    {
     "name": "stdout",
     "output_type": "stream",
     "text": [
      "This non-commercial license of GraphLab Create for academic use is assigned to tomasbielskis@gmail.com and will expire on December 07, 2018.\n"
     ]
    }
   ],
   "source": [
    "import numpy as np\n",
    "import graphlab\n",
    "import pandas as pd\n",
    "import matplotlib.pyplot as plt\n",
    "%matplotlib inline"
   ]
  },
  {
   "cell_type": "code",
   "execution_count": 23,
   "metadata": {
    "collapsed": true,
    "scrolled": true
   },
   "outputs": [],
   "source": [
    "df = pd.read_table('data/ratings.dat')\n",
    "df['ratebins'] = [int(x) for x in df.rating]\n",
    "df_rating = graphlab.SFrame(df[[\"user_id\", \"joke_id\", \"rating\"]])"
   ]
  },
  {
   "cell_type": "code",
   "execution_count": 142,
   "metadata": {},
   "outputs": [
    {
     "data": {
      "text/html": [
       "<div>\n",
       "<table border=\"1\" class=\"dataframe\">\n",
       "  <thead>\n",
       "    <tr style=\"text-align: right;\">\n",
       "      <th></th>\n",
       "      <th>user_id</th>\n",
       "      <th>joke_id</th>\n",
       "      <th>rating</th>\n",
       "    </tr>\n",
       "  </thead>\n",
       "  <tbody>\n",
       "    <tr>\n",
       "      <th>0</th>\n",
       "      <td>1</td>\n",
       "      <td>7</td>\n",
       "      <td>-9.281</td>\n",
       "    </tr>\n",
       "    <tr>\n",
       "      <th>1</th>\n",
       "      <td>1</td>\n",
       "      <td>8</td>\n",
       "      <td>-9.281</td>\n",
       "    </tr>\n",
       "    <tr>\n",
       "      <th>2</th>\n",
       "      <td>1</td>\n",
       "      <td>13</td>\n",
       "      <td>-6.781</td>\n",
       "    </tr>\n",
       "    <tr>\n",
       "      <th>3</th>\n",
       "      <td>1</td>\n",
       "      <td>15</td>\n",
       "      <td>0.875</td>\n",
       "    </tr>\n",
       "    <tr>\n",
       "      <th>4</th>\n",
       "      <td>1</td>\n",
       "      <td>16</td>\n",
       "      <td>-9.656</td>\n",
       "    </tr>\n",
       "  </tbody>\n",
       "</table>\n",
       "</div>"
      ],
      "text/plain": [
       "   user_id  joke_id  rating\n",
       "0        1        7  -9.281\n",
       "1        1        8  -9.281\n",
       "2        1       13  -6.781\n",
       "3        1       15   0.875\n",
       "4        1       16  -9.656"
      ]
     },
     "execution_count": 142,
     "metadata": {},
     "output_type": "execute_result"
    }
   ],
   "source": [
    "dfj = pd.read_table('data/jester_ratings.dat')\n",
    "del dfj['Unnamed: 1']\n",
    "del dfj['Unnamed: 3']\n",
    "dfj.columns = ['user_id', 'joke_id', 'rating']\n",
    "dfj_rating = graphlab.SFrame(dfj)\n",
    "\n",
    "dfj.head()\n"
   ]
  },
  {
   "cell_type": "code",
   "execution_count": 3,
   "metadata": {
    "collapsed": true
   },
   "outputs": [],
   "source": [
    "df_jokes = pd.read_table('data/jokes.dat')\n",
    "df_jokes['joke_id'], df_jokes['content'] = df_jokes['title'].str.split(':', 1).str\n",
    "del df_jokes['title']"
   ]
  },
  {
   "cell_type": "code",
   "execution_count": 4,
   "metadata": {
    "scrolled": true
   },
   "outputs": [
    {
     "data": {
      "text/plain": [
       "(array([ 44728.,  26857.,  26567.,  35139.,  37286.,  40209.,  43598.,\n",
       "         45258.,  44245.,  58643.,  81532.,  93638.,  96034.,  91108.,\n",
       "         85250.,  76666.,  69551.,  62613.,  69059.,  90344.]),\n",
       " array([-10.,  -9.,  -8.,  -7.,  -6.,  -5.,  -4.,  -3.,  -2.,  -1.,   0.,\n",
       "          1.,   2.,   3.,   4.,   5.,   6.,   7.,   8.,   9.,  10.]),\n",
       " <a list of 20 Patch objects>)"
      ]
     },
     "execution_count": 4,
     "metadata": {},
     "output_type": "execute_result"
    },
    {
     "data": {
      "image/png": "[encoded data removed]",
      "text/plain": [
       "<matplotlib.figure.Figure at 0x7f75d4585d90>"
      ]
     },
     "metadata": {},
     "output_type": "display_data"
    }
   ],
   "source": [
    "plt.hist(df.rating, bins=20)"
   ]
  },
  {
   "cell_type": "code",
   "execution_count": 144,
   "metadata": {
    "scrolled": false
   },
   "outputs": [
    {
     "data": {
      "text/html": [
       "<pre>Recsys training: model = factorization_recommender</pre>"
      ],
      "text/plain": [
       "Recsys training: model = factorization_recommender"
      ]
     },
     "metadata": {},
     "output_type": "display_data"
    },
    {
     "data": {
      "text/html": [
       "<pre>Preparing data set.</pre>"
      ],
      "text/plain": [
       "Preparing data set."
      ]
     },
     "metadata": {},
     "output_type": "display_data"
    },
    {
     "data": {
      "text/html": [
       "<pre>    Data has 1761438 observations with 59132 users and 140 items.</pre>"
      ],
      "text/plain": [
       "    Data has 1761438 observations with 59132 users and 140 items."
      ]
     },
     "metadata": {},
     "output_type": "display_data"
    },
    {
     "data": {
      "text/html": [
       "<pre>    Data prepared in: 2.87734s</pre>"
      ],
      "text/plain": [
       "    Data prepared in: 2.87734s"
      ]
     },
     "metadata": {},
     "output_type": "display_data"
    },
    {
     "data": {
      "text/html": [
       "<pre>Training factorization_recommender for recommendations.</pre>"
      ],
      "text/plain": [
       "Training factorization_recommender for recommendations."
      ]
     },
     "metadata": {},
     "output_type": "display_data"
    },
    {
     "data": {
      "text/html": [
       "<pre>+--------------------------------+--------------------------------------------------+----------+</pre>"
      ],
      "text/plain": [
       "+--------------------------------+--------------------------------------------------+----------+"
      ]
     },
     "metadata": {},
     "output_type": "display_data"
    },
    {
     "data": {
      "text/html": [
       "<pre>| Parameter                      | Description                                      | Value    |</pre>"
      ],
      "text/plain": [
       "| Parameter                      | Description                                      | Value    |"
      ]
     },
     "metadata": {},
     "output_type": "display_data"
    },
    {
     "data": {
      "text/html": [
       "<pre>+--------------------------------+--------------------------------------------------+----------+</pre>"
      ],
      "text/plain": [
       "+--------------------------------+--------------------------------------------------+----------+"
      ]
     },
     "metadata": {},
     "output_type": "display_data"
    },
    {
     "data": {
      "text/html": [
       "<pre>| num_factors                    | Factor Dimension                                 | 8        |</pre>"
      ],
      "text/plain": [
       "| num_factors                    | Factor Dimension                                 | 8        |"
      ]
     },
     "metadata": {},
     "output_type": "display_data"
    },
    {
     "data": {
      "text/html": [
       "<pre>| regularization                 | L2 Regularization on Factors                     | 1e-08    |</pre>"
      ],
      "text/plain": [
       "| regularization                 | L2 Regularization on Factors                     | 1e-08    |"
      ]
     },
     "metadata": {},
     "output_type": "display_data"
    },
    {
     "data": {
      "text/html": [
       "<pre>| solver                         | Solver used for training                         | sgd      |</pre>"
      ],
      "text/plain": [
       "| solver                         | Solver used for training                         | sgd      |"
      ]
     },
     "metadata": {},
     "output_type": "display_data"
    },
    {
     "data": {
      "text/html": [
       "<pre>| linear_regularization          | L2 Regularization on Linear Coefficients         | 1e-10    |</pre>"
      ],
      "text/plain": [
       "| linear_regularization          | L2 Regularization on Linear Coefficients         | 1e-10    |"
      ]
     },
     "metadata": {},
     "output_type": "display_data"
    },
    {
     "data": {
      "text/html": [
       "<pre>| max_iterations                 | Maximum Number of Iterations                     | 50       |</pre>"
      ],
      "text/plain": [
       "| max_iterations                 | Maximum Number of Iterations                     | 50       |"
      ]
     },
     "metadata": {},
     "output_type": "display_data"
    },
    {
     "data": {
      "text/html": [
       "<pre>+--------------------------------+--------------------------------------------------+----------+</pre>"
      ],
      "text/plain": [
       "+--------------------------------+--------------------------------------------------+----------+"
      ]
     },
     "metadata": {},
     "output_type": "display_data"
    },
    {
     "data": {
      "text/html": [
       "<pre>  Optimizing model using SGD; tuning step size.</pre>"
      ],
      "text/plain": [
       "  Optimizing model using SGD; tuning step size."
      ]
     },
     "metadata": {},
     "output_type": "display_data"
    },
    {
     "data": {
      "text/html": [
       "<pre>  Using 220179 / 1761438 points for tuning the step size.</pre>"
      ],
      "text/plain": [
       "  Using 220179 / 1761438 points for tuning the step size."
      ]
     },
     "metadata": {},
     "output_type": "display_data"
    },
    {
     "data": {
      "text/html": [
       "<pre>+---------+-------------------+------------------------------------------+</pre>"
      ],
      "text/plain": [
       "+---------+-------------------+------------------------------------------+"
      ]
     },
     "metadata": {},
     "output_type": "display_data"
    },
    {
     "data": {
      "text/html": [
       "<pre>| Attempt | Initial Step Size | Estimated Objective Value                |</pre>"
      ],
      "text/plain": [
       "| Attempt | Initial Step Size | Estimated Objective Value                |"
      ]
     },
     "metadata": {},
     "output_type": "display_data"
    },
    {
     "data": {
      "text/html": [
       "<pre>+---------+-------------------+------------------------------------------+</pre>"
      ],
      "text/plain": [
       "+---------+-------------------+------------------------------------------+"
      ]
     },
     "metadata": {},
     "output_type": "display_data"
    },
    {
     "data": {
      "text/html": [
       "<pre>| 0       | 25                | No Decrease (236.326 >= 28.2108)         |</pre>"
      ],
      "text/plain": [
       "| 0       | 25                | No Decrease (236.326 >= 28.2108)         |"
      ]
     },
     "metadata": {},
     "output_type": "display_data"
    },
    {
     "data": {
      "text/html": [
       "<pre>| 1       | 6.25              | No Decrease (215.555 >= 28.2108)         |</pre>"
      ],
      "text/plain": [
       "| 1       | 6.25              | No Decrease (215.555 >= 28.2108)         |"
      ]
     },
     "metadata": {},
     "output_type": "display_data"
    },
    {
     "data": {
      "text/html": [
       "<pre>| 2       | 1.5625            | No Decrease (213.881 >= 28.2108)         |</pre>"
      ],
      "text/plain": [
       "| 2       | 1.5625            | No Decrease (213.881 >= 28.2108)         |"
      ]
     },
     "metadata": {},
     "output_type": "display_data"
    },
    {
     "data": {
      "text/html": [
       "<pre>| 3       | 0.390625          | No Decrease (113.555 >= 28.2108)         |</pre>"
      ],
      "text/plain": [
       "| 3       | 0.390625          | No Decrease (113.555 >= 28.2108)         |"
      ]
     },
     "metadata": {},
     "output_type": "display_data"
    },
    {
     "data": {
      "text/html": [
       "<pre>| 4       | 0.0976562         | 23.1715                                  |</pre>"
      ],
      "text/plain": [
       "| 4       | 0.0976562         | 23.1715                                  |"
      ]
     },
     "metadata": {},
     "output_type": "display_data"
    },
    {
     "data": {
      "text/html": [
       "<pre>| 5       | 0.0488281         | 20.6223                                  |</pre>"
      ],
      "text/plain": [
       "| 5       | 0.0488281         | 20.6223                                  |"
      ]
     },
     "metadata": {},
     "output_type": "display_data"
    },
    {
     "data": {
      "text/html": [
       "<pre>| 6       | 0.0244141         | 5.35057                                  |</pre>"
      ],
      "text/plain": [
       "| 6       | 0.0244141         | 5.35057                                  |"
      ]
     },
     "metadata": {},
     "output_type": "display_data"
    },
    {
     "data": {
      "text/html": [
       "<pre>| 7       | 0.012207          | 9.40199                                  |</pre>"
      ],
      "text/plain": [
       "| 7       | 0.012207          | 9.40199                                  |"
      ]
     },
     "metadata": {},
     "output_type": "display_data"
    },
    {
     "data": {
      "text/html": [
       "<pre>| 8       | 0.00610352        | 16.3662                                  |</pre>"
      ],
      "text/plain": [
       "| 8       | 0.00610352        | 16.3662                                  |"
      ]
     },
     "metadata": {},
     "output_type": "display_data"
    },
    {
     "data": {
      "text/html": [
       "<pre>+---------+-------------------+------------------------------------------+</pre>"
      ],
      "text/plain": [
       "+---------+-------------------+------------------------------------------+"
      ]
     },
     "metadata": {},
     "output_type": "display_data"
    },
    {
     "data": {
      "text/html": [
       "<pre>| Final   | 0.0244141         | 5.35057                                  |</pre>"
      ],
      "text/plain": [
       "| Final   | 0.0244141         | 5.35057                                  |"
      ]
     },
     "metadata": {},
     "output_type": "display_data"
    },
    {
     "data": {
      "text/html": [
       "<pre>+---------+-------------------+------------------------------------------+</pre>"
      ],
      "text/plain": [
       "+---------+-------------------+------------------------------------------+"
      ]
     },
     "metadata": {},
     "output_type": "display_data"
    },
    {
     "data": {
      "text/html": [
       "<pre>Starting Optimization.</pre>"
      ],
      "text/plain": [
       "Starting Optimization."
      ]
     },
     "metadata": {},
     "output_type": "display_data"
    },
    {
     "data": {
      "text/html": [
       "<pre>+---------+--------------+-------------------+-----------------------+-------------+</pre>"
      ],
      "text/plain": [
       "+---------+--------------+-------------------+-----------------------+-------------+"
      ]
     },
     "metadata": {},
     "output_type": "display_data"
    },
    {
     "data": {
      "text/html": [
       "<pre>| Iter.   | Elapsed Time | Approx. Objective | Approx. Training RMSE | Step Size   |</pre>"
      ],
      "text/plain": [
       "| Iter.   | Elapsed Time | Approx. Objective | Approx. Training RMSE | Step Size   |"
      ]
     },
     "metadata": {},
     "output_type": "display_data"
    },
    {
     "data": {
      "text/html": [
       "<pre>+---------+--------------+-------------------+-----------------------+-------------+</pre>"
      ],
      "text/plain": [
       "+---------+--------------+-------------------+-----------------------+-------------+"
      ]
     },
     "metadata": {},
     "output_type": "display_data"
    },
    {
     "data": {
      "text/html": [
       "<pre>| Initial | 10.174ms     | 28.1174           | 5.30258               |             |</pre>"
      ],
      "text/plain": [
       "| Initial | 10.174ms     | 28.1174           | 5.30258               |             |"
      ]
     },
     "metadata": {},
     "output_type": "display_data"
    },
    {
     "data": {
      "text/html": [
       "<pre>+---------+--------------+-------------------+-----------------------+-------------+</pre>"
      ],
      "text/plain": [
       "+---------+--------------+-------------------+-----------------------+-------------+"
      ]
     },
     "metadata": {},
     "output_type": "display_data"
    },
    {
     "data": {
      "text/html": [
       "<pre>| 1       | 843.454ms    | 21.8816           | 4.67737               | 0.0244141   |</pre>"
      ],
      "text/plain": [
       "| 1       | 843.454ms    | 21.8816           | 4.67737               | 0.0244141   |"
      ]
     },
     "metadata": {},
     "output_type": "display_data"
    },
    {
     "data": {
      "text/html": [
       "<pre>| 2       | 1.55s        | 17.7648           | 4.21446               | 0.0145167   |</pre>"
      ],
      "text/plain": [
       "| 2       | 1.55s        | 17.7648           | 4.21446               | 0.0145167   |"
      ]
     },
     "metadata": {},
     "output_type": "display_data"
    },
    {
     "data": {
      "text/html": [
       "<pre>| 3       | 2.25s        | 15.6083           | 3.95037               | 0.0107102   |</pre>"
      ],
      "text/plain": [
       "| 3       | 2.25s        | 15.6083           | 3.95037               | 0.0107102   |"
      ]
     },
     "metadata": {},
     "output_type": "display_data"
    },
    {
     "data": {
      "text/html": [
       "<pre>| 4       | 2.97s        | 14.1845           | 3.76584               | 0.00863167  |</pre>"
      ],
      "text/plain": [
       "| 4       | 2.97s        | 14.1845           | 3.76584               | 0.00863167  |"
      ]
     },
     "metadata": {},
     "output_type": "display_data"
    },
    {
     "data": {
      "text/html": [
       "<pre>| 5       | 3.80s        | 13.2637           | 3.64153               | 0.00730151  |</pre>"
      ],
      "text/plain": [
       "| 5       | 3.80s        | 13.2637           | 3.64153               | 0.00730151  |"
      ]
     },
     "metadata": {},
     "output_type": "display_data"
    },
    {
     "data": {
      "text/html": [
       "<pre>| 6       | 4.51s        | 12.6792           | 3.56036               | 0.00636835  |</pre>"
      ],
      "text/plain": [
       "| 6       | 4.51s        | 12.6792           | 3.56036               | 0.00636835  |"
      ]
     },
     "metadata": {},
     "output_type": "display_data"
    },
    {
     "data": {
      "text/html": [
       "<pre>| 10      | 7.06s        | 11.6438           | 3.41183               | 0.0043415   |</pre>"
      ],
      "text/plain": [
       "| 10      | 7.06s        | 11.6438           | 3.41183               | 0.0043415   |"
      ]
     },
     "metadata": {},
     "output_type": "display_data"
    },
    {
     "data": {
      "text/html": [
       "<pre>| 11      | 7.76s        | 11.4894           | 3.38913               | 0.00404199  |</pre>"
      ],
      "text/plain": [
       "| 11      | 7.76s        | 11.4894           | 3.38913               | 0.00404199  |"
      ]
     },
     "metadata": {},
     "output_type": "display_data"
    },
    {
     "data": {
      "text/html": [
       "<pre>| 15      | 10.31s       | 11.2377           | 3.35177               | 0.00320311  |</pre>"
      ],
      "text/plain": [
       "| 15      | 10.31s       | 11.2377           | 3.35177               | 0.00320311  |"
      ]
     },
     "metadata": {},
     "output_type": "display_data"
    },
    {
     "data": {
      "text/html": [
       "<pre>| 20      | 14.57s       | 11.053            | 3.3241                | 0.00182538  |</pre>"
      ],
      "text/plain": [
       "| 20      | 14.57s       | 11.053            | 3.3241                | 0.00182538  |"
      ]
     },
     "metadata": {},
     "output_type": "display_data"
    },
    {
     "data": {
      "text/html": [
       "<pre>| 25      | 17.88s       | 12.9465           | 3.59766               | 0.000194158 |</pre>"
      ],
      "text/plain": [
       "| 25      | 17.88s       | 12.9465           | 3.59766               | 0.000194158 |"
      ]
     },
     "metadata": {},
     "output_type": "display_data"
    },
    {
     "data": {
      "text/html": [
       "<pre>| 30      | 21.02s       | 13.9078           | 3.72887               | 9.5229e-06  |</pre>"
      ],
      "text/plain": [
       "| 30      | 21.02s       | 13.9078           | 3.72887               | 9.5229e-06  |"
      ]
     },
     "metadata": {},
     "output_type": "display_data"
    },
    {
     "data": {
      "text/html": [
       "<pre>| 35      | 24.19s       | 13.9167           | 3.73006               | 1.0667e-06  |</pre>"
      ],
      "text/plain": [
       "| 35      | 24.19s       | 13.9167           | 3.73006               | 1.0667e-06  |"
      ]
     },
     "metadata": {},
     "output_type": "display_data"
    },
    {
     "data": {
      "text/html": [
       "<pre>| 40      | 28.02s       | 13.9151           | 3.72985               | 9.65051e-07 |</pre>"
      ],
      "text/plain": [
       "| 40      | 28.02s       | 13.9151           | 3.72985               | 9.65051e-07 |"
      ]
     },
     "metadata": {},
     "output_type": "display_data"
    },
    {
     "data": {
      "text/html": [
       "<pre>| 45      | 31.25s       | 13.9138           | 3.72967               | 8.83458e-07 |</pre>"
      ],
      "text/plain": [
       "| 45      | 31.25s       | 13.9138           | 3.72967               | 8.83458e-07 |"
      ]
     },
     "metadata": {},
     "output_type": "display_data"
    },
    {
     "data": {
      "text/html": [
       "<pre>| 50      | 34.43s       | 13.9126           | 3.72951               | 8.16333e-07 |</pre>"
      ],
      "text/plain": [
       "| 50      | 34.43s       | 13.9126           | 3.72951               | 8.16333e-07 |"
      ]
     },
     "metadata": {},
     "output_type": "display_data"
    },
    {
     "data": {
      "text/html": [
       "<pre>+---------+--------------+-------------------+-----------------------+-------------+</pre>"
      ],
      "text/plain": [
       "+---------+--------------+-------------------+-----------------------+-------------+"
      ]
     },
     "metadata": {},
     "output_type": "display_data"
    },
    {
     "data": {
      "text/html": [
       "<pre>Optimization Complete: Maximum number of passes through the data reached.</pre>"
      ],
      "text/plain": [
       "Optimization Complete: Maximum number of passes through the data reached."
      ]
     },
     "metadata": {},
     "output_type": "display_data"
    },
    {
     "data": {
      "text/html": [
       "<pre>Computing final objective value and training RMSE.</pre>"
      ],
      "text/plain": [
       "Computing final objective value and training RMSE."
      ]
     },
     "metadata": {},
     "output_type": "display_data"
    },
    {
     "data": {
      "text/html": [
       "<pre>       Final objective value: 13.9124</pre>"
      ],
      "text/plain": [
       "       Final objective value: 13.9124"
      ]
     },
     "metadata": {},
     "output_type": "display_data"
    },
    {
     "data": {
      "text/html": [
       "<pre>       Final training RMSE: 3.72948</pre>"
      ],
      "text/plain": [
       "       Final training RMSE: 3.72948"
      ]
     },
     "metadata": {},
     "output_type": "display_data"
    }
   ],
   "source": [
    "rec = graphlab.recommender.factorization_recommender.create(\n",
    "            dfj_rating,\n",
    "            user_id='user_id',\n",
    "            item_id='joke_id',\n",
    "            target='rating',\n",
    "#             regularization=0.00001,\n",
    "            max_iterations=50\n",
    "#             linear_regularization=0.000000000001,\n",
    "#             solver='a',\n",
    "#             nmf=False,\n",
    "#             item_data=graphlab.SFrame(item_data)\n",
    ")"
   ]
  },
  {
   "cell_type": "code",
   "execution_count": 146,
   "metadata": {},
   "outputs": [
    {
     "data": {
      "text/html": [
       "<pre>Recsys training: model = ranking_factorization_recommender</pre>"
      ],
      "text/plain": [
       "Recsys training: model = ranking_factorization_recommender"
      ]
     },
     "metadata": {},
     "output_type": "display_data"
    },
    {
     "data": {
      "text/html": [
       "<pre>Preparing data set.</pre>"
      ],
      "text/plain": [
       "Preparing data set."
      ]
     },
     "metadata": {},
     "output_type": "display_data"
    },
    {
     "data": {
      "text/html": [
       "<pre>    Data has 1218325 observations with 50692 users and 141 items.</pre>"
      ],
      "text/plain": [
       "    Data has 1218325 observations with 50692 users and 141 items."
      ]
     },
     "metadata": {},
     "output_type": "display_data"
    },
    {
     "data": {
      "text/html": [
       "<pre>    Data prepared in: 2.3316s</pre>"
      ],
      "text/plain": [
       "    Data prepared in: 2.3316s"
      ]
     },
     "metadata": {},
     "output_type": "display_data"
    },
    {
     "data": {
      "text/html": [
       "<pre>Training ranking_factorization_recommender for recommendations.</pre>"
      ],
      "text/plain": [
       "Training ranking_factorization_recommender for recommendations."
      ]
     },
     "metadata": {},
     "output_type": "display_data"
    },
    {
     "data": {
      "text/html": [
       "<pre>+--------------------------------+--------------------------------------------------+----------+</pre>"
      ],
      "text/plain": [
       "+--------------------------------+--------------------------------------------------+----------+"
      ]
     },
     "metadata": {},
     "output_type": "display_data"
    },
    {
     "data": {
      "text/html": [
       "<pre>| Parameter                      | Description                                      | Value    |</pre>"
      ],
      "text/plain": [
       "| Parameter                      | Description                                      | Value    |"
      ]
     },
     "metadata": {},
     "output_type": "display_data"
    },
    {
     "data": {
      "text/html": [
       "<pre>+--------------------------------+--------------------------------------------------+----------+</pre>"
      ],
      "text/plain": [
       "+--------------------------------+--------------------------------------------------+----------+"
      ]
     },
     "metadata": {},
     "output_type": "display_data"
    },
    {
     "data": {
      "text/html": [
       "<pre>| num_factors                    | Factor Dimension                                 | 32       |</pre>"
      ],
      "text/plain": [
       "| num_factors                    | Factor Dimension                                 | 32       |"
      ]
     },
     "metadata": {},
     "output_type": "display_data"
    },
    {
     "data": {
      "text/html": [
       "<pre>| regularization                 | L2 Regularization on Factors                     | 1e-09    |</pre>"
      ],
      "text/plain": [
       "| regularization                 | L2 Regularization on Factors                     | 1e-09    |"
      ]
     },
     "metadata": {},
     "output_type": "display_data"
    },
    {
     "data": {
      "text/html": [
       "<pre>| solver                         | Solver used for training                         | sgd      |</pre>"
      ],
      "text/plain": [
       "| solver                         | Solver used for training                         | sgd      |"
      ]
     },
     "metadata": {},
     "output_type": "display_data"
    },
    {
     "data": {
      "text/html": [
       "<pre>| linear_regularization          | L2 Regularization on Linear Coefficients         | 1e-09    |</pre>"
      ],
      "text/plain": [
       "| linear_regularization          | L2 Regularization on Linear Coefficients         | 1e-09    |"
      ]
     },
     "metadata": {},
     "output_type": "display_data"
    },
    {
     "data": {
      "text/html": [
       "<pre>| ranking_regularization         | Rank-based Regularization Weight                 | 0.01     |</pre>"
      ],
      "text/plain": [
       "| ranking_regularization         | Rank-based Regularization Weight                 | 0.01     |"
      ]
     },
     "metadata": {},
     "output_type": "display_data"
    },
    {
     "data": {
      "text/html": [
       "<pre>| max_iterations                 | Maximum Number of Iterations                     | 50       |</pre>"
      ],
      "text/plain": [
       "| max_iterations                 | Maximum Number of Iterations                     | 50       |"
      ]
     },
     "metadata": {},
     "output_type": "display_data"
    },
    {
     "data": {
      "text/html": [
       "<pre>+--------------------------------+--------------------------------------------------+----------+</pre>"
      ],
      "text/plain": [
       "+--------------------------------+--------------------------------------------------+----------+"
      ]
     },
     "metadata": {},
     "output_type": "display_data"
    },
    {
     "data": {
      "text/html": [
       "<pre>  Optimizing model using SGD; tuning step size.</pre>"
      ],
      "text/plain": [
       "  Optimizing model using SGD; tuning step size."
      ]
     },
     "metadata": {},
     "output_type": "display_data"
    },
    {
     "data": {
      "text/html": [
       "<pre>  Using 152290 / 1218325 points for tuning the step size.</pre>"
      ],
      "text/plain": [
       "  Using 152290 / 1218325 points for tuning the step size."
      ]
     },
     "metadata": {},
     "output_type": "display_data"
    },
    {
     "data": {
      "text/html": [
       "<pre>+---------+-------------------+------------------------------------------+</pre>"
      ],
      "text/plain": [
       "+---------+-------------------+------------------------------------------+"
      ]
     },
     "metadata": {},
     "output_type": "display_data"
    },
    {
     "data": {
      "text/html": [
       "<pre>| Attempt | Initial Step Size | Estimated Objective Value                |</pre>"
      ],
      "text/plain": [
       "| Attempt | Initial Step Size | Estimated Objective Value                |"
      ]
     },
     "metadata": {},
     "output_type": "display_data"
    },
    {
     "data": {
      "text/html": [
       "<pre>+---------+-------------------+------------------------------------------+</pre>"
      ],
      "text/plain": [
       "+---------+-------------------+------------------------------------------+"
      ]
     },
     "metadata": {},
     "output_type": "display_data"
    },
    {
     "data": {
      "text/html": [
       "<pre>| 0       | 25                | Not Viable                               |</pre>"
      ],
      "text/plain": [
       "| 0       | 25                | Not Viable                               |"
      ]
     },
     "metadata": {},
     "output_type": "display_data"
    },
    {
     "data": {
      "text/html": [
       "<pre>| 1       | 6.25              | Not Viable                               |</pre>"
      ],
      "text/plain": [
       "| 1       | 6.25              | Not Viable                               |"
      ]
     },
     "metadata": {},
     "output_type": "display_data"
    },
    {
     "data": {
      "text/html": [
       "<pre>| 2       | 1.5625            | Not Viable                               |</pre>"
      ],
      "text/plain": [
       "| 2       | 1.5625            | Not Viable                               |"
      ]
     },
     "metadata": {},
     "output_type": "display_data"
    },
    {
     "data": {
      "text/html": [
       "<pre>| 3       | 0.390625          | Not Viable                               |</pre>"
      ],
      "text/plain": [
       "| 3       | 0.390625          | Not Viable                               |"
      ]
     },
     "metadata": {},
     "output_type": "display_data"
    },
    {
     "data": {
      "text/html": [
       "<pre>| 4       | 0.0976562         | Not Viable                               |</pre>"
      ],
      "text/plain": [
       "| 4       | 0.0976562         | Not Viable                               |"
      ]
     },
     "metadata": {},
     "output_type": "display_data"
    },
    {
     "data": {
      "text/html": [
       "<pre>| 5       | 0.0244141         | 3.17892                                  |</pre>"
      ],
      "text/plain": [
       "| 5       | 0.0244141         | 3.17892                                  |"
      ]
     },
     "metadata": {},
     "output_type": "display_data"
    },
    {
     "data": {
      "text/html": [
       "<pre>| 6       | 0.012207          | 12.5909                                  |</pre>"
      ],
      "text/plain": [
       "| 6       | 0.012207          | 12.5909                                  |"
      ]
     },
     "metadata": {},
     "output_type": "display_data"
    },
    {
     "data": {
      "text/html": [
       "<pre>+---------+-------------------+------------------------------------------+</pre>"
      ],
      "text/plain": [
       "+---------+-------------------+------------------------------------------+"
      ]
     },
     "metadata": {},
     "output_type": "display_data"
    },
    {
     "data": {
      "text/html": [
       "<pre>| Final   | 0.0244141         | 3.17892                                  |</pre>"
      ],
      "text/plain": [
       "| Final   | 0.0244141         | 3.17892                                  |"
      ]
     },
     "metadata": {},
     "output_type": "display_data"
    },
    {
     "data": {
      "text/html": [
       "<pre>+---------+-------------------+------------------------------------------+</pre>"
      ],
      "text/plain": [
       "+---------+-------------------+------------------------------------------+"
      ]
     },
     "metadata": {},
     "output_type": "display_data"
    },
    {
     "data": {
      "text/html": [
       "<pre>Starting Optimization.</pre>"
      ],
      "text/plain": [
       "Starting Optimization."
      ]
     },
     "metadata": {},
     "output_type": "display_data"
    },
    {
     "data": {
      "text/html": [
       "<pre>+---------+--------------+-------------------+-----------------------+-------------+</pre>"
      ],
      "text/plain": [
       "+---------+--------------+-------------------+-----------------------+-------------+"
      ]
     },
     "metadata": {},
     "output_type": "display_data"
    },
    {
     "data": {
      "text/html": [
       "<pre>| Iter.   | Elapsed Time | Approx. Objective | Approx. Training RMSE | Step Size   |</pre>"
      ],
      "text/plain": [
       "| Iter.   | Elapsed Time | Approx. Objective | Approx. Training RMSE | Step Size   |"
      ]
     },
     "metadata": {},
     "output_type": "display_data"
    },
    {
     "data": {
      "text/html": [
       "<pre>+---------+--------------+-------------------+-----------------------+-------------+</pre>"
      ],
      "text/plain": [
       "+---------+--------------+-------------------+-----------------------+-------------+"
      ]
     },
     "metadata": {},
     "output_type": "display_data"
    },
    {
     "data": {
      "text/html": [
       "<pre>| Initial | 7.437ms      | 29.0129           | 5.28578               |             |</pre>"
      ],
      "text/plain": [
       "| Initial | 7.437ms      | 29.0129           | 5.28578               |             |"
      ]
     },
     "metadata": {},
     "output_type": "display_data"
    },
    {
     "data": {
      "text/html": [
       "<pre>+---------+--------------+-------------------+-----------------------+-------------+</pre>"
      ],
      "text/plain": [
       "+---------+--------------+-------------------+-----------------------+-------------+"
      ]
     },
     "metadata": {},
     "output_type": "display_data"
    },
    {
     "data": {
      "text/html": [
       "<pre>| 1       | 3.14s        | DIVERGED          | DIVERGED              | 0.0244141   |</pre>"
      ],
      "text/plain": [
       "| 1       | 3.14s        | DIVERGED          | DIVERGED              | 0.0244141   |"
      ]
     },
     "metadata": {},
     "output_type": "display_data"
    },
    {
     "data": {
      "text/html": [
       "<pre>| RESET   | 4.09s        | 29.0125           | 5.28575               |             |</pre>"
      ],
      "text/plain": [
       "| RESET   | 4.09s        | 29.0125           | 5.28575               |             |"
      ]
     },
     "metadata": {},
     "output_type": "display_data"
    },
    {
     "data": {
      "text/html": [
       "<pre>| 1       | 5.89s        | 20.3998           | 4.39613               | 0.012207    |</pre>"
      ],
      "text/plain": [
       "| 1       | 5.89s        | 20.3998           | 4.39613               | 0.012207    |"
      ]
     },
     "metadata": {},
     "output_type": "display_data"
    },
    {
     "data": {
      "text/html": [
       "<pre>| 2       | 7.63s        | 15.2912           | 3.7667                | 0.00725834  |</pre>"
      ],
      "text/plain": [
       "| 2       | 7.63s        | 15.2912           | 3.7667                | 0.00725834  |"
      ]
     },
     "metadata": {},
     "output_type": "display_data"
    },
    {
     "data": {
      "text/html": [
       "<pre>| 3       | 9.38s        | 10.5234           | 3.06575               | 0.00535512  |</pre>"
      ],
      "text/plain": [
       "| 3       | 9.38s        | 10.5234           | 3.06575               | 0.00535512  |"
      ]
     },
     "metadata": {},
     "output_type": "display_data"
    },
    {
     "data": {
      "text/html": [
       "<pre>| 4       | 11.11s       | 8.57371           | 2.72735               | 0.00431584  |</pre>"
      ],
      "text/plain": [
       "| 4       | 11.11s       | 8.57371           | 2.72735               | 0.00431584  |"
      ]
     },
     "metadata": {},
     "output_type": "display_data"
    },
    {
     "data": {
      "text/html": [
       "<pre>| 5       | 12.83s       | 7.5851            | 2.53793               | 0.00365075  |</pre>"
      ],
      "text/plain": [
       "| 5       | 12.83s       | 7.5851            | 2.53793               | 0.00365075  |"
      ]
     },
     "metadata": {},
     "output_type": "display_data"
    },
    {
     "data": {
      "text/html": [
       "<pre>| 6       | 14.60s       | 7.01072           | 2.42136               | 0.00318417  |</pre>"
      ],
      "text/plain": [
       "| 6       | 14.60s       | 7.01072           | 2.42136               | 0.00318417  |"
      ]
     },
     "metadata": {},
     "output_type": "display_data"
    },
    {
     "data": {
      "text/html": [
       "<pre>| 7       | 16.32s       | 6.64717           | 2.34396               | 0.00283652  |</pre>"
      ],
      "text/plain": [
       "| 7       | 16.32s       | 6.64717           | 2.34396               | 0.00283652  |"
      ]
     },
     "metadata": {},
     "output_type": "display_data"
    },
    {
     "data": {
      "text/html": [
       "<pre>| 8       | 18.07s       | 6.35165           | 2.27986               | 0.00256621  |</pre>"
      ],
      "text/plain": [
       "| 8       | 18.07s       | 6.35165           | 2.27986               | 0.00256621  |"
      ]
     },
     "metadata": {},
     "output_type": "display_data"
    },
    {
     "data": {
      "text/html": [
       "<pre>| 9       | 19.84s       | 6.15188           | 2.23558               | 0.00234924  |</pre>"
      ],
      "text/plain": [
       "| 9       | 19.84s       | 6.15188           | 2.23558               | 0.00234924  |"
      ]
     },
     "metadata": {},
     "output_type": "display_data"
    },
    {
     "data": {
      "text/html": [
       "<pre>| 10      | 21.57s       | 5.99352           | 2.19979               | 0.00217075  |</pre>"
      ],
      "text/plain": [
       "| 10      | 21.57s       | 5.99352           | 2.19979               | 0.00217075  |"
      ]
     },
     "metadata": {},
     "output_type": "display_data"
    },
    {
     "data": {
      "text/html": [
       "<pre>| 11      | 23.32s       | 5.83946           | 2.16435               | 0.002021    |</pre>"
      ],
      "text/plain": [
       "| 11      | 23.32s       | 5.83946           | 2.16435               | 0.002021    |"
      ]
     },
     "metadata": {},
     "output_type": "display_data"
    },
    {
     "data": {
      "text/html": [
       "<pre>| 12      | 25.10s       | 5.75292           | 2.14434               | 0.00189332  |</pre>"
      ],
      "text/plain": [
       "| 12      | 25.10s       | 5.75292           | 2.14434               | 0.00189332  |"
      ]
     },
     "metadata": {},
     "output_type": "display_data"
    },
    {
     "data": {
      "text/html": [
       "<pre>| 13      | 26.91s       | 5.64415           | 2.11888               | 0.001783    |</pre>"
      ],
      "text/plain": [
       "| 13      | 26.91s       | 5.64415           | 2.11888               | 0.001783    |"
      ]
     },
     "metadata": {},
     "output_type": "display_data"
    },
    {
     "data": {
      "text/html": [
       "<pre>| 14      | 28.70s       | 5.56505           | 2.10026               | 0.00168661  |</pre>"
      ],
      "text/plain": [
       "| 14      | 28.70s       | 5.56505           | 2.10026               | 0.00168661  |"
      ]
     },
     "metadata": {},
     "output_type": "display_data"
    },
    {
     "data": {
      "text/html": [
       "<pre>| 15      | 30.47s       | 5.49246           | 2.08293               | 0.00160155  |</pre>"
      ],
      "text/plain": [
       "| 15      | 30.47s       | 5.49246           | 2.08293               | 0.00160155  |"
      ]
     },
     "metadata": {},
     "output_type": "display_data"
    },
    {
     "data": {
      "text/html": [
       "<pre>| 16      | 32.22s       | 5.44305           | 2.07124               | 0.00152588  |</pre>"
      ],
      "text/plain": [
       "| 16      | 32.22s       | 5.44305           | 2.07124               | 0.00152588  |"
      ]
     },
     "metadata": {},
     "output_type": "display_data"
    },
    {
     "data": {
      "text/html": [
       "<pre>| 17      | 34.07s       | 5.37761           | 2.0555                | 0.00145805  |</pre>"
      ],
      "text/plain": [
       "| 17      | 34.07s       | 5.37761           | 2.0555                | 0.00145805  |"
      ]
     },
     "metadata": {},
     "output_type": "display_data"
    },
    {
     "data": {
      "text/html": [
       "<pre>| 18      | 35.84s       | 5.33546           | 2.04533               | 0.00139687  |</pre>"
      ],
      "text/plain": [
       "| 18      | 35.84s       | 5.33546           | 2.04533               | 0.00139687  |"
      ]
     },
     "metadata": {},
     "output_type": "display_data"
    },
    {
     "data": {
      "text/html": [
       "<pre>| 19      | 37.58s       | 5.27718           | 2.03175               | 0.00134136  |</pre>"
      ],
      "text/plain": [
       "| 19      | 37.58s       | 5.27718           | 2.03175               | 0.00134136  |"
      ]
     },
     "metadata": {},
     "output_type": "display_data"
    },
    {
     "data": {
      "text/html": [
       "<pre>| 20      | 39.39s       | 5.23757           | 2.02193               | 0.00129074  |</pre>"
      ],
      "text/plain": [
       "| 20      | 39.39s       | 5.23757           | 2.02193               | 0.00129074  |"
      ]
     },
     "metadata": {},
     "output_type": "display_data"
    },
    {
     "data": {
      "text/html": [
       "<pre>| 21      | 41.15s       | 5.20425           | 2.01391               | 0.00124436  |</pre>"
      ],
      "text/plain": [
       "| 21      | 41.15s       | 5.20425           | 2.01391               | 0.00124436  |"
      ]
     },
     "metadata": {},
     "output_type": "display_data"
    },
    {
     "data": {
      "text/html": [
       "<pre>| 22      | 42.89s       | 5.17612           | 2.00686               | 0.00120169  |</pre>"
      ],
      "text/plain": [
       "| 22      | 42.89s       | 5.17612           | 2.00686               | 0.00120169  |"
      ]
     },
     "metadata": {},
     "output_type": "display_data"
    },
    {
     "data": {
      "text/html": [
       "<pre>| 23      | 44.68s       | 5.14225           | 1.99869               | 0.00116229  |</pre>"
      ],
      "text/plain": [
       "| 23      | 44.68s       | 5.14225           | 1.99869               | 0.00116229  |"
      ]
     },
     "metadata": {},
     "output_type": "display_data"
    },
    {
     "data": {
      "text/html": [
       "<pre>| 24      | 46.44s       | 5.11565           | 1.99225               | 0.00112578  |</pre>"
      ],
      "text/plain": [
       "| 24      | 46.44s       | 5.11565           | 1.99225               | 0.00112578  |"
      ]
     },
     "metadata": {},
     "output_type": "display_data"
    },
    {
     "data": {
      "text/html": [
       "<pre>| 25      | 48.22s       | 5.08302           | 1.98438               | 0.00109183  |</pre>"
      ],
      "text/plain": [
       "| 25      | 48.22s       | 5.08302           | 1.98438               | 0.00109183  |"
      ]
     },
     "metadata": {},
     "output_type": "display_data"
    },
    {
     "data": {
      "text/html": [
       "<pre>| 26      | 49.97s       | 5.06567           | 1.98004               | 0.00106018  |</pre>"
      ],
      "text/plain": [
       "| 26      | 49.97s       | 5.06567           | 1.98004               | 0.00106018  |"
      ]
     },
     "metadata": {},
     "output_type": "display_data"
    },
    {
     "data": {
      "text/html": [
       "<pre>| 27      | 51.72s       | 5.03444           | 1.97285               | 0.00103059  |</pre>"
      ],
      "text/plain": [
       "| 27      | 51.72s       | 5.03444           | 1.97285               | 0.00103059  |"
      ]
     },
     "metadata": {},
     "output_type": "display_data"
    },
    {
     "data": {
      "text/html": [
       "<pre>| 28      | 53.47s       | 5.01782           | 1.96847               | 0.00100286  |</pre>"
      ],
      "text/plain": [
       "| 28      | 53.47s       | 5.01782           | 1.96847               | 0.00100286  |"
      ]
     },
     "metadata": {},
     "output_type": "display_data"
    },
    {
     "data": {
      "text/html": [
       "<pre>| 29      | 55.23s       | 4.99589           | 1.96309               | 0.000976813 |</pre>"
      ],
      "text/plain": [
       "| 29      | 55.23s       | 4.99589           | 1.96309               | 0.000976813 |"
      ]
     },
     "metadata": {},
     "output_type": "display_data"
    },
    {
     "data": {
      "text/html": [
       "<pre>| 30      | 56.99s       | 4.9741            | 1.95808               | 0.00095229  |</pre>"
      ],
      "text/plain": [
       "| 30      | 56.99s       | 4.9741            | 1.95808               | 0.00095229  |"
      ]
     },
     "metadata": {},
     "output_type": "display_data"
    },
    {
     "data": {
      "text/html": [
       "<pre>| 31      | 58.77s       | 4.96021           | 1.95471               | 0.000929156 |</pre>"
      ],
      "text/plain": [
       "| 31      | 58.77s       | 4.96021           | 1.95471               | 0.000929156 |"
      ]
     },
     "metadata": {},
     "output_type": "display_data"
    },
    {
     "data": {
      "text/html": [
       "<pre>| 32      | 1m 0s        | 4.94034           | 1.94967               | 0.000907293 |</pre>"
      ],
      "text/plain": [
       "| 32      | 1m 0s        | 4.94034           | 1.94967               | 0.000907293 |"
      ]
     },
     "metadata": {},
     "output_type": "display_data"
    },
    {
     "data": {
      "text/html": [
       "<pre>| 33      | 1m 2s        | 4.92413           | 1.94577               | 0.000886594 |</pre>"
      ],
      "text/plain": [
       "| 33      | 1m 2s        | 4.92413           | 1.94577               | 0.000886594 |"
      ]
     },
     "metadata": {},
     "output_type": "display_data"
    },
    {
     "data": {
      "text/html": [
       "<pre>| 34      | 1m 4s        | 4.90739           | 1.94175               | 0.000866964 |</pre>"
      ],
      "text/plain": [
       "| 34      | 1m 4s        | 4.90739           | 1.94175               | 0.000866964 |"
      ]
     },
     "metadata": {},
     "output_type": "display_data"
    },
    {
     "data": {
      "text/html": [
       "<pre>| 35      | 1m 6s        | 4.88991           | 1.93757               | 0.000848319 |</pre>"
      ],
      "text/plain": [
       "| 35      | 1m 6s        | 4.88991           | 1.93757               | 0.000848319 |"
      ]
     },
     "metadata": {},
     "output_type": "display_data"
    },
    {
     "data": {
      "text/html": [
       "<pre>| 36      | 1m 8s        | 4.88147           | 1.93537               | 0.000830583 |</pre>"
      ],
      "text/plain": [
       "| 36      | 1m 8s        | 4.88147           | 1.93537               | 0.000830583 |"
      ]
     },
     "metadata": {},
     "output_type": "display_data"
    },
    {
     "data": {
      "text/html": [
       "<pre>| 37      | 1m 11s       | 4.86451           | 1.93164               | 0.00081369  |</pre>"
      ],
      "text/plain": [
       "| 37      | 1m 11s       | 4.86451           | 1.93164               | 0.00081369  |"
      ]
     },
     "metadata": {},
     "output_type": "display_data"
    },
    {
     "data": {
      "text/html": [
       "<pre>| 38      | 1m 14s       | 4.85305           | 1.929                 | 0.000797577 |</pre>"
      ],
      "text/plain": [
       "| 38      | 1m 14s       | 4.85305           | 1.929                 | 0.000797577 |"
      ]
     },
     "metadata": {},
     "output_type": "display_data"
    },
    {
     "data": {
      "text/html": [
       "<pre>| 39      | 1m 16s       | 4.84515           | 1.92649               | 0.000782189 |</pre>"
      ],
      "text/plain": [
       "| 39      | 1m 16s       | 4.84515           | 1.92649               | 0.000782189 |"
      ]
     },
     "metadata": {},
     "output_type": "display_data"
    },
    {
     "data": {
      "text/html": [
       "<pre>| 40      | 1m 18s       | 4.82959           | 1.92298               | 0.000767476 |</pre>"
      ],
      "text/plain": [
       "| 40      | 1m 18s       | 4.82959           | 1.92298               | 0.000767476 |"
      ]
     },
     "metadata": {},
     "output_type": "display_data"
    },
    {
     "data": {
      "text/html": [
       "<pre>| 41      | 1m 20s       | 4.81631           | 1.91991               | 0.000753394 |</pre>"
      ],
      "text/plain": [
       "| 41      | 1m 20s       | 4.81631           | 1.91991               | 0.000753394 |"
      ]
     },
     "metadata": {},
     "output_type": "display_data"
    },
    {
     "data": {
      "text/html": [
       "<pre>| 42      | 1m 22s       | 4.80689           | 1.91729               | 0.0007399   |</pre>"
      ],
      "text/plain": [
       "| 42      | 1m 22s       | 4.80689           | 1.91729               | 0.0007399   |"
      ]
     },
     "metadata": {},
     "output_type": "display_data"
    },
    {
     "data": {
      "text/html": [
       "<pre>| 43      | 1m 24s       | 4.79906           | 1.91576               | 0.000726957 |</pre>"
      ],
      "text/plain": [
       "| 43      | 1m 24s       | 4.79906           | 1.91576               | 0.000726957 |"
      ]
     },
     "metadata": {},
     "output_type": "display_data"
    },
    {
     "data": {
      "text/html": [
       "<pre>| 44      | 1m 26s       | 4.7851            | 1.91227               | 0.00071453  |</pre>"
      ],
      "text/plain": [
       "| 44      | 1m 26s       | 4.7851            | 1.91227               | 0.00071453  |"
      ]
     },
     "metadata": {},
     "output_type": "display_data"
    },
    {
     "data": {
      "text/html": [
       "<pre>| 45      | 1m 28s       | 4.77328           | 1.90923               | 0.000702588 |</pre>"
      ],
      "text/plain": [
       "| 45      | 1m 28s       | 4.77328           | 1.90923               | 0.000702588 |"
      ]
     },
     "metadata": {},
     "output_type": "display_data"
    },
    {
     "data": {
      "text/html": [
       "<pre>| 46      | 1m 29s       | 4.76891           | 1.9084                | 0.000691101 |</pre>"
      ],
      "text/plain": [
       "| 46      | 1m 29s       | 4.76891           | 1.9084                | 0.000691101 |"
      ]
     },
     "metadata": {},
     "output_type": "display_data"
    },
    {
     "data": {
      "text/html": [
       "<pre>| 47      | 1m 31s       | 4.75792           | 1.90579               | 0.000680043 |</pre>"
      ],
      "text/plain": [
       "| 47      | 1m 31s       | 4.75792           | 1.90579               | 0.000680043 |"
      ]
     },
     "metadata": {},
     "output_type": "display_data"
    },
    {
     "data": {
      "text/html": [
       "<pre>| 48      | 1m 33s       | 4.74716           | 1.90285               | 0.00066939  |</pre>"
      ],
      "text/plain": [
       "| 48      | 1m 33s       | 4.74716           | 1.90285               | 0.00066939  |"
      ]
     },
     "metadata": {},
     "output_type": "display_data"
    },
    {
     "data": {
      "text/html": [
       "<pre>| 49      | 1m 34s       | 4.73862           | 1.90125               | 0.000659118 |</pre>"
      ],
      "text/plain": [
       "| 49      | 1m 34s       | 4.73862           | 1.90125               | 0.000659118 |"
      ]
     },
     "metadata": {},
     "output_type": "display_data"
    },
    {
     "data": {
      "text/html": [
       "<pre>| 50      | 1m 36s       | 4.73276           | 1.89972               | 0.000649206 |</pre>"
      ],
      "text/plain": [
       "| 50      | 1m 36s       | 4.73276           | 1.89972               | 0.000649206 |"
      ]
     },
     "metadata": {},
     "output_type": "display_data"
    },
    {
     "data": {
      "text/html": [
       "<pre>+---------+--------------+-------------------+-----------------------+-------------+</pre>"
      ],
      "text/plain": [
       "+---------+--------------+-------------------+-----------------------+-------------+"
      ]
     },
     "metadata": {},
     "output_type": "display_data"
    },
    {
     "data": {
      "text/html": [
       "<pre>Optimization Complete: Maximum number of passes through the data reached.</pre>"
      ],
      "text/plain": [
       "Optimization Complete: Maximum number of passes through the data reached."
      ]
     },
     "metadata": {},
     "output_type": "display_data"
    },
    {
     "data": {
      "text/html": [
       "<pre>Computing final objective value and training RMSE.</pre>"
      ],
      "text/plain": [
       "Computing final objective value and training RMSE."
      ]
     },
     "metadata": {},
     "output_type": "display_data"
    },
    {
     "data": {
      "text/html": [
       "<pre>       Final objective value: 5.02398</pre>"
      ],
      "text/plain": [
       "       Final objective value: 5.02398"
      ]
     },
     "metadata": {},
     "output_type": "display_data"
    },
    {
     "data": {
      "text/html": [
       "<pre>       Final training RMSE: 1.83737</pre>"
      ],
      "text/plain": [
       "       Final training RMSE: 1.83737"
      ]
     },
     "metadata": {},
     "output_type": "display_data"
    }
   ],
   "source": [
    "rec_rank = graphlab.recommender.ranking_factorization_recommender.create(\n",
    "          df_rating,\n",
    "           user_id='user_id',\n",
    "           item_id='joke_id',\n",
    "           target='rating',  \n",
    "#            item_data = graphlab.SFrame(item_data),\n",
    "           max_iterations=50,\n",
    "           ranking_regularization = 0.01)"
   ]
  },
  {
   "cell_type": "code",
   "execution_count": 12,
   "metadata": {
    "collapsed": true
   },
   "outputs": [],
   "source": [
    "predictions = rec.predict(df_rating)"
   ]
  },
  {
   "cell_type": "code",
   "execution_count": 13,
   "metadata": {
    "scrolled": true
   },
   "outputs": [
    {
     "data": {
      "text/plain": [
       "dtype: float\n",
       "Rows: 1218325\n",
       "[-9.6663455238833, 4.352029578290891, 2.176064828417596, -2.1962987797301317, 2.150834846883666, 9.458341743109091, 2.169294975281912, 3.4023782679211405, 1.271953702795022, 10.563156510618454, 1.4232212213764612, 9.452161073154498, -9.498571679269627, -9.607740188727561, -9.754951590048728, -4.287012003532103, -9.81406045965668, 6.4492832103139515, -9.472855885803467, -3.3082735432018953, 1.4331004752586802, 4.338951835307287, -2.2560804796305263, 5.436656590264925, 8.701735132353727, 5.506809713807196, 8.572789413478812, 5.367318317339148, 6.837457953015441, -9.588656213625093, 1.2297659785198576, -7.640486542651948, 9.500594370762272, -5.379168346705521, -1.0752813692535126, 5.463116878926139, 1.3080675193670857, -0.9692910292839929, -3.2770620782040485, 7.533064278697417, -0.036211809347678675, 1.1703880847052013, 1.1470619803300375, 2.2268758674342926, 0.06586559884938409, -3.4105462692133037, 3.3212716844585213, 6.605249614602033, 1.0732460715459335, 5.398069602039136, 2.19347704433271, 1.1082557509886708, 9.702924241555198, -0.9282906272806957, -2.186351144171173, 3.49288109589083, 1.2045550459924372, 7.596176913400512, -7.299858050522163, 0.1265074819960022, 2.3333506310679177, -2.0105114899638243, 6.49826070667149, 1.0871182801929373, 6.418855117671522, 4.457113988315371, 4.5225960941846175, -8.618775684338782, 3.3237357358415625, 9.402225404242685, -3.3751942282471274, 5.7977684008051815, 1.2238212792243124, -9.731056354719394, 5.450267982376314, 0.1743980988111421, 3.3753195268299856, 6.532538010886017, 3.3566319235413773, 5.469251512327373, 3.295683996403393, 9.806331543268673, 8.6080624745026, 4.502119759306769, 9.58733311647373, 1.2804214912460017, -9.684141785981032, -4.3351036649132375, 8.484449991624732, 4.580956092100601, 4.309382487159223, 2.411110498007147, 6.32574884521489, 1.2427727991067488, 1.170627035115558, -6.524601764386721, 1.213257781374269, 9.764784681901904, -0.14465448837755213, 6.5333929748293995, ... ]"
      ]
     },
     "execution_count": 13,
     "metadata": {},
     "output_type": "execute_result"
    }
   ],
   "source": [
    "predictions"
   ]
  },
  {
   "cell_type": "code",
   "execution_count": 25,
   "metadata": {
    "scrolled": false
   },
   "outputs": [
    {
     "ename": "RuntimeError",
     "evalue": "Runtime Exception. Column name ratebins does not exist.",
     "output_type": "error",
     "traceback": [
      "\u001b[1;31m---------------------------------------------------------------------------\u001b[0m",
      "\u001b[1;31mRuntimeError\u001b[0m                              Traceback (most recent call last)",
      "\u001b[1;32m<ipython-input-25-64ceee7b54f5>\u001b[0m in \u001b[0;36m<module>\u001b[1;34m()\u001b[0m\n\u001b[0;32m      1\u001b[0m \u001b[0mplt\u001b[0m\u001b[1;33m.\u001b[0m\u001b[0mfigure\u001b[0m\u001b[1;33m(\u001b[0m\u001b[0mfigsize\u001b[0m\u001b[1;33m=\u001b[0m\u001b[1;33m(\u001b[0m\u001b[1;36m12\u001b[0m\u001b[1;33m,\u001b[0m \u001b[1;36m6\u001b[0m\u001b[1;33m)\u001b[0m\u001b[1;33m)\u001b[0m\u001b[1;33m\u001b[0m\u001b[0m\n\u001b[1;32m----> 2\u001b[1;33m \u001b[0mdata\u001b[0m \u001b[1;33m=\u001b[0m \u001b[1;33m[\u001b[0m\u001b[0mpredictions\u001b[0m\u001b[1;33m[\u001b[0m\u001b[0mdf_rating\u001b[0m\u001b[1;33m[\u001b[0m\u001b[1;34m'ratebins'\u001b[0m\u001b[1;33m]\u001b[0m \u001b[1;33m==\u001b[0m \u001b[0mrate\u001b[0m\u001b[1;33m]\u001b[0m \u001b[1;32mfor\u001b[0m \u001b[0mrate\u001b[0m \u001b[1;32min\u001b[0m \u001b[0mrange\u001b[0m\u001b[1;33m(\u001b[0m\u001b[1;33m-\u001b[0m\u001b[1;36m10\u001b[0m\u001b[1;33m,\u001b[0m \u001b[1;36m11\u001b[0m\u001b[1;33m)\u001b[0m\u001b[1;33m]\u001b[0m\u001b[1;33m\u001b[0m\u001b[0m\n\u001b[0m\u001b[0;32m      3\u001b[0m \u001b[0mplt\u001b[0m\u001b[1;33m.\u001b[0m\u001b[0mviolinplot\u001b[0m\u001b[1;33m(\u001b[0m\u001b[0mdata\u001b[0m\u001b[1;33m,\u001b[0m \u001b[0mrange\u001b[0m\u001b[1;33m(\u001b[0m\u001b[1;33m-\u001b[0m\u001b[1;36m10\u001b[0m\u001b[1;33m,\u001b[0m\u001b[1;36m11\u001b[0m\u001b[1;33m)\u001b[0m\u001b[1;33m,\u001b[0m \u001b[0mshowmeans\u001b[0m\u001b[1;33m=\u001b[0m\u001b[0mTrue\u001b[0m\u001b[1;33m)\u001b[0m\u001b[1;33m\u001b[0m\u001b[0m\n\u001b[0;32m      4\u001b[0m \u001b[0mplt\u001b[0m\u001b[1;33m.\u001b[0m\u001b[0mshow\u001b[0m\u001b[1;33m(\u001b[0m\u001b[1;33m)\u001b[0m\u001b[1;33m\u001b[0m\u001b[0m\n",
      "\u001b[1;32m/home/tomas/anaconda3/envs/gl-env/lib/python2.7/site-packages/graphlab/data_structures/sframe.pyc\u001b[0m in \u001b[0;36m__getitem__\u001b[1;34m(self, key)\u001b[0m\n\u001b[0;32m   3996\u001b[0m             \u001b[1;32mreturn\u001b[0m \u001b[0mself\u001b[0m\u001b[1;33m.\u001b[0m\u001b[0m_row_selector\u001b[0m\u001b[1;33m(\u001b[0m\u001b[0mkey\u001b[0m\u001b[1;33m)\u001b[0m\u001b[1;33m\u001b[0m\u001b[0m\n\u001b[0;32m   3997\u001b[0m         \u001b[1;32melif\u001b[0m \u001b[0mtype\u001b[0m\u001b[1;33m(\u001b[0m\u001b[0mkey\u001b[0m\u001b[1;33m)\u001b[0m \u001b[1;32mis\u001b[0m \u001b[0mstr\u001b[0m\u001b[1;33m:\u001b[0m\u001b[1;33m\u001b[0m\u001b[0m\n\u001b[1;32m-> 3998\u001b[1;33m             \u001b[1;32mreturn\u001b[0m \u001b[0mself\u001b[0m\u001b[1;33m.\u001b[0m\u001b[0mselect_column\u001b[0m\u001b[1;33m(\u001b[0m\u001b[0mkey\u001b[0m\u001b[1;33m)\u001b[0m\u001b[1;33m\u001b[0m\u001b[0m\n\u001b[0m\u001b[0;32m   3999\u001b[0m         \u001b[1;32melif\u001b[0m \u001b[0mtype\u001b[0m\u001b[1;33m(\u001b[0m\u001b[0mkey\u001b[0m\u001b[1;33m)\u001b[0m \u001b[1;32mis\u001b[0m \u001b[0mtype\u001b[0m\u001b[1;33m:\u001b[0m\u001b[1;33m\u001b[0m\u001b[0m\n\u001b[0;32m   4000\u001b[0m             \u001b[1;32mreturn\u001b[0m \u001b[0mself\u001b[0m\u001b[1;33m.\u001b[0m\u001b[0mselect_columns\u001b[0m\u001b[1;33m(\u001b[0m\u001b[1;33m[\u001b[0m\u001b[0mkey\u001b[0m\u001b[1;33m]\u001b[0m\u001b[1;33m)\u001b[0m\u001b[1;33m\u001b[0m\u001b[0m\n",
      "\u001b[1;32m/home/tomas/anaconda3/envs/gl-env/lib/python2.7/site-packages/graphlab/data_structures/sframe.pyc\u001b[0m in \u001b[0;36mselect_column\u001b[1;34m(self, key)\u001b[0m\n\u001b[0;32m   3599\u001b[0m             \u001b[1;32mraise\u001b[0m \u001b[0mTypeError\u001b[0m\u001b[1;33m(\u001b[0m\u001b[1;34m\"Invalid key type: must be str\"\u001b[0m\u001b[1;33m)\u001b[0m\u001b[1;33m\u001b[0m\u001b[0m\n\u001b[0;32m   3600\u001b[0m         \u001b[1;32mwith\u001b[0m \u001b[0mcython_context\u001b[0m\u001b[1;33m(\u001b[0m\u001b[1;33m)\u001b[0m\u001b[1;33m:\u001b[0m\u001b[1;33m\u001b[0m\u001b[0m\n\u001b[1;32m-> 3601\u001b[1;33m             \u001b[1;32mreturn\u001b[0m \u001b[0mSArray\u001b[0m\u001b[1;33m(\u001b[0m\u001b[0mdata\u001b[0m\u001b[1;33m=\u001b[0m\u001b[1;33m[\u001b[0m\u001b[1;33m]\u001b[0m\u001b[1;33m,\u001b[0m \u001b[0m_proxy\u001b[0m\u001b[1;33m=\u001b[0m\u001b[0mself\u001b[0m\u001b[1;33m.\u001b[0m\u001b[0m__proxy__\u001b[0m\u001b[1;33m.\u001b[0m\u001b[0mselect_column\u001b[0m\u001b[1;33m(\u001b[0m\u001b[0mkey\u001b[0m\u001b[1;33m)\u001b[0m\u001b[1;33m)\u001b[0m\u001b[1;33m\u001b[0m\u001b[0m\n\u001b[0m\u001b[0;32m   3602\u001b[0m \u001b[1;33m\u001b[0m\u001b[0m\n\u001b[0;32m   3603\u001b[0m     \u001b[1;32mdef\u001b[0m \u001b[0mselect_columns\u001b[0m\u001b[1;33m(\u001b[0m\u001b[0mself\u001b[0m\u001b[1;33m,\u001b[0m \u001b[0mkeylist\u001b[0m\u001b[1;33m)\u001b[0m\u001b[1;33m:\u001b[0m\u001b[1;33m\u001b[0m\u001b[0m\n",
      "\u001b[1;32m/home/tomas/anaconda3/envs/gl-env/lib/python2.7/site-packages/graphlab/cython/context.pyc\u001b[0m in \u001b[0;36m__exit__\u001b[1;34m(self, exc_type, exc_value, traceback)\u001b[0m\n\u001b[0;32m     47\u001b[0m             \u001b[1;32mif\u001b[0m \u001b[1;32mnot\u001b[0m \u001b[0mself\u001b[0m\u001b[1;33m.\u001b[0m\u001b[0mshow_cython_trace\u001b[0m\u001b[1;33m:\u001b[0m\u001b[1;33m\u001b[0m\u001b[0m\n\u001b[0;32m     48\u001b[0m                 \u001b[1;31m# To hide cython trace, we re-raise from here\u001b[0m\u001b[1;33m\u001b[0m\u001b[1;33m\u001b[0m\u001b[0m\n\u001b[1;32m---> 49\u001b[1;33m                 \u001b[1;32mraise\u001b[0m \u001b[0mexc_type\u001b[0m\u001b[1;33m(\u001b[0m\u001b[0mexc_value\u001b[0m\u001b[1;33m)\u001b[0m\u001b[1;33m\u001b[0m\u001b[0m\n\u001b[0m\u001b[0;32m     50\u001b[0m             \u001b[1;32melse\u001b[0m\u001b[1;33m:\u001b[0m\u001b[1;33m\u001b[0m\u001b[0m\n\u001b[0;32m     51\u001b[0m                 \u001b[1;31m# To show the full trace, we do nothing and let exception propagate\u001b[0m\u001b[1;33m\u001b[0m\u001b[1;33m\u001b[0m\u001b[0m\n",
      "\u001b[1;31mRuntimeError\u001b[0m: Runtime Exception. Column name ratebins does not exist."
     ]
    },
    {
     "data": {
      "text/plain": [
       "<matplotlib.figure.Figure at 0x7f7585862ed0>"
      ]
     },
     "metadata": {},
     "output_type": "display_data"
    }
   ],
   "source": [
    "plt.figure(figsize=(12, 6))\n",
    "data = [predictions[df_rating['ratebins'] == rate] for rate in range(-10, 11)]\n",
    "plt.violinplot(data, range(-10,11), showmeans=True)\n",
    "plt.show()"
   ]
  },
  {
   "cell_type": "markdown",
   "metadata": {},
   "source": [
    "### NMF"
   ]
  },
  {
   "cell_type": "code",
   "execution_count": 82,
   "metadata": {
    "collapsed": true
   },
   "outputs": [],
   "source": [
    "from sklearn.feature_extraction.text import TfidfVectorizer\n",
    "vecterizer = TfidfVectorizer()\n",
    "vec_joke = vecterizer.fit_transform(df_jokes['content'])"
   ]
  },
  {
   "cell_type": "code",
   "execution_count": 95,
   "metadata": {
    "collapsed": true
   },
   "outputs": [],
   "source": [
    "from sklearn.decomposition import NMF\n",
    "model = NMF(n_components=7, init='random', random_state=0)\n",
    "W = model.fit_transform(vec_joke)\n",
    "H = model.components_"
   ]
  },
  {
   "cell_type": "code",
   "execution_count": 96,
   "metadata": {
    "collapsed": true
   },
   "outputs": [],
   "source": [
    "item_data = pd.DataFrame(W)\n",
    "item_data['joke_id']= item_data.index+1"
   ]
  },
  {
   "cell_type": "markdown",
   "metadata": {},
   "source": [
    "### PCA"
   ]
  },
  {
   "cell_type": "code",
   "execution_count": 9,
   "metadata": {
    "collapsed": true
   },
   "outputs": [],
   "source": [
    "from sklearn.decomposition import PCA\n",
    "\n",
    "pca = PCA(n_components=10)"
   ]
  },
  {
   "cell_type": "markdown",
   "metadata": {},
   "source": [
    "### Submission"
   ]
  },
  {
   "cell_type": "code",
   "execution_count": null,
   "metadata": {
    "scrolled": true
   },
   "outputs": [],
   "source": [
    "sub_df = pd.read_csv('data/test_ratings.csv')\n",
    "submission = pd.DataFrame({ '': sub_df['Id'],\n",
    "                            'Survived': predictions })\n",
    "submission.to_csv(\"submission.csv\", index=False)"
   ]
  },
  {
   "cell_type": "code",
   "execution_count": 31,
   "metadata": {},
   "outputs": [],
   "source": [
    "train_data, test_data = graphlab.recommender.util.random_split_by_user(df_rating,\n",
    "            user_id='user_id',\n",
    "            item_id='joke_id')"
   ]
  },
  {
   "cell_type": "code",
   "execution_count": 32,
   "metadata": {},
   "outputs": [
    {
     "data": {
      "text/html": [
       "<pre>Recsys training: model = factorization_recommender</pre>"
      ],
      "text/plain": [
       "Recsys training: model = factorization_recommender"
      ]
     },
     "metadata": {},
     "output_type": "display_data"
    },
    {
     "data": {
      "text/html": [
       "<pre>Preparing data set.</pre>"
      ],
      "text/plain": [
       "Preparing data set."
      ]
     },
     "metadata": {},
     "output_type": "display_data"
    },
    {
     "data": {
      "text/html": [
       "<pre>    Data has 1213489 observations with 50692 users and 151 items.</pre>"
      ],
      "text/plain": [
       "    Data has 1213489 observations with 50692 users and 151 items."
      ]
     },
     "metadata": {},
     "output_type": "display_data"
    },
    {
     "data": {
      "text/html": [
       "<pre>    Data prepared in: 2.1923s</pre>"
      ],
      "text/plain": [
       "    Data prepared in: 2.1923s"
      ]
     },
     "metadata": {},
     "output_type": "display_data"
    },
    {
     "data": {
      "text/html": [
       "<pre>Training factorization_recommender for recommendations.</pre>"
      ],
      "text/plain": [
       "Training factorization_recommender for recommendations."
      ]
     },
     "metadata": {},
     "output_type": "display_data"
    },
    {
     "data": {
      "text/html": [
       "<pre>+--------------------------------+--------------------------------------------------+----------+</pre>"
      ],
      "text/plain": [
       "+--------------------------------+--------------------------------------------------+----------+"
      ]
     },
     "metadata": {},
     "output_type": "display_data"
    },
    {
     "data": {
      "text/html": [
       "<pre>| Parameter                      | Description                                      | Value    |</pre>"
      ],
      "text/plain": [
       "| Parameter                      | Description                                      | Value    |"
      ]
     },
     "metadata": {},
     "output_type": "display_data"
    },
    {
     "data": {
      "text/html": [
       "<pre>+--------------------------------+--------------------------------------------------+----------+</pre>"
      ],
      "text/plain": [
       "+--------------------------------+--------------------------------------------------+----------+"
      ]
     },
     "metadata": {},
     "output_type": "display_data"
    },
    {
     "data": {
      "text/html": [
       "<pre>| num_factors                    | Factor Dimension                                 | 8        |</pre>"
      ],
      "text/plain": [
       "| num_factors                    | Factor Dimension                                 | 8        |"
      ]
     },
     "metadata": {},
     "output_type": "display_data"
    },
    {
     "data": {
      "text/html": [
       "<pre>| regularization                 | L2 Regularization on Factors                     | 1e-08    |</pre>"
      ],
      "text/plain": [
       "| regularization                 | L2 Regularization on Factors                     | 1e-08    |"
      ]
     },
     "metadata": {},
     "output_type": "display_data"
    },
    {
     "data": {
      "text/html": [
       "<pre>| solver                         | Solver used for training                         | adagrad  |</pre>"
      ],
      "text/plain": [
       "| solver                         | Solver used for training                         | adagrad  |"
      ]
     },
     "metadata": {},
     "output_type": "display_data"
    },
    {
     "data": {
      "text/html": [
       "<pre>| linear_regularization          | L2 Regularization on Linear Coefficients         | 1e-10    |</pre>"
      ],
      "text/plain": [
       "| linear_regularization          | L2 Regularization on Linear Coefficients         | 1e-10    |"
      ]
     },
     "metadata": {},
     "output_type": "display_data"
    },
    {
     "data": {
      "text/html": [
       "<pre>| side_data_factorization        | Assign Factors for Side Data                     | True     |</pre>"
      ],
      "text/plain": [
       "| side_data_factorization        | Assign Factors for Side Data                     | True     |"
      ]
     },
     "metadata": {},
     "output_type": "display_data"
    },
    {
     "data": {
      "text/html": [
       "<pre>| max_iterations                 | Maximum Number of Iterations                     | 50       |</pre>"
      ],
      "text/plain": [
       "| max_iterations                 | Maximum Number of Iterations                     | 50       |"
      ]
     },
     "metadata": {},
     "output_type": "display_data"
    },
    {
     "data": {
      "text/html": [
       "<pre>+--------------------------------+--------------------------------------------------+----------+</pre>"
      ],
      "text/plain": [
       "+--------------------------------+--------------------------------------------------+----------+"
      ]
     },
     "metadata": {},
     "output_type": "display_data"
    },
    {
     "data": {
      "text/html": [
       "<pre>  Optimizing model using SGD; tuning step size.</pre>"
      ],
      "text/plain": [
       "  Optimizing model using SGD; tuning step size."
      ]
     },
     "metadata": {},
     "output_type": "display_data"
    },
    {
     "data": {
      "text/html": [
       "<pre>  Using 151686 / 1213489 points for tuning the step size.</pre>"
      ],
      "text/plain": [
       "  Using 151686 / 1213489 points for tuning the step size."
      ]
     },
     "metadata": {},
     "output_type": "display_data"
    },
    {
     "data": {
      "text/html": [
       "<pre>+---------+-------------------+------------------------------------------+</pre>"
      ],
      "text/plain": [
       "+---------+-------------------+------------------------------------------+"
      ]
     },
     "metadata": {},
     "output_type": "display_data"
    },
    {
     "data": {
      "text/html": [
       "<pre>| Attempt | Initial Step Size | Estimated Objective Value                |</pre>"
      ],
      "text/plain": [
       "| Attempt | Initial Step Size | Estimated Objective Value                |"
      ]
     },
     "metadata": {},
     "output_type": "display_data"
    },
    {
     "data": {
      "text/html": [
       "<pre>+---------+-------------------+------------------------------------------+</pre>"
      ],
      "text/plain": [
       "+---------+-------------------+------------------------------------------+"
      ]
     },
     "metadata": {},
     "output_type": "display_data"
    },
    {
     "data": {
      "text/html": [
       "<pre>| 0       | 5.55556           | Not Viable                               |</pre>"
      ],
      "text/plain": [
       "| 0       | 5.55556           | Not Viable                               |"
      ]
     },
     "metadata": {},
     "output_type": "display_data"
    },
    {
     "data": {
      "text/html": [
       "<pre>| 1       | 1.38889           | Not Viable                               |</pre>"
      ],
      "text/plain": [
       "| 1       | 1.38889           | Not Viable                               |"
      ]
     },
     "metadata": {},
     "output_type": "display_data"
    },
    {
     "data": {
      "text/html": [
       "<pre>| 2       | 0.347222          | 17.4453                                  |</pre>"
      ],
      "text/plain": [
       "| 2       | 0.347222          | 17.4453                                  |"
      ]
     },
     "metadata": {},
     "output_type": "display_data"
    },
    {
     "data": {
      "text/html": [
       "<pre>| 3       | 0.173611          | No Decrease (62.9348 >= 27.9247)         |</pre>"
      ],
      "text/plain": [
       "| 3       | 0.173611          | No Decrease (62.9348 >= 27.9247)         |"
      ]
     },
     "metadata": {},
     "output_type": "display_data"
    },
    {
     "data": {
      "text/html": [
       "<pre>| 4       | 0.0434028         | 17.3002                                  |</pre>"
      ],
      "text/plain": [
       "| 4       | 0.0434028         | 17.3002                                  |"
      ]
     },
     "metadata": {},
     "output_type": "display_data"
    },
    {
     "data": {
      "text/html": [
       "<pre>| 5       | 0.0217014         | 21.0179                                  |</pre>"
      ],
      "text/plain": [
       "| 5       | 0.0217014         | 21.0179                                  |"
      ]
     },
     "metadata": {},
     "output_type": "display_data"
    },
    {
     "data": {
      "text/html": [
       "<pre>| 6       | 0.0108507         | 24.2596                                  |</pre>"
      ],
      "text/plain": [
       "| 6       | 0.0108507         | 24.2596                                  |"
      ]
     },
     "metadata": {},
     "output_type": "display_data"
    },
    {
     "data": {
      "text/html": [
       "<pre>| 7       | 0.00542535        | 26.1103                                  |</pre>"
      ],
      "text/plain": [
       "| 7       | 0.00542535        | 26.1103                                  |"
      ]
     },
     "metadata": {},
     "output_type": "display_data"
    },
    {
     "data": {
      "text/html": [
       "<pre>+---------+-------------------+------------------------------------------+</pre>"
      ],
      "text/plain": [
       "+---------+-------------------+------------------------------------------+"
      ]
     },
     "metadata": {},
     "output_type": "display_data"
    },
    {
     "data": {
      "text/html": [
       "<pre>| Final   | 0.0434028         | 17.3002                                  |</pre>"
      ],
      "text/plain": [
       "| Final   | 0.0434028         | 17.3002                                  |"
      ]
     },
     "metadata": {},
     "output_type": "display_data"
    },
    {
     "data": {
      "text/html": [
       "<pre>+---------+-------------------+------------------------------------------+</pre>"
      ],
      "text/plain": [
       "+---------+-------------------+------------------------------------------+"
      ]
     },
     "metadata": {},
     "output_type": "display_data"
    },
    {
     "data": {
      "text/html": [
       "<pre>Starting Optimization.</pre>"
      ],
      "text/plain": [
       "Starting Optimization."
      ]
     },
     "metadata": {},
     "output_type": "display_data"
    },
    {
     "data": {
      "text/html": [
       "<pre>+---------+--------------+-------------------+-----------------------+-------------+</pre>"
      ],
      "text/plain": [
       "+---------+--------------+-------------------+-----------------------+-------------+"
      ]
     },
     "metadata": {},
     "output_type": "display_data"
    },
    {
     "data": {
      "text/html": [
       "<pre>| Iter.   | Elapsed Time | Approx. Objective | Approx. Training RMSE | Step Size   |</pre>"
      ],
      "text/plain": [
       "| Iter.   | Elapsed Time | Approx. Objective | Approx. Training RMSE | Step Size   |"
      ]
     },
     "metadata": {},
     "output_type": "display_data"
    },
    {
     "data": {
      "text/html": [
       "<pre>+---------+--------------+-------------------+-----------------------+-------------+</pre>"
      ],
      "text/plain": [
       "+---------+--------------+-------------------+-----------------------+-------------+"
      ]
     },
     "metadata": {},
     "output_type": "display_data"
    },
    {
     "data": {
      "text/html": [
       "<pre>| Initial | 8.826ms      | 27.9323           | 5.2851                |             |</pre>"
      ],
      "text/plain": [
       "| Initial | 8.826ms      | 27.9323           | 5.2851                |             |"
      ]
     },
     "metadata": {},
     "output_type": "display_data"
    },
    {
     "data": {
      "text/html": [
       "<pre>+---------+--------------+-------------------+-----------------------+-------------+</pre>"
      ],
      "text/plain": [
       "+---------+--------------+-------------------+-----------------------+-------------+"
      ]
     },
     "metadata": {},
     "output_type": "display_data"
    },
    {
     "data": {
      "text/html": [
       "<pre>| 1       | 1.44s        | 22.5673           | 4.75048               | 0.0434028   |</pre>"
      ],
      "text/plain": [
       "| 1       | 1.44s        | 22.5673           | 4.75048               | 0.0434028   |"
      ]
     },
     "metadata": {},
     "output_type": "display_data"
    },
    {
     "data": {
      "text/html": [
       "<pre>| 2       | 2.83s        | 40.5501           | 6.36785               | 0.0434028   |</pre>"
      ],
      "text/plain": [
       "| 2       | 2.83s        | 40.5501           | 6.36785               | 0.0434028   |"
      ]
     },
     "metadata": {},
     "output_type": "display_data"
    },
    {
     "data": {
      "text/html": [
       "<pre>| 3       | 4.45s        | DIVERGED          | DIVERGED              | 0.0434028   |</pre>"
      ],
      "text/plain": [
       "| 3       | 4.45s        | DIVERGED          | DIVERGED              | 0.0434028   |"
      ]
     },
     "metadata": {},
     "output_type": "display_data"
    },
    {
     "data": {
      "text/html": [
       "<pre>| RESET   | 4.82s        | 27.9324           | 5.28511               |             |</pre>"
      ],
      "text/plain": [
       "| RESET   | 4.82s        | 27.9324           | 5.28511               |             |"
      ]
     },
     "metadata": {},
     "output_type": "display_data"
    },
    {
     "data": {
      "text/html": [
       "<pre>| 1       | 6.21s        | 23.7388           | 4.87224               | 0.0217014   |</pre>"
      ],
      "text/plain": [
       "| 1       | 6.21s        | 23.7388           | 4.87224               | 0.0217014   |"
      ]
     },
     "metadata": {},
     "output_type": "display_data"
    },
    {
     "data": {
      "text/html": [
       "<pre>| 2       | 7.61s        | 20.2892           | 4.50434               | 0.0217014   |</pre>"
      ],
      "text/plain": [
       "| 2       | 7.61s        | 20.2892           | 4.50434               | 0.0217014   |"
      ]
     },
     "metadata": {},
     "output_type": "display_data"
    },
    {
     "data": {
      "text/html": [
       "<pre>| 3       | 8.99s        | 19.2873           | 4.39172               | 0.0217014   |</pre>"
      ],
      "text/plain": [
       "| 3       | 8.99s        | 19.2873           | 4.39172               | 0.0217014   |"
      ]
     },
     "metadata": {},
     "output_type": "display_data"
    },
    {
     "data": {
      "text/html": [
       "<pre>| 4       | 10.34s       | 19.1104           | 4.37153               | 0.0217014   |</pre>"
      ],
      "text/plain": [
       "| 4       | 10.34s       | 19.1104           | 4.37153               | 0.0217014   |"
      ]
     },
     "metadata": {},
     "output_type": "display_data"
    },
    {
     "data": {
      "text/html": [
       "<pre>| 5       | 11.70s       | 19.423            | 4.40713               | 0.0217014   |</pre>"
      ],
      "text/plain": [
       "| 5       | 11.70s       | 19.423            | 4.40713               | 0.0217014   |"
      ]
     },
     "metadata": {},
     "output_type": "display_data"
    },
    {
     "data": {
      "text/html": [
       "<pre>| 6       | 13.08s       | 20.5391           | 4.53199               | 0.0217014   |</pre>"
      ],
      "text/plain": [
       "| 6       | 13.08s       | 20.5391           | 4.53199               | 0.0217014   |"
      ]
     },
     "metadata": {},
     "output_type": "display_data"
    },
    {
     "data": {
      "text/html": [
       "<pre>| 7       | 14.47s       | 23.5597           | 4.85381               | 0.0217014   |</pre>"
      ],
      "text/plain": [
       "| 7       | 14.47s       | 23.5597           | 4.85381               | 0.0217014   |"
      ]
     },
     "metadata": {},
     "output_type": "display_data"
    },
    {
     "data": {
      "text/html": [
       "<pre>| 8       | 15.84s       | 31.627            | 5.62376               | 0.0217014   |</pre>"
      ],
      "text/plain": [
       "| 8       | 15.84s       | 31.627            | 5.62376               | 0.0217014   |"
      ]
     },
     "metadata": {},
     "output_type": "display_data"
    },
    {
     "data": {
      "text/html": [
       "<pre>| 9       | 17.21s       | 51.0713           | 7.14639               | 0.0217014   |</pre>"
      ],
      "text/plain": [
       "| 9       | 17.21s       | 51.0713           | 7.14639               | 0.0217014   |"
      ]
     },
     "metadata": {},
     "output_type": "display_data"
    },
    {
     "data": {
      "text/html": [
       "<pre>| 10      | 18.76s       | DIVERGED          | DIVERGED              | 0.0217014   |</pre>"
      ],
      "text/plain": [
       "| 10      | 18.76s       | DIVERGED          | DIVERGED              | 0.0217014   |"
      ]
     },
     "metadata": {},
     "output_type": "display_data"
    },
    {
     "data": {
      "text/html": [
       "<pre>| RESET   | 19.11s       | 27.9323           | 5.28511               |             |</pre>"
      ],
      "text/plain": [
       "| RESET   | 19.11s       | 27.9323           | 5.28511               |             |"
      ]
     },
     "metadata": {},
     "output_type": "display_data"
    },
    {
     "data": {
      "text/html": [
       "<pre>| 1       | 20.46s       | 25.3996           | 5.0398                | 0.0108507   |</pre>"
      ],
      "text/plain": [
       "| 1       | 20.46s       | 25.3996           | 5.0398                | 0.0108507   |"
      ]
     },
     "metadata": {},
     "output_type": "display_data"
    },
    {
     "data": {
      "text/html": [
       "<pre>| 2       | 22.17s       | 23.3559           | 4.83279               | 0.0108507   |</pre>"
      ],
      "text/plain": [
       "| 2       | 22.17s       | 23.3559           | 4.83279               | 0.0108507   |"
      ]
     },
     "metadata": {},
     "output_type": "display_data"
    },
    {
     "data": {
      "text/html": [
       "<pre>| 3       | 23.62s       | 22.2176           | 4.71355               | 0.0108507   |</pre>"
      ],
      "text/plain": [
       "| 3       | 23.62s       | 22.2176           | 4.71355               | 0.0108507   |"
      ]
     },
     "metadata": {},
     "output_type": "display_data"
    },
    {
     "data": {
      "text/html": [
       "<pre>| 4       | 25.39s       | 21.5248           | 4.63947               | 0.0108507   |</pre>"
      ],
      "text/plain": [
       "| 4       | 25.39s       | 21.5248           | 4.63947               | 0.0108507   |"
      ]
     },
     "metadata": {},
     "output_type": "display_data"
    },
    {
     "data": {
      "text/html": [
       "<pre>| 5       | 26.99s       | 21.126            | 4.59629               | 0.0108507   |</pre>"
      ],
      "text/plain": [
       "| 5       | 26.99s       | 21.126            | 4.59629               | 0.0108507   |"
      ]
     },
     "metadata": {},
     "output_type": "display_data"
    },
    {
     "data": {
      "text/html": [
       "<pre>| 6       | 28.42s       | 20.9338           | 4.57534               | 0.0108507   |</pre>"
      ],
      "text/plain": [
       "| 6       | 28.42s       | 20.9338           | 4.57534               | 0.0108507   |"
      ]
     },
     "metadata": {},
     "output_type": "display_data"
    },
    {
     "data": {
      "text/html": [
       "<pre>| 7       | 30.08s       | 20.9037           | 4.57205               | 0.0108507   |</pre>"
      ],
      "text/plain": [
       "| 7       | 30.08s       | 20.9037           | 4.57205               | 0.0108507   |"
      ]
     },
     "metadata": {},
     "output_type": "display_data"
    },
    {
     "data": {
      "text/html": [
       "<pre>| 8       | 31.44s       | 21.0334           | 4.58621               | 0.0108507   |</pre>"
      ],
      "text/plain": [
       "| 8       | 31.44s       | 21.0334           | 4.58621               | 0.0108507   |"
      ]
     },
     "metadata": {},
     "output_type": "display_data"
    },
    {
     "data": {
      "text/html": [
       "<pre>| 9       | 32.82s       | 21.3548           | 4.62112               | 0.0108507   |</pre>"
      ],
      "text/plain": [
       "| 9       | 32.82s       | 21.3548           | 4.62112               | 0.0108507   |"
      ]
     },
     "metadata": {},
     "output_type": "display_data"
    },
    {
     "data": {
      "text/html": [
       "<pre>| 10      | 34.25s       | 21.912            | 4.68101               | 0.0108507   |</pre>"
      ],
      "text/plain": [
       "| 10      | 34.25s       | 21.912            | 4.68101               | 0.0108507   |"
      ]
     },
     "metadata": {},
     "output_type": "display_data"
    },
    {
     "data": {
      "text/html": [
       "<pre>| 11      | 35.67s       | 22.8279           | 4.77784               | 0.0108507   |</pre>"
      ],
      "text/plain": [
       "| 11      | 35.67s       | 22.8279           | 4.77784               | 0.0108507   |"
      ]
     },
     "metadata": {},
     "output_type": "display_data"
    },
    {
     "data": {
      "text/html": [
       "<pre>| 12      | 37.01s       | 24.2416           | 4.92356               | 0.0108507   |</pre>"
      ],
      "text/plain": [
       "| 12      | 37.01s       | 24.2416           | 4.92356               | 0.0108507   |"
      ]
     },
     "metadata": {},
     "output_type": "display_data"
    },
    {
     "data": {
      "text/html": [
       "<pre>| 13      | 38.52s       | 26.4628           | 5.14418               | 0.0108507   |</pre>"
      ],
      "text/plain": [
       "| 13      | 38.52s       | 26.4628           | 5.14418               | 0.0108507   |"
      ]
     },
     "metadata": {},
     "output_type": "display_data"
    },
    {
     "data": {
      "text/html": [
       "<pre>| 14      | 40.12s       | 29.8223           | 5.46096               | 0.0108507   |</pre>"
      ],
      "text/plain": [
       "| 14      | 40.12s       | 29.8223           | 5.46096               | 0.0108507   |"
      ]
     },
     "metadata": {},
     "output_type": "display_data"
    },
    {
     "data": {
      "text/html": [
       "<pre>| 15      | 41.46s       | 34.8084           | 5.89985               | 0.0108507   |</pre>"
      ],
      "text/plain": [
       "| 15      | 41.46s       | 34.8084           | 5.89985               | 0.0108507   |"
      ]
     },
     "metadata": {},
     "output_type": "display_data"
    },
    {
     "data": {
      "text/html": [
       "<pre>| 16      | 42.80s       | 41.7332           | 6.4601                | 0.0108507   |</pre>"
      ],
      "text/plain": [
       "| 16      | 42.80s       | 41.7332           | 6.4601                | 0.0108507   |"
      ]
     },
     "metadata": {},
     "output_type": "display_data"
    },
    {
     "data": {
      "text/html": [
       "<pre>| 17      | 45.07s       | 50.9621           | 7.13875               | 0.0108507   |</pre>"
      ],
      "text/plain": [
       "| 17      | 45.07s       | 50.9621           | 7.13875               | 0.0108507   |"
      ]
     },
     "metadata": {},
     "output_type": "display_data"
    },
    {
     "data": {
      "text/html": [
       "<pre>| 18      | 46.72s       | DIVERGED          | DIVERGED              | 0.0108507   |</pre>"
      ],
      "text/plain": [
       "| 18      | 46.72s       | DIVERGED          | DIVERGED              | 0.0108507   |"
      ]
     },
     "metadata": {},
     "output_type": "display_data"
    },
    {
     "data": {
      "text/html": [
       "<pre>| RESET   | 47.10s       | 27.9323           | 5.2851                |             |</pre>"
      ],
      "text/plain": [
       "| RESET   | 47.10s       | 27.9323           | 5.2851                |             |"
      ]
     },
     "metadata": {},
     "output_type": "display_data"
    },
    {
     "data": {
      "text/html": [
       "<pre>| 1       | 48.51s       | 26.5486           | 5.15253               | 0.00542535  |</pre>"
      ],
      "text/plain": [
       "| 1       | 48.51s       | 26.5486           | 5.15253               | 0.00542535  |"
      ]
     },
     "metadata": {},
     "output_type": "display_data"
    },
    {
     "data": {
      "text/html": [
       "<pre>| 2       | 49.88s       | 25.4068           | 5.04051               | 0.00542535  |</pre>"
      ],
      "text/plain": [
       "| 2       | 49.88s       | 25.4068           | 5.04051               | 0.00542535  |"
      ]
     },
     "metadata": {},
     "output_type": "display_data"
    },
    {
     "data": {
      "text/html": [
       "<pre>| 3       | 51.27s       | 24.7069           | 4.97061               | 0.00542535  |</pre>"
      ],
      "text/plain": [
       "| 3       | 51.27s       | 24.7069           | 4.97061               | 0.00542535  |"
      ]
     },
     "metadata": {},
     "output_type": "display_data"
    },
    {
     "data": {
      "text/html": [
       "<pre>| 4       | 52.65s       | 24.1808           | 4.9174                | 0.00542535  |</pre>"
      ],
      "text/plain": [
       "| 4       | 52.65s       | 24.1808           | 4.9174                | 0.00542535  |"
      ]
     },
     "metadata": {},
     "output_type": "display_data"
    },
    {
     "data": {
      "text/html": [
       "<pre>| 5       | 54.00s       | 23.7544           | 4.87384               | 0.00542535  |</pre>"
      ],
      "text/plain": [
       "| 5       | 54.00s       | 23.7544           | 4.87384               | 0.00542535  |"
      ]
     },
     "metadata": {},
     "output_type": "display_data"
    },
    {
     "data": {
      "text/html": [
       "<pre>| 6       | 55.44s       | 23.4026           | 4.83762               | 0.00542535  |</pre>"
      ],
      "text/plain": [
       "| 6       | 55.44s       | 23.4026           | 4.83762               | 0.00542535  |"
      ]
     },
     "metadata": {},
     "output_type": "display_data"
    },
    {
     "data": {
      "text/html": [
       "<pre>| 7       | 56.83s       | 23.1029           | 4.80654               | 0.00542535  |</pre>"
      ],
      "text/plain": [
       "| 7       | 56.83s       | 23.1029           | 4.80654               | 0.00542535  |"
      ]
     },
     "metadata": {},
     "output_type": "display_data"
    },
    {
     "data": {
      "text/html": [
       "<pre>| 8       | 58.21s       | 22.8427           | 4.7794                | 0.00542535  |</pre>"
      ],
      "text/plain": [
       "| 8       | 58.21s       | 22.8427           | 4.7794                | 0.00542535  |"
      ]
     },
     "metadata": {},
     "output_type": "display_data"
    },
    {
     "data": {
      "text/html": [
       "<pre>| 9       | 59.58s       | 22.6137           | 4.75538               | 0.00542535  |</pre>"
      ],
      "text/plain": [
       "| 9       | 59.58s       | 22.6137           | 4.75538               | 0.00542535  |"
      ]
     },
     "metadata": {},
     "output_type": "display_data"
    },
    {
     "data": {
      "text/html": [
       "<pre>| 10      | 1m 1s        | 22.4118           | 4.7341                | 0.00542535  |</pre>"
      ],
      "text/plain": [
       "| 10      | 1m 1s        | 22.4118           | 4.7341                | 0.00542535  |"
      ]
     },
     "metadata": {},
     "output_type": "display_data"
    },
    {
     "data": {
      "text/html": [
       "<pre>| 11      | 1m 3s        | 22.2343           | 4.71532               | 0.00542535  |</pre>"
      ],
      "text/plain": [
       "| 11      | 1m 3s        | 22.2343           | 4.71532               | 0.00542535  |"
      ]
     },
     "metadata": {},
     "output_type": "display_data"
    },
    {
     "data": {
      "text/html": [
       "<pre>| 12      | 1m 5s        | 22.0749           | 4.69839               | 0.00542535  |</pre>"
      ],
      "text/plain": [
       "| 12      | 1m 5s        | 22.0749           | 4.69839               | 0.00542535  |"
      ]
     },
     "metadata": {},
     "output_type": "display_data"
    },
    {
     "data": {
      "text/html": [
       "<pre>| 13      | 1m 7s        | 21.933            | 4.68326               | 0.00542535  |</pre>"
      ],
      "text/plain": [
       "| 13      | 1m 7s        | 21.933            | 4.68326               | 0.00542535  |"
      ]
     },
     "metadata": {},
     "output_type": "display_data"
    },
    {
     "data": {
      "text/html": [
       "<pre>| 14      | 1m 8s        | 21.8064           | 4.66973               | 0.00542535  |</pre>"
      ],
      "text/plain": [
       "| 14      | 1m 8s        | 21.8064           | 4.66973               | 0.00542535  |"
      ]
     },
     "metadata": {},
     "output_type": "display_data"
    },
    {
     "data": {
      "text/html": [
       "<pre>| 15      | 1m 10s       | 21.6933           | 4.6576                | 0.00542535  |</pre>"
      ],
      "text/plain": [
       "| 15      | 1m 10s       | 21.6933           | 4.6576                | 0.00542535  |"
      ]
     },
     "metadata": {},
     "output_type": "display_data"
    },
    {
     "data": {
      "text/html": [
       "<pre>| 16      | 1m 12s       | 21.5944           | 4.64698               | 0.00542535  |</pre>"
      ],
      "text/plain": [
       "| 16      | 1m 12s       | 21.5944           | 4.64698               | 0.00542535  |"
      ]
     },
     "metadata": {},
     "output_type": "display_data"
    },
    {
     "data": {
      "text/html": [
       "<pre>| 17      | 1m 13s       | 21.5056           | 4.6374                | 0.00542535  |</pre>"
      ],
      "text/plain": [
       "| 17      | 1m 13s       | 21.5056           | 4.6374                | 0.00542535  |"
      ]
     },
     "metadata": {},
     "output_type": "display_data"
    },
    {
     "data": {
      "text/html": [
       "<pre>| 18      | 1m 15s       | 21.4265           | 4.62887               | 0.00542535  |</pre>"
      ],
      "text/plain": [
       "| 18      | 1m 15s       | 21.4265           | 4.62887               | 0.00542535  |"
      ]
     },
     "metadata": {},
     "output_type": "display_data"
    },
    {
     "data": {
      "text/html": [
       "<pre>| 19      | 1m 16s       | 21.3587           | 4.62154               | 0.00542535  |</pre>"
      ],
      "text/plain": [
       "| 19      | 1m 16s       | 21.3587           | 4.62154               | 0.00542535  |"
      ]
     },
     "metadata": {},
     "output_type": "display_data"
    },
    {
     "data": {
      "text/html": [
       "<pre>| 20      | 1m 18s       | 21.3007           | 4.61527               | 0.00542535  |</pre>"
      ],
      "text/plain": [
       "| 20      | 1m 18s       | 21.3007           | 4.61527               | 0.00542535  |"
      ]
     },
     "metadata": {},
     "output_type": "display_data"
    },
    {
     "data": {
      "text/html": [
       "<pre>| 21      | 1m 19s       | 21.2524           | 4.61003               | 0.00542535  |</pre>"
      ],
      "text/plain": [
       "| 21      | 1m 19s       | 21.2524           | 4.61003               | 0.00542535  |"
      ]
     },
     "metadata": {},
     "output_type": "display_data"
    },
    {
     "data": {
      "text/html": [
       "<pre>| 22      | 1m 20s       | 21.2135           | 4.6058                | 0.00542535  |</pre>"
      ],
      "text/plain": [
       "| 22      | 1m 20s       | 21.2135           | 4.6058                | 0.00542535  |"
      ]
     },
     "metadata": {},
     "output_type": "display_data"
    },
    {
     "data": {
      "text/html": [
       "<pre>| 23      | 1m 22s       | 21.1846           | 4.60266               | 0.00542535  |</pre>"
      ],
      "text/plain": [
       "| 23      | 1m 22s       | 21.1846           | 4.60266               | 0.00542535  |"
      ]
     },
     "metadata": {},
     "output_type": "display_data"
    },
    {
     "data": {
      "text/html": [
       "<pre>| 24      | 1m 23s       | 21.1655           | 4.60059               | 0.00542535  |</pre>"
      ],
      "text/plain": [
       "| 24      | 1m 23s       | 21.1655           | 4.60059               | 0.00542535  |"
      ]
     },
     "metadata": {},
     "output_type": "display_data"
    },
    {
     "data": {
      "text/html": [
       "<pre>+---------+--------------+-------------------+-----------------------+-------------+</pre>"
      ],
      "text/plain": [
       "+---------+--------------+-------------------+-----------------------+-------------+"
      ]
     },
     "metadata": {},
     "output_type": "display_data"
    },
    {
     "data": {
      "text/html": [
       "<pre>Optimization Complete: Maximum number of passes through the data reached (hard limit).</pre>"
      ],
      "text/plain": [
       "Optimization Complete: Maximum number of passes through the data reached (hard limit)."
      ]
     },
     "metadata": {},
     "output_type": "display_data"
    },
    {
     "data": {
      "text/html": [
       "<pre>Computing final objective value and training RMSE.</pre>"
      ],
      "text/plain": [
       "Computing final objective value and training RMSE."
      ]
     },
     "metadata": {},
     "output_type": "display_data"
    },
    {
     "data": {
      "text/html": [
       "<pre>       Final objective value: 21.1524</pre>"
      ],
      "text/plain": [
       "       Final objective value: 21.1524"
      ]
     },
     "metadata": {},
     "output_type": "display_data"
    },
    {
     "data": {
      "text/html": [
       "<pre>       Final training RMSE: 4.59917</pre>"
      ],
      "text/plain": [
       "       Final training RMSE: 4.59917"
      ]
     },
     "metadata": {},
     "output_type": "display_data"
    },
    {
     "data": {
      "text/html": [
       "<pre>Recsys training: model = factorization_recommender</pre>"
      ],
      "text/plain": [
       "Recsys training: model = factorization_recommender"
      ]
     },
     "metadata": {},
     "output_type": "display_data"
    },
    {
     "data": {
      "text/html": [
       "<pre>Preparing data set.</pre>"
      ],
      "text/plain": [
       "Preparing data set."
      ]
     },
     "metadata": {},
     "output_type": "display_data"
    },
    {
     "data": {
      "text/html": [
       "<pre>    Data has 1213489 observations with 50692 users and 141 items.</pre>"
      ],
      "text/plain": [
       "    Data has 1213489 observations with 50692 users and 141 items."
      ]
     },
     "metadata": {},
     "output_type": "display_data"
    },
    {
     "data": {
      "text/html": [
       "<pre>    Data prepared in: 2.17867s</pre>"
      ],
      "text/plain": [
       "    Data prepared in: 2.17867s"
      ]
     },
     "metadata": {},
     "output_type": "display_data"
    },
    {
     "data": {
      "text/html": [
       "<pre>Training factorization_recommender for recommendations.</pre>"
      ],
      "text/plain": [
       "Training factorization_recommender for recommendations."
      ]
     },
     "metadata": {},
     "output_type": "display_data"
    },
    {
     "data": {
      "text/html": [
       "<pre>+--------------------------------+--------------------------------------------------+----------+</pre>"
      ],
      "text/plain": [
       "+--------------------------------+--------------------------------------------------+----------+"
      ]
     },
     "metadata": {},
     "output_type": "display_data"
    },
    {
     "data": {
      "text/html": [
       "<pre>| Parameter                      | Description                                      | Value    |</pre>"
      ],
      "text/plain": [
       "| Parameter                      | Description                                      | Value    |"
      ]
     },
     "metadata": {},
     "output_type": "display_data"
    },
    {
     "data": {
      "text/html": [
       "<pre>+--------------------------------+--------------------------------------------------+----------+</pre>"
      ],
      "text/plain": [
       "+--------------------------------+--------------------------------------------------+----------+"
      ]
     },
     "metadata": {},
     "output_type": "display_data"
    },
    {
     "data": {
      "text/html": [
       "<pre>| num_factors                    | Factor Dimension                                 | 8        |</pre>"
      ],
      "text/plain": [
       "| num_factors                    | Factor Dimension                                 | 8        |"
      ]
     },
     "metadata": {},
     "output_type": "display_data"
    },
    {
     "data": {
      "text/html": [
       "<pre>| regularization                 | L2 Regularization on Factors                     | 1e-08    |</pre>"
      ],
      "text/plain": [
       "| regularization                 | L2 Regularization on Factors                     | 1e-08    |"
      ]
     },
     "metadata": {},
     "output_type": "display_data"
    },
    {
     "data": {
      "text/html": [
       "<pre>| solver                         | Solver used for training                         | sgd      |</pre>"
      ],
      "text/plain": [
       "| solver                         | Solver used for training                         | sgd      |"
      ]
     },
     "metadata": {},
     "output_type": "display_data"
    },
    {
     "data": {
      "text/html": [
       "<pre>| linear_regularization          | L2 Regularization on Linear Coefficients         | 1e-10    |</pre>"
      ],
      "text/plain": [
       "| linear_regularization          | L2 Regularization on Linear Coefficients         | 1e-10    |"
      ]
     },
     "metadata": {},
     "output_type": "display_data"
    },
    {
     "data": {
      "text/html": [
       "<pre>| max_iterations                 | Maximum Number of Iterations                     | 50       |</pre>"
      ],
      "text/plain": [
       "| max_iterations                 | Maximum Number of Iterations                     | 50       |"
      ]
     },
     "metadata": {},
     "output_type": "display_data"
    },
    {
     "data": {
      "text/html": [
       "<pre>+--------------------------------+--------------------------------------------------+----------+</pre>"
      ],
      "text/plain": [
       "+--------------------------------+--------------------------------------------------+----------+"
      ]
     },
     "metadata": {},
     "output_type": "display_data"
    },
    {
     "data": {
      "text/html": [
       "<pre>  Optimizing model using SGD; tuning step size.</pre>"
      ],
      "text/plain": [
       "  Optimizing model using SGD; tuning step size."
      ]
     },
     "metadata": {},
     "output_type": "display_data"
    },
    {
     "data": {
      "text/html": [
       "<pre>  Using 151686 / 1213489 points for tuning the step size.</pre>"
      ],
      "text/plain": [
       "  Using 151686 / 1213489 points for tuning the step size."
      ]
     },
     "metadata": {},
     "output_type": "display_data"
    },
    {
     "data": {
      "text/html": [
       "<pre>+---------+-------------------+------------------------------------------+</pre>"
      ],
      "text/plain": [
       "+---------+-------------------+------------------------------------------+"
      ]
     },
     "metadata": {},
     "output_type": "display_data"
    },
    {
     "data": {
      "text/html": [
       "<pre>| Attempt | Initial Step Size | Estimated Objective Value                |</pre>"
      ],
      "text/plain": [
       "| Attempt | Initial Step Size | Estimated Objective Value                |"
      ]
     },
     "metadata": {},
     "output_type": "display_data"
    },
    {
     "data": {
      "text/html": [
       "<pre>+---------+-------------------+------------------------------------------+</pre>"
      ],
      "text/plain": [
       "+---------+-------------------+------------------------------------------+"
      ]
     },
     "metadata": {},
     "output_type": "display_data"
    },
    {
     "data": {
      "text/html": [
       "<pre>| 0       | 25                | No Decrease (223.584 >= 27.8836)         |</pre>"
      ],
      "text/plain": [
       "| 0       | 25                | No Decrease (223.584 >= 27.8836)         |"
      ]
     },
     "metadata": {},
     "output_type": "display_data"
    },
    {
     "data": {
      "text/html": [
       "<pre>| 1       | 6.25              | No Decrease (195.398 >= 27.8836)         |</pre>"
      ],
      "text/plain": [
       "| 1       | 6.25              | No Decrease (195.398 >= 27.8836)         |"
      ]
     },
     "metadata": {},
     "output_type": "display_data"
    },
    {
     "data": {
      "text/html": [
       "<pre>| 2       | 1.5625            | No Decrease (176.968 >= 27.8836)         |</pre>"
      ],
      "text/plain": [
       "| 2       | 1.5625            | No Decrease (176.968 >= 27.8836)         |"
      ]
     },
     "metadata": {},
     "output_type": "display_data"
    },
    {
     "data": {
      "text/html": [
       "<pre>| 3       | 0.390625          | No Decrease (95.3464 >= 27.8836)         |</pre>"
      ],
      "text/plain": [
       "| 3       | 0.390625          | No Decrease (95.3464 >= 27.8836)         |"
      ]
     },
     "metadata": {},
     "output_type": "display_data"
    },
    {
     "data": {
      "text/html": [
       "<pre>| 4       | 0.0976562         | 21.6213                                  |</pre>"
      ],
      "text/plain": [
       "| 4       | 0.0976562         | 21.6213                                  |"
      ]
     },
     "metadata": {},
     "output_type": "display_data"
    },
    {
     "data": {
      "text/html": [
       "<pre>| 5       | 0.0488281         | 14.8656                                  |</pre>"
      ],
      "text/plain": [
       "| 5       | 0.0488281         | 14.8656                                  |"
      ]
     },
     "metadata": {},
     "output_type": "display_data"
    },
    {
     "data": {
      "text/html": [
       "<pre>| 6       | 0.0244141         | 3.28236                                  |</pre>"
      ],
      "text/plain": [
       "| 6       | 0.0244141         | 3.28236                                  |"
      ]
     },
     "metadata": {},
     "output_type": "display_data"
    },
    {
     "data": {
      "text/html": [
       "<pre>| 7       | 0.012207          | 10.5408                                  |</pre>"
      ],
      "text/plain": [
       "| 7       | 0.012207          | 10.5408                                  |"
      ]
     },
     "metadata": {},
     "output_type": "display_data"
    },
    {
     "data": {
      "text/html": [
       "<pre>+---------+-------------------+------------------------------------------+</pre>"
      ],
      "text/plain": [
       "+---------+-------------------+------------------------------------------+"
      ]
     },
     "metadata": {},
     "output_type": "display_data"
    },
    {
     "data": {
      "text/html": [
       "<pre>| Final   | 0.0244141         | 3.28236                                  |</pre>"
      ],
      "text/plain": [
       "| Final   | 0.0244141         | 3.28236                                  |"
      ]
     },
     "metadata": {},
     "output_type": "display_data"
    },
    {
     "data": {
      "text/html": [
       "<pre>+---------+-------------------+------------------------------------------+</pre>"
      ],
      "text/plain": [
       "+---------+-------------------+------------------------------------------+"
      ]
     },
     "metadata": {},
     "output_type": "display_data"
    },
    {
     "data": {
      "text/html": [
       "<pre>Starting Optimization.</pre>"
      ],
      "text/plain": [
       "Starting Optimization."
      ]
     },
     "metadata": {},
     "output_type": "display_data"
    },
    {
     "data": {
      "text/html": [
       "<pre>+---------+--------------+-------------------+-----------------------+-------------+</pre>"
      ],
      "text/plain": [
       "+---------+--------------+-------------------+-----------------------+-------------+"
      ]
     },
     "metadata": {},
     "output_type": "display_data"
    },
    {
     "data": {
      "text/html": [
       "<pre>| Iter.   | Elapsed Time | Approx. Objective | Approx. Training RMSE | Step Size   |</pre>"
      ],
      "text/plain": [
       "| Iter.   | Elapsed Time | Approx. Objective | Approx. Training RMSE | Step Size   |"
      ]
     },
     "metadata": {},
     "output_type": "display_data"
    },
    {
     "data": {
      "text/html": [
       "<pre>+---------+--------------+-------------------+-----------------------+-------------+</pre>"
      ],
      "text/plain": [
       "+---------+--------------+-------------------+-----------------------+-------------+"
      ]
     },
     "metadata": {},
     "output_type": "display_data"
    },
    {
     "data": {
      "text/html": [
       "<pre>| Initial | 10.071ms     | 27.9326           | 5.28513               |             |</pre>"
      ],
      "text/plain": [
       "| Initial | 10.071ms     | 27.9326           | 5.28513               |             |"
      ]
     },
     "metadata": {},
     "output_type": "display_data"
    },
    {
     "data": {
      "text/html": [
       "<pre>+---------+--------------+-------------------+-----------------------+-------------+</pre>"
      ],
      "text/plain": [
       "+---------+--------------+-------------------+-----------------------+-------------+"
      ]
     },
     "metadata": {},
     "output_type": "display_data"
    },
    {
     "data": {
      "text/html": [
       "<pre>| 1       | 590.5ms      | 21.6207           | 4.64949               | 0.0244141   |</pre>"
      ],
      "text/plain": [
       "| 1       | 590.5ms      | 21.6207           | 4.64949               | 0.0244141   |"
      ]
     },
     "metadata": {},
     "output_type": "display_data"
    },
    {
     "data": {
      "text/html": [
       "<pre>| 2       | 1.03s        | 17.4347           | 4.17518               | 0.0145167   |</pre>"
      ],
      "text/plain": [
       "| 2       | 1.03s        | 17.4347           | 4.17518               | 0.0145167   |"
      ]
     },
     "metadata": {},
     "output_type": "display_data"
    },
    {
     "data": {
      "text/html": [
       "<pre>| 3       | 1.49s        | 15.1152           | 3.88751               | 0.0107102   |</pre>"
      ],
      "text/plain": [
       "| 3       | 1.49s        | 15.1152           | 3.88751               | 0.0107102   |"
      ]
     },
     "metadata": {},
     "output_type": "display_data"
    },
    {
     "data": {
      "text/html": [
       "<pre>| 4       | 1.96s        | 13.6138           | 3.68934               | 0.00863167  |</pre>"
      ],
      "text/plain": [
       "| 4       | 1.96s        | 13.6138           | 3.68934               | 0.00863167  |"
      ]
     },
     "metadata": {},
     "output_type": "display_data"
    },
    {
     "data": {
      "text/html": [
       "<pre>| 5       | 2.49s        | 12.7091           | 3.56462               | 0.00730151  |</pre>"
      ],
      "text/plain": [
       "| 5       | 2.49s        | 12.7091           | 3.56462               | 0.00730151  |"
      ]
     },
     "metadata": {},
     "output_type": "display_data"
    },
    {
     "data": {
      "text/html": [
       "<pre>| 6       | 3.06s        | 12.1672           | 3.48777               | 0.00636835  |</pre>"
      ],
      "text/plain": [
       "| 6       | 3.06s        | 12.1672           | 3.48777               | 0.00636835  |"
      ]
     },
     "metadata": {},
     "output_type": "display_data"
    },
    {
     "data": {
      "text/html": [
       "<pre>| 10      | 5.75s        | 11.1347           | 3.33646               | 0.0043415   |</pre>"
      ],
      "text/plain": [
       "| 10      | 5.75s        | 11.1347           | 3.33646               | 0.0043415   |"
      ]
     },
     "metadata": {},
     "output_type": "display_data"
    },
    {
     "data": {
      "text/html": [
       "<pre>| 11      | 6.21s        | 11.0397           | 3.32217               | 0.00404199  |</pre>"
      ],
      "text/plain": [
       "| 11      | 6.21s        | 11.0397           | 3.32217               | 0.00404199  |"
      ]
     },
     "metadata": {},
     "output_type": "display_data"
    },
    {
     "data": {
      "text/html": [
       "<pre>| 15      | 8.59s        | 10.7934           | 3.28489               | 0.00320311  |</pre>"
      ],
      "text/plain": [
       "| 15      | 8.59s        | 10.7934           | 3.28489               | 0.00320311  |"
      ]
     },
     "metadata": {},
     "output_type": "display_data"
    },
    {
     "data": {
      "text/html": [
       "<pre>| 20      | 11.36s       | 10.5746           | 3.25141               | 0.00217075  |</pre>"
      ],
      "text/plain": [
       "| 20      | 11.36s       | 10.5746           | 3.25141               | 0.00217075  |"
      ]
     },
     "metadata": {},
     "output_type": "display_data"
    },
    {
     "data": {
      "text/html": [
       "<pre>| 25      | 13.76s       | 11.5898           | 3.40396               | 0.000345267 |</pre>"
      ],
      "text/plain": [
       "| 25      | 13.76s       | 11.5898           | 3.40396               | 0.000345267 |"
      ]
     },
     "metadata": {},
     "output_type": "display_data"
    },
    {
     "data": {
      "text/html": [
       "<pre>| 30      | 16.79s       | 12.5309           | 3.53949               | 3.78664e-05 |</pre>"
      ],
      "text/plain": [
       "| 30      | 16.79s       | 12.5309           | 3.53949               | 3.78664e-05 |"
      ]
     },
     "metadata": {},
     "output_type": "display_data"
    },
    {
     "data": {
      "text/html": [
       "<pre>| 35      | 18.83s       | 12.5826           | 3.54678               | 1.41826e-05 |</pre>"
      ],
      "text/plain": [
       "| 35      | 18.83s       | 12.5826           | 3.54678               | 1.41826e-05 |"
      ]
     },
     "metadata": {},
     "output_type": "display_data"
    },
    {
     "data": {
      "text/html": [
       "<pre>| 40      | 20.93s       | 12.5862           | 3.5473                | 5.3948e-06  |</pre>"
      ],
      "text/plain": [
       "| 40      | 20.93s       | 12.5862           | 3.5473                | 5.3948e-06  |"
      ]
     },
     "metadata": {},
     "output_type": "display_data"
    },
    {
     "data": {
      "text/html": [
       "<pre>| 45      | 23.18s       | 12.5846           | 3.54707               | 2.46934e-06 |</pre>"
      ],
      "text/plain": [
       "| 45      | 23.18s       | 12.5846           | 3.54707               | 2.46934e-06 |"
      ]
     },
     "metadata": {},
     "output_type": "display_data"
    },
    {
     "data": {
      "text/html": [
       "<pre>| 50      | 25.95s       | 12.5824           | 3.54676               | 2.28172e-06 |</pre>"
      ],
      "text/plain": [
       "| 50      | 25.95s       | 12.5824           | 3.54676               | 2.28172e-06 |"
      ]
     },
     "metadata": {},
     "output_type": "display_data"
    },
    {
     "data": {
      "text/html": [
       "<pre>+---------+--------------+-------------------+-----------------------+-------------+</pre>"
      ],
      "text/plain": [
       "+---------+--------------+-------------------+-----------------------+-------------+"
      ]
     },
     "metadata": {},
     "output_type": "display_data"
    },
    {
     "data": {
      "text/html": [
       "<pre>Optimization Complete: Maximum number of passes through the data reached.</pre>"
      ],
      "text/plain": [
       "Optimization Complete: Maximum number of passes through the data reached."
      ]
     },
     "metadata": {},
     "output_type": "display_data"
    },
    {
     "data": {
      "text/html": [
       "<pre>Computing final objective value and training RMSE.</pre>"
      ],
      "text/plain": [
       "Computing final objective value and training RMSE."
      ]
     },
     "metadata": {},
     "output_type": "display_data"
    },
    {
     "data": {
      "text/html": [
       "<pre>       Final objective value: 12.5817</pre>"
      ],
      "text/plain": [
       "       Final objective value: 12.5817"
      ]
     },
     "metadata": {},
     "output_type": "display_data"
    },
    {
     "data": {
      "text/html": [
       "<pre>       Final training RMSE: 3.54665</pre>"
      ],
      "text/plain": [
       "       Final training RMSE: 3.54665"
      ]
     },
     "metadata": {},
     "output_type": "display_data"
    },
    {
     "name": "stdout",
     "output_type": "stream",
     "text": [
      "PROGRESS: Evaluate model M0\n",
      "\n",
      "Precision and recall summary statistics by cutoff\n",
      "+--------+-----------------+-----------------+\n",
      "| cutoff |  mean_precision |   mean_recall   |\n",
      "+--------+-----------------+-----------------+\n",
      "|   1    | 0.0343680709534 | 0.0222099039172 |\n",
      "|   2    | 0.0654101995565 | 0.0416696053874 |\n",
      "|   3    | 0.0764966740576 | 0.0577688485153 |\n",
      "|   4    | 0.0789911308204 | 0.0698912210673 |\n",
      "|   5    | 0.0789356984479 | 0.0808874725463 |\n",
      "|   6    | 0.0822246858832 | 0.0961156638946 |\n",
      "|   7    | 0.0826734241368 |  0.111589591039 |\n",
      "|   8    | 0.0852272727273 |  0.126635815164 |\n",
      "|   9    | 0.0851194875585 |  0.140047090694 |\n",
      "|   10   | 0.0849223946785 |  0.151872565217 |\n",
      "+--------+-----------------+-----------------+\n",
      "[10 rows x 3 columns]\n",
      "\n",
      "('\\nOverall RMSE: ', 4.70832838332647)\n",
      "\n",
      "Per User RMSE (best)\n",
      "+---------+-------+----------------+\n",
      "| user_id | count |      rmse      |\n",
      "+---------+-------+----------------+\n",
      "|  24039  |   1   | 0.102818922506 |\n",
      "+---------+-------+----------------+\n",
      "[1 rows x 3 columns]\n",
      "\n",
      "\n",
      "Per User RMSE (worst)\n",
      "+---------+-------+--------------+\n",
      "| user_id | count |     rmse     |\n",
      "+---------+-------+--------------+\n",
      "|  13807  |   1   | 11.515053338 |\n",
      "+---------+-------+--------------+\n",
      "[1 rows x 3 columns]\n",
      "\n",
      "\n",
      "Per Item RMSE (best)\n",
      "+---------+-------+----------------+\n",
      "| joke_id | count |      rmse      |\n",
      "+---------+-------+----------------+\n",
      "|    1    |   30  | 0.949993211352 |\n",
      "+---------+-------+----------------+\n",
      "[1 rows x 3 columns]\n",
      "\n",
      "\n",
      "Per Item RMSE (worst)\n",
      "+---------+-------+---------------+\n",
      "| joke_id | count |      rmse     |\n",
      "+---------+-------+---------------+\n",
      "|   117   |   1   | 8.58284767563 |\n",
      "+---------+-------+---------------+\n",
      "[1 rows x 3 columns]\n",
      "\n",
      "PROGRESS: Evaluate model M1\n",
      "\n",
      "Precision and recall summary statistics by cutoff\n",
      "+--------+-----------------+-----------------+\n",
      "| cutoff |  mean_precision |   mean_recall   |\n",
      "+--------+-----------------+-----------------+\n",
      "|   1    | 0.0266075388027 | 0.0158772988131 |\n",
      "|   2    | 0.0365853658537 | 0.0257293604307 |\n",
      "|   3    | 0.0487804878049 | 0.0395628046363 |\n",
      "|   4    | 0.0540465631929 | 0.0514524510325 |\n",
      "|   5    | 0.0583148558758 | 0.0632689373713 |\n",
      "|   6    | 0.0622690317812 | 0.0743007551464 |\n",
      "|   7    | 0.0646183085207 | 0.0860544160518 |\n",
      "|   8    | 0.0656873614191 | 0.0956329445541 |\n",
      "|   9    | 0.0670115792067 |  0.106445713997 |\n",
      "|   10   | 0.0678492239468 |  0.119814705635 |\n",
      "+--------+-----------------+-----------------+\n",
      "[10 rows x 3 columns]\n",
      "\n",
      "('\\nOverall RMSE: ', 4.255689806258427)\n",
      "\n",
      "Per User RMSE (best)\n",
      "+---------+-------+-----------------+\n",
      "| user_id | count |       rmse      |\n",
      "+---------+-------+-----------------+\n",
      "|  11666  |   1   | 0.0649693688042 |\n",
      "+---------+-------+-----------------+\n",
      "[1 rows x 3 columns]\n",
      "\n",
      "\n",
      "Per User RMSE (worst)\n",
      "+---------+-------+---------------+\n",
      "| user_id | count |      rmse     |\n",
      "+---------+-------+---------------+\n",
      "|  11651  |   2   | 15.2204008058 |\n",
      "+---------+-------+---------------+\n",
      "[1 rows x 3 columns]\n",
      "\n",
      "\n",
      "Per Item RMSE (best)\n",
      "+---------+-------+----------------+\n",
      "| joke_id | count |      rmse      |\n",
      "+---------+-------+----------------+\n",
      "|    28   |   2   | 0.721732928681 |\n",
      "+---------+-------+----------------+\n",
      "[1 rows x 3 columns]\n",
      "\n",
      "\n",
      "Per Item RMSE (worst)\n",
      "+---------+-------+---------------+\n",
      "| joke_id | count |      rmse     |\n",
      "+---------+-------+---------------+\n",
      "|   117   |   1   | 12.3407862564 |\n",
      "+---------+-------+---------------+\n",
      "[1 rows x 3 columns]\n",
      "\n"
     ]
    },
    {
     "data": {
      "text/plain": [
       "[{'precision_recall_by_user': Columns:\n",
       "  \tuser_id\tint\n",
       "  \tcutoff\tint\n",
       "  \tprecision\tfloat\n",
       "  \trecall\tfloat\n",
       "  \tcount\tint\n",
       "  \n",
       "  Rows: 16236\n",
       "  \n",
       "  Data:\n",
       "  +---------+--------+-----------+--------+-------+\n",
       "  | user_id | cutoff | precision | recall | count |\n",
       "  +---------+--------+-----------+--------+-------+\n",
       "  |    21   |   1    |    0.0    |  0.0   |   12  |\n",
       "  |    21   |   2    |    0.0    |  0.0   |   12  |\n",
       "  |    21   |   3    |    0.0    |  0.0   |   12  |\n",
       "  |    21   |   4    |    0.0    |  0.0   |   12  |\n",
       "  |    21   |   5    |    0.0    |  0.0   |   12  |\n",
       "  |    21   |   6    |    0.0    |  0.0   |   12  |\n",
       "  |    21   |   7    |    0.0    |  0.0   |   12  |\n",
       "  |    21   |   8    |    0.0    |  0.0   |   12  |\n",
       "  |    21   |   9    |    0.0    |  0.0   |   12  |\n",
       "  |    21   |   10   |    0.0    |  0.0   |   12  |\n",
       "  +---------+--------+-----------+--------+-------+\n",
       "  [16236 rows x 5 columns]\n",
       "  Note: Only the head of the SFrame is printed.\n",
       "  You can use print_rows(num_rows=m, num_columns=n) to print more rows and columns.,\n",
       "  'precision_recall_overall': Columns:\n",
       "  \tcutoff\tint\n",
       "  \tprecision\tfloat\n",
       "  \trecall\tfloat\n",
       "  \n",
       "  Rows: 18\n",
       "  \n",
       "  Data:\n",
       "  +--------+-----------------+-----------------+\n",
       "  | cutoff |    precision    |      recall     |\n",
       "  +--------+-----------------+-----------------+\n",
       "  |   1    | 0.0343680709534 | 0.0222099039172 |\n",
       "  |   2    | 0.0654101995565 | 0.0416696053874 |\n",
       "  |   3    | 0.0764966740576 | 0.0577688485153 |\n",
       "  |   4    | 0.0789911308204 | 0.0698912210673 |\n",
       "  |   5    | 0.0789356984479 | 0.0808874725463 |\n",
       "  |   6    | 0.0822246858832 | 0.0961156638946 |\n",
       "  |   7    | 0.0826734241368 |  0.111589591039 |\n",
       "  |   8    | 0.0852272727273 |  0.126635815164 |\n",
       "  |   9    | 0.0851194875585 |  0.140047090694 |\n",
       "  |   10   | 0.0849223946785 |  0.151872565217 |\n",
       "  +--------+-----------------+-----------------+\n",
       "  [18 rows x 3 columns]\n",
       "  Note: Only the head of the SFrame is printed.\n",
       "  You can use print_rows(num_rows=m, num_columns=n) to print more rows and columns.,\n",
       "  'rmse_by_item': Columns:\n",
       "  \tjoke_id\tint\n",
       "  \tcount\tint\n",
       "  \trmse\tfloat\n",
       "  \n",
       "  Rows: 136\n",
       "  \n",
       "  Data:\n",
       "  +---------+-------+----------------+\n",
       "  | joke_id | count |      rmse      |\n",
       "  +---------+-------+----------------+\n",
       "  |   118   |   50  | 3.78030253923  |\n",
       "  |    92   |   34  | 4.26376374897  |\n",
       "  |    40   |   26  |  4.3797833776  |\n",
       "  |   130   |   58  | 4.79154348778  |\n",
       "  |    1    |   30  | 0.949993211352 |\n",
       "  |    68   |   17  | 5.55825337799  |\n",
       "  |    49   |   41  | 5.32365333292  |\n",
       "  |    14   |  144  | 5.41112482536  |\n",
       "  |    38   |   15  | 4.33772481923  |\n",
       "  |   112   |   44  | 3.99863856019  |\n",
       "  +---------+-------+----------------+\n",
       "  [136 rows x 3 columns]\n",
       "  Note: Only the head of the SFrame is printed.\n",
       "  You can use print_rows(num_rows=m, num_columns=n) to print more rows and columns.,\n",
       "  'rmse_by_user': Columns:\n",
       "  \tuser_id\tint\n",
       "  \tcount\tint\n",
       "  \trmse\tfloat\n",
       "  \n",
       "  Rows: 902\n",
       "  \n",
       "  Data:\n",
       "  +---------+-------+---------------+\n",
       "  | user_id | count |      rmse     |\n",
       "  +---------+-------+---------------+\n",
       "  |  23107  |   1   | 1.34409052593 |\n",
       "  |   2427  |   11  | 3.23908317324 |\n",
       "  |  27161  |   3   |  2.0091933893 |\n",
       "  |   7899  |   9   | 1.82882258538 |\n",
       "  |  26319  |   11  | 2.96446958815 |\n",
       "  |  13034  |   3   | 2.62494493918 |\n",
       "  |  37732  |   16  | 4.47242261042 |\n",
       "  |  19584  |   1   | 6.38146757063 |\n",
       "  |  10436  |   2   | 6.65116670956 |\n",
       "  |  17777  |   1   | 1.14295144108 |\n",
       "  +---------+-------+---------------+\n",
       "  [902 rows x 3 columns]\n",
       "  Note: Only the head of the SFrame is printed.\n",
       "  You can use print_rows(num_rows=m, num_columns=n) to print more rows and columns.,\n",
       "  'rmse_overall': 4.70832838332647},\n",
       " {'precision_recall_by_user': Columns:\n",
       "  \tuser_id\tint\n",
       "  \tcutoff\tint\n",
       "  \tprecision\tfloat\n",
       "  \trecall\tfloat\n",
       "  \tcount\tint\n",
       "  \n",
       "  Rows: 16236\n",
       "  \n",
       "  Data:\n",
       "  +---------+--------+----------------+-----------------+-------+\n",
       "  | user_id | cutoff |   precision    |      recall     | count |\n",
       "  +---------+--------+----------------+-----------------+-------+\n",
       "  |    21   |   1    |      0.0       |       0.0       |   12  |\n",
       "  |    21   |   2    |      0.0       |       0.0       |   12  |\n",
       "  |    21   |   3    |      0.0       |       0.0       |   12  |\n",
       "  |    21   |   4    |      0.25      | 0.0833333333333 |   12  |\n",
       "  |    21   |   5    |      0.2       | 0.0833333333333 |   12  |\n",
       "  |    21   |   6    | 0.166666666667 | 0.0833333333333 |   12  |\n",
       "  |    21   |   7    | 0.142857142857 | 0.0833333333333 |   12  |\n",
       "  |    21   |   8    |     0.125      | 0.0833333333333 |   12  |\n",
       "  |    21   |   9    | 0.111111111111 | 0.0833333333333 |   12  |\n",
       "  |    21   |   10   |      0.1       | 0.0833333333333 |   12  |\n",
       "  +---------+--------+----------------+-----------------+-------+\n",
       "  [16236 rows x 5 columns]\n",
       "  Note: Only the head of the SFrame is printed.\n",
       "  You can use print_rows(num_rows=m, num_columns=n) to print more rows and columns.,\n",
       "  'precision_recall_overall': Columns:\n",
       "  \tcutoff\tint\n",
       "  \tprecision\tfloat\n",
       "  \trecall\tfloat\n",
       "  \n",
       "  Rows: 18\n",
       "  \n",
       "  Data:\n",
       "  +--------+-----------------+-----------------+\n",
       "  | cutoff |    precision    |      recall     |\n",
       "  +--------+-----------------+-----------------+\n",
       "  |   1    | 0.0266075388027 | 0.0158772988131 |\n",
       "  |   2    | 0.0365853658537 | 0.0257293604307 |\n",
       "  |   3    | 0.0487804878049 | 0.0395628046363 |\n",
       "  |   4    | 0.0540465631929 | 0.0514524510325 |\n",
       "  |   5    | 0.0583148558758 | 0.0632689373713 |\n",
       "  |   6    | 0.0622690317812 | 0.0743007551464 |\n",
       "  |   7    | 0.0646183085207 | 0.0860544160518 |\n",
       "  |   8    | 0.0656873614191 | 0.0956329445541 |\n",
       "  |   9    | 0.0670115792067 |  0.106445713997 |\n",
       "  |   10   | 0.0678492239468 |  0.119814705635 |\n",
       "  +--------+-----------------+-----------------+\n",
       "  [18 rows x 3 columns]\n",
       "  Note: Only the head of the SFrame is printed.\n",
       "  You can use print_rows(num_rows=m, num_columns=n) to print more rows and columns.,\n",
       "  'rmse_by_item': Columns:\n",
       "  \tjoke_id\tint\n",
       "  \tcount\tint\n",
       "  \trmse\tfloat\n",
       "  \n",
       "  Rows: 136\n",
       "  \n",
       "  Data:\n",
       "  +---------+-------+---------------+\n",
       "  | joke_id | count |      rmse     |\n",
       "  +---------+-------+---------------+\n",
       "  |   118   |   50  | 2.56186407692 |\n",
       "  |    92   |   34  | 3.74835313809 |\n",
       "  |    40   |   26  | 3.27381336477 |\n",
       "  |   130   |   58  | 3.89741558347 |\n",
       "  |    1    |   30  | 1.08143248604 |\n",
       "  |    68   |   17  | 3.97126146651 |\n",
       "  |    49   |   41  | 4.14627927452 |\n",
       "  |    14   |  144  | 5.36489494605 |\n",
       "  |    38   |   15  | 4.27394713518 |\n",
       "  |   112   |   44  | 3.58117339618 |\n",
       "  +---------+-------+---------------+\n",
       "  [136 rows x 3 columns]\n",
       "  Note: Only the head of the SFrame is printed.\n",
       "  You can use print_rows(num_rows=m, num_columns=n) to print more rows and columns.,\n",
       "  'rmse_by_user': Columns:\n",
       "  \tuser_id\tint\n",
       "  \tcount\tint\n",
       "  \trmse\tfloat\n",
       "  \n",
       "  Rows: 902\n",
       "  \n",
       "  Data:\n",
       "  +---------+-------+----------------+\n",
       "  | user_id | count |      rmse      |\n",
       "  +---------+-------+----------------+\n",
       "  |  23107  |   1   | 0.726679287326 |\n",
       "  |   2427  |   11  | 2.76849149305  |\n",
       "  |  27161  |   3   | 1.19474375757  |\n",
       "  |   7899  |   9   | 1.61683231235  |\n",
       "  |  26319  |   11  | 2.09908949633  |\n",
       "  |  13034  |   3   | 1.42683123963  |\n",
       "  |  37732  |   16  | 3.65277061765  |\n",
       "  |  19584  |   1   | 5.98232630693  |\n",
       "  |  10436  |   2   | 8.71559715939  |\n",
       "  |  17777  |   1   | 6.64190768398  |\n",
       "  +---------+-------+----------------+\n",
       "  [902 rows x 3 columns]\n",
       "  Note: Only the head of the SFrame is printed.\n",
       "  You can use print_rows(num_rows=m, num_columns=n) to print more rows and columns.,\n",
       "  'rmse_overall': 4.255689806258427}]"
      ]
     },
     "execution_count": 32,
     "metadata": {},
     "output_type": "execute_result"
    }
   ],
   "source": [
    "rec1 = graphlab.recommender.factorization_recommender.create(\n",
    "            train_data,\n",
    "            user_id='user_id',\n",
    "            item_id='joke_id',\n",
    "            target='rating',\n",
    "            item_data=graphlab.SFrame(item_data))\n",
    "rec2 = graphlab.recommender.factorization_recommender.create(\n",
    "            train_data,\n",
    "            user_id='user_id',\n",
    "            item_id='joke_id',\n",
    "            target='rating')\n",
    "\n",
    "graphlab.recommender.util.compare_models(test_data, [rec1, rec2])"
   ]
  },
  {
   "cell_type": "code",
   "execution_count": 22,
   "metadata": {},
   "outputs": [
    {
     "name": "stdout",
     "output_type": "stream",
     "text": [
      "PROGRESS: Evaluate model M0\n",
      "\n",
      "Precision and recall summary statistics by cutoff\n",
      "+--------+----------------+-----------------+\n",
      "| cutoff | mean_precision |   mean_recall   |\n",
      "+--------+----------------+-----------------+\n",
      "|   1    | 0.208425720621 | 0.0688009836856 |\n",
      "|   2    | 0.177937915743 |  0.109405781741 |\n",
      "|   3    | 0.162601626016 |  0.13474367271  |\n",
      "|   4    | 0.146341463415 |  0.157583389226 |\n",
      "|   5    | 0.135476718404 |  0.175122049782 |\n",
      "|   6    | 0.126016260163 |  0.187623575329 |\n",
      "|   7    | 0.117991764333 |  0.197001282588 |\n",
      "|   8    | 0.111141906874 |  0.207614820673 |\n",
      "|   9    | 0.107908351811 |  0.22384258628  |\n",
      "|   10   | 0.104101995565 |  0.234589303232 |\n",
      "+--------+----------------+-----------------+\n",
      "[10 rows x 3 columns]\n",
      "\n",
      "PROGRESS: Evaluate model M1\n",
      "\n",
      "Precision and recall summary statistics by cutoff\n",
      "+--------+-----------------+-----------------+\n",
      "| cutoff |  mean_precision |   mean_recall   |\n",
      "+--------+-----------------+-----------------+\n",
      "|   1    |  0.151884700665 | 0.0467055982821 |\n",
      "|   2    |  0.138580931264 | 0.0758396795476 |\n",
      "|   3    |  0.130820399113 | 0.0996907648067 |\n",
      "|   4    |  0.119456762749 |  0.11418167995  |\n",
      "|   5    |  0.107982261641 |  0.125195784636 |\n",
      "|   6    |  0.103658536585 |  0.139709384296 |\n",
      "|   7    |  0.101203674374 |  0.15523544505  |\n",
      "|   8    | 0.0979767184035 |  0.166498375842 |\n",
      "|   9    | 0.0948509485095 |  0.175254651652 |\n",
      "|   10   | 0.0935698447894 |  0.186303152791 |\n",
      "+--------+-----------------+-----------------+\n",
      "[10 rows x 3 columns]\n",
      "\n"
     ]
    },
    {
     "data": {
      "text/plain": [
       "[{'precision_recall_by_user': Columns:\n",
       "  \tuser_id\tint\n",
       "  \tcutoff\tint\n",
       "  \tprecision\tfloat\n",
       "  \trecall\tfloat\n",
       "  \tcount\tint\n",
       "  \n",
       "  Rows: 16236\n",
       "  \n",
       "  Data:\n",
       "  +---------+--------+----------------+-----------------+-------+\n",
       "  | user_id | cutoff |   precision    |      recall     | count |\n",
       "  +---------+--------+----------------+-----------------+-------+\n",
       "  |    21   |   1    |      1.0       | 0.0833333333333 |   12  |\n",
       "  |    21   |   2    |      0.5       | 0.0833333333333 |   12  |\n",
       "  |    21   |   3    | 0.666666666667 |  0.166666666667 |   12  |\n",
       "  |    21   |   4    |      0.5       |  0.166666666667 |   12  |\n",
       "  |    21   |   5    |      0.4       |  0.166666666667 |   12  |\n",
       "  |    21   |   6    | 0.333333333333 |  0.166666666667 |   12  |\n",
       "  |    21   |   7    | 0.285714285714 |  0.166666666667 |   12  |\n",
       "  |    21   |   8    |      0.25      |  0.166666666667 |   12  |\n",
       "  |    21   |   9    | 0.222222222222 |  0.166666666667 |   12  |\n",
       "  |    21   |   10   |      0.2       |  0.166666666667 |   12  |\n",
       "  +---------+--------+----------------+-----------------+-------+\n",
       "  [16236 rows x 5 columns]\n",
       "  Note: Only the head of the SFrame is printed.\n",
       "  You can use print_rows(num_rows=m, num_columns=n) to print more rows and columns.,\n",
       "  'precision_recall_overall': Columns:\n",
       "  \tcutoff\tint\n",
       "  \tprecision\tfloat\n",
       "  \trecall\tfloat\n",
       "  \n",
       "  Rows: 18\n",
       "  \n",
       "  Data:\n",
       "  +--------+----------------+-----------------+\n",
       "  | cutoff |   precision    |      recall     |\n",
       "  +--------+----------------+-----------------+\n",
       "  |   1    | 0.208425720621 | 0.0688009836856 |\n",
       "  |   2    | 0.177937915743 |  0.109405781741 |\n",
       "  |   3    | 0.162601626016 |  0.13474367271  |\n",
       "  |   4    | 0.146341463415 |  0.157583389226 |\n",
       "  |   5    | 0.135476718404 |  0.175122049782 |\n",
       "  |   6    | 0.126016260163 |  0.187623575329 |\n",
       "  |   7    | 0.117991764333 |  0.197001282588 |\n",
       "  |   8    | 0.111141906874 |  0.207614820673 |\n",
       "  |   9    | 0.107908351811 |  0.22384258628  |\n",
       "  |   10   | 0.104101995565 |  0.234589303232 |\n",
       "  +--------+----------------+-----------------+\n",
       "  [18 rows x 3 columns]\n",
       "  Note: Only the head of the SFrame is printed.\n",
       "  You can use print_rows(num_rows=m, num_columns=n) to print more rows and columns.},\n",
       " {'precision_recall_by_user': Columns:\n",
       "  \tuser_id\tint\n",
       "  \tcutoff\tint\n",
       "  \tprecision\tfloat\n",
       "  \trecall\tfloat\n",
       "  \tcount\tint\n",
       "  \n",
       "  Rows: 16236\n",
       "  \n",
       "  Data:\n",
       "  +---------+--------+----------------+-----------------+-------+\n",
       "  | user_id | cutoff |   precision    |      recall     | count |\n",
       "  +---------+--------+----------------+-----------------+-------+\n",
       "  |    21   |   1    |      1.0       | 0.0833333333333 |   12  |\n",
       "  |    21   |   2    |      0.5       | 0.0833333333333 |   12  |\n",
       "  |    21   |   3    | 0.333333333333 | 0.0833333333333 |   12  |\n",
       "  |    21   |   4    |      0.25      | 0.0833333333333 |   12  |\n",
       "  |    21   |   5    |      0.2       | 0.0833333333333 |   12  |\n",
       "  |    21   |   6    | 0.166666666667 | 0.0833333333333 |   12  |\n",
       "  |    21   |   7    | 0.142857142857 | 0.0833333333333 |   12  |\n",
       "  |    21   |   8    |     0.125      | 0.0833333333333 |   12  |\n",
       "  |    21   |   9    | 0.111111111111 | 0.0833333333333 |   12  |\n",
       "  |    21   |   10   |      0.1       | 0.0833333333333 |   12  |\n",
       "  +---------+--------+----------------+-----------------+-------+\n",
       "  [16236 rows x 5 columns]\n",
       "  Note: Only the head of the SFrame is printed.\n",
       "  You can use print_rows(num_rows=m, num_columns=n) to print more rows and columns.,\n",
       "  'precision_recall_overall': Columns:\n",
       "  \tcutoff\tint\n",
       "  \tprecision\tfloat\n",
       "  \trecall\tfloat\n",
       "  \n",
       "  Rows: 18\n",
       "  \n",
       "  Data:\n",
       "  +--------+-----------------+-----------------+\n",
       "  | cutoff |    precision    |      recall     |\n",
       "  +--------+-----------------+-----------------+\n",
       "  |   1    |  0.151884700665 | 0.0467055982821 |\n",
       "  |   2    |  0.138580931264 | 0.0758396795476 |\n",
       "  |   3    |  0.130820399113 | 0.0996907648067 |\n",
       "  |   4    |  0.119456762749 |  0.11418167995  |\n",
       "  |   5    |  0.107982261641 |  0.125195784636 |\n",
       "  |   6    |  0.103658536585 |  0.139709384296 |\n",
       "  |   7    |  0.101203674374 |  0.15523544505  |\n",
       "  |   8    | 0.0979767184035 |  0.166498375842 |\n",
       "  |   9    | 0.0948509485095 |  0.175254651652 |\n",
       "  |   10   | 0.0935698447894 |  0.186303152791 |\n",
       "  +--------+-----------------+-----------------+\n",
       "  [18 rows x 3 columns]\n",
       "  Note: Only the head of the SFrame is printed.\n",
       "  You can use print_rows(num_rows=m, num_columns=n) to print more rows and columns.}]"
      ]
     },
     "execution_count": 22,
     "metadata": {},
     "output_type": "execute_result"
    }
   ],
   "source": [
    "graphlab.recommender.util.compare_models(test_data, [rec1, rec2], metric='precision_recall')"
   ]
  },
  {
   "cell_type": "code",
   "execution_count": 145,
   "metadata": {},
   "outputs": [],
   "source": [
    "sample_subl_df = pd.read_csv('data/sample_submission.csv')\n",
    "sample_prediciton = rec.predict(graphlab.SFrame(sample_subl_df))\n",
    "sample_subl_df['rating'] = sample_prediciton.to_numpy()\n",
    "sample_subl_df.to_csv('data/submission_1.csv', index=False)"
   ]
  },
  {
   "cell_type": "code",
   "execution_count": 141,
   "metadata": {},
   "outputs": [
    {
     "data": {
      "text/html": [
       "<div>\n",
       "<table border=\"1\" class=\"dataframe\">\n",
       "  <thead>\n",
       "    <tr style=\"text-align: right;\">\n",
       "      <th></th>\n",
       "      <th>user_id</th>\n",
       "      <th>joke_id</th>\n",
       "      <th>rating</th>\n",
       "    </tr>\n",
       "  </thead>\n",
       "  <tbody>\n",
       "    <tr>\n",
       "      <th>0</th>\n",
       "      <td>49541</td>\n",
       "      <td>113</td>\n",
       "      <td>5</td>\n",
       "    </tr>\n",
       "    <tr>\n",
       "      <th>1</th>\n",
       "      <td>39499</td>\n",
       "      <td>37</td>\n",
       "      <td>5</td>\n",
       "    </tr>\n",
       "    <tr>\n",
       "      <th>2</th>\n",
       "      <td>36804</td>\n",
       "      <td>73</td>\n",
       "      <td>5</td>\n",
       "    </tr>\n",
       "    <tr>\n",
       "      <th>3</th>\n",
       "      <td>16470</td>\n",
       "      <td>33</td>\n",
       "      <td>5</td>\n",
       "    </tr>\n",
       "    <tr>\n",
       "      <th>4</th>\n",
       "      <td>22614</td>\n",
       "      <td>128</td>\n",
       "      <td>5</td>\n",
       "    </tr>\n",
       "  </tbody>\n",
       "</table>\n",
       "</div>"
      ],
      "text/plain": [
       "   user_id  joke_id  rating\n",
       "0    49541      113       5\n",
       "1    39499       37       5\n",
       "2    36804       73       5\n",
       "3    16470       33       5\n",
       "4    22614      128       5"
      ]
     },
     "execution_count": 141,
     "metadata": {},
     "output_type": "execute_result"
    }
   ],
   "source": [
    "sample_subl_df.head()"
   ]
  },
  {
   "cell_type": "code",
   "execution_count": 43,
   "metadata": {},
   "outputs": [
    {
     "data": {
      "text/html": [
       "<div>\n",
       "<table border=\"1\" class=\"dataframe\">\n",
       "  <thead>\n",
       "    <tr style=\"text-align: right;\">\n",
       "      <th></th>\n",
       "      <th>user_id</th>\n",
       "      <th>joke_id</th>\n",
       "      <th>rating</th>\n",
       "    </tr>\n",
       "  </thead>\n",
       "  <tbody>\n",
       "    <tr>\n",
       "      <th>0</th>\n",
       "      <td>49541</td>\n",
       "      <td>113</td>\n",
       "      <td>3.512365</td>\n",
       "    </tr>\n",
       "    <tr>\n",
       "      <th>1</th>\n",
       "      <td>39499</td>\n",
       "      <td>37</td>\n",
       "      <td>1.909110</td>\n",
       "    </tr>\n",
       "    <tr>\n",
       "      <th>2</th>\n",
       "      <td>36804</td>\n",
       "      <td>73</td>\n",
       "      <td>4.493262</td>\n",
       "    </tr>\n",
       "    <tr>\n",
       "      <th>3</th>\n",
       "      <td>16470</td>\n",
       "      <td>33</td>\n",
       "      <td>5.520261</td>\n",
       "    </tr>\n",
       "    <tr>\n",
       "      <th>4</th>\n",
       "      <td>22614</td>\n",
       "      <td>128</td>\n",
       "      <td>4.843938</td>\n",
       "    </tr>\n",
       "    <tr>\n",
       "      <th>5</th>\n",
       "      <td>21787</td>\n",
       "      <td>54</td>\n",
       "      <td>6.658633</td>\n",
       "    </tr>\n",
       "    <tr>\n",
       "      <th>6</th>\n",
       "      <td>38999</td>\n",
       "      <td>115</td>\n",
       "      <td>1.895420</td>\n",
       "    </tr>\n",
       "    <tr>\n",
       "      <th>7</th>\n",
       "      <td>47214</td>\n",
       "      <td>90</td>\n",
       "      <td>2.545023</td>\n",
       "    </tr>\n",
       "    <tr>\n",
       "      <th>8</th>\n",
       "      <td>26710</td>\n",
       "      <td>137</td>\n",
       "      <td>1.456161</td>\n",
       "    </tr>\n",
       "    <tr>\n",
       "      <th>9</th>\n",
       "      <td>28308</td>\n",
       "      <td>54</td>\n",
       "      <td>8.320579</td>\n",
       "    </tr>\n",
       "    <tr>\n",
       "      <th>10</th>\n",
       "      <td>35827</td>\n",
       "      <td>22</td>\n",
       "      <td>5.489818</td>\n",
       "    </tr>\n",
       "    <tr>\n",
       "      <th>11</th>\n",
       "      <td>10051</td>\n",
       "      <td>17</td>\n",
       "      <td>-8.782338</td>\n",
       "    </tr>\n",
       "    <tr>\n",
       "      <th>12</th>\n",
       "      <td>5751</td>\n",
       "      <td>20</td>\n",
       "      <td>-3.330741</td>\n",
       "    </tr>\n",
       "    <tr>\n",
       "      <th>13</th>\n",
       "      <td>27155</td>\n",
       "      <td>131</td>\n",
       "      <td>-1.351308</td>\n",
       "    </tr>\n",
       "    <tr>\n",
       "      <th>14</th>\n",
       "      <td>1001</td>\n",
       "      <td>145</td>\n",
       "      <td>1.863220</td>\n",
       "    </tr>\n",
       "    <tr>\n",
       "      <th>15</th>\n",
       "      <td>8283</td>\n",
       "      <td>16</td>\n",
       "      <td>1.354177</td>\n",
       "    </tr>\n",
       "    <tr>\n",
       "      <th>16</th>\n",
       "      <td>33852</td>\n",
       "      <td>67</td>\n",
       "      <td>1.919363</td>\n",
       "    </tr>\n",
       "    <tr>\n",
       "      <th>17</th>\n",
       "      <td>2224</td>\n",
       "      <td>92</td>\n",
       "      <td>2.983962</td>\n",
       "    </tr>\n",
       "    <tr>\n",
       "      <th>18</th>\n",
       "      <td>31756</td>\n",
       "      <td>90</td>\n",
       "      <td>6.640297</td>\n",
       "    </tr>\n",
       "    <tr>\n",
       "      <th>19</th>\n",
       "      <td>4326</td>\n",
       "      <td>9</td>\n",
       "      <td>1.213810</td>\n",
       "    </tr>\n",
       "    <tr>\n",
       "      <th>20</th>\n",
       "      <td>48606</td>\n",
       "      <td>123</td>\n",
       "      <td>10.715269</td>\n",
       "    </tr>\n",
       "    <tr>\n",
       "      <th>21</th>\n",
       "      <td>46808</td>\n",
       "      <td>73</td>\n",
       "      <td>0.160664</td>\n",
       "    </tr>\n",
       "    <tr>\n",
       "      <th>22</th>\n",
       "      <td>30660</td>\n",
       "      <td>35</td>\n",
       "      <td>-0.703510</td>\n",
       "    </tr>\n",
       "    <tr>\n",
       "      <th>23</th>\n",
       "      <td>13765</td>\n",
       "      <td>1</td>\n",
       "      <td>9.059970</td>\n",
       "    </tr>\n",
       "    <tr>\n",
       "      <th>24</th>\n",
       "      <td>26511</td>\n",
       "      <td>121</td>\n",
       "      <td>2.224668</td>\n",
       "    </tr>\n",
       "    <tr>\n",
       "      <th>25</th>\n",
       "      <td>47431</td>\n",
       "      <td>106</td>\n",
       "      <td>6.073616</td>\n",
       "    </tr>\n",
       "    <tr>\n",
       "      <th>26</th>\n",
       "      <td>30852</td>\n",
       "      <td>91</td>\n",
       "      <td>3.645907</td>\n",
       "    </tr>\n",
       "    <tr>\n",
       "      <th>27</th>\n",
       "      <td>42698</td>\n",
       "      <td>9</td>\n",
       "      <td>-2.564765</td>\n",
       "    </tr>\n",
       "    <tr>\n",
       "      <th>28</th>\n",
       "      <td>6624</td>\n",
       "      <td>9</td>\n",
       "      <td>-4.836099</td>\n",
       "    </tr>\n",
       "    <tr>\n",
       "      <th>29</th>\n",
       "      <td>43881</td>\n",
       "      <td>8</td>\n",
       "      <td>-3.459747</td>\n",
       "    </tr>\n",
       "    <tr>\n",
       "      <th>...</th>\n",
       "      <td>...</td>\n",
       "      <td>...</td>\n",
       "      <td>...</td>\n",
       "    </tr>\n",
       "    <tr>\n",
       "      <th>522139</th>\n",
       "      <td>33378</td>\n",
       "      <td>77</td>\n",
       "      <td>3.824289</td>\n",
       "    </tr>\n",
       "    <tr>\n",
       "      <th>522140</th>\n",
       "      <td>11644</td>\n",
       "      <td>25</td>\n",
       "      <td>-3.934166</td>\n",
       "    </tr>\n",
       "    <tr>\n",
       "      <th>522141</th>\n",
       "      <td>37436</td>\n",
       "      <td>9</td>\n",
       "      <td>-3.354847</td>\n",
       "    </tr>\n",
       "    <tr>\n",
       "      <th>522142</th>\n",
       "      <td>48048</td>\n",
       "      <td>97</td>\n",
       "      <td>1.507388</td>\n",
       "    </tr>\n",
       "    <tr>\n",
       "      <th>522143</th>\n",
       "      <td>23991</td>\n",
       "      <td>20</td>\n",
       "      <td>-5.590739</td>\n",
       "    </tr>\n",
       "    <tr>\n",
       "      <th>522144</th>\n",
       "      <td>26275</td>\n",
       "      <td>77</td>\n",
       "      <td>5.853851</td>\n",
       "    </tr>\n",
       "    <tr>\n",
       "      <th>522145</th>\n",
       "      <td>6311</td>\n",
       "      <td>108</td>\n",
       "      <td>4.740481</td>\n",
       "    </tr>\n",
       "    <tr>\n",
       "      <th>522146</th>\n",
       "      <td>13423</td>\n",
       "      <td>135</td>\n",
       "      <td>1.010771</td>\n",
       "    </tr>\n",
       "    <tr>\n",
       "      <th>522147</th>\n",
       "      <td>22628</td>\n",
       "      <td>9</td>\n",
       "      <td>-3.662598</td>\n",
       "    </tr>\n",
       "    <tr>\n",
       "      <th>522148</th>\n",
       "      <td>27004</td>\n",
       "      <td>146</td>\n",
       "      <td>7.643497</td>\n",
       "    </tr>\n",
       "    <tr>\n",
       "      <th>522149</th>\n",
       "      <td>4765</td>\n",
       "      <td>135</td>\n",
       "      <td>2.618531</td>\n",
       "    </tr>\n",
       "    <tr>\n",
       "      <th>522150</th>\n",
       "      <td>40682</td>\n",
       "      <td>18</td>\n",
       "      <td>-1.315661</td>\n",
       "    </tr>\n",
       "    <tr>\n",
       "      <th>522151</th>\n",
       "      <td>37810</td>\n",
       "      <td>9</td>\n",
       "      <td>0.994773</td>\n",
       "    </tr>\n",
       "    <tr>\n",
       "      <th>522152</th>\n",
       "      <td>6280</td>\n",
       "      <td>105</td>\n",
       "      <td>-1.967196</td>\n",
       "    </tr>\n",
       "    <tr>\n",
       "      <th>522153</th>\n",
       "      <td>28463</td>\n",
       "      <td>110</td>\n",
       "      <td>-0.466062</td>\n",
       "    </tr>\n",
       "    <tr>\n",
       "      <th>522154</th>\n",
       "      <td>17982</td>\n",
       "      <td>110</td>\n",
       "      <td>-0.908753</td>\n",
       "    </tr>\n",
       "    <tr>\n",
       "      <th>522155</th>\n",
       "      <td>13559</td>\n",
       "      <td>145</td>\n",
       "      <td>-2.769161</td>\n",
       "    </tr>\n",
       "    <tr>\n",
       "      <th>522156</th>\n",
       "      <td>11630</td>\n",
       "      <td>91</td>\n",
       "      <td>4.372990</td>\n",
       "    </tr>\n",
       "    <tr>\n",
       "      <th>522157</th>\n",
       "      <td>40492</td>\n",
       "      <td>24</td>\n",
       "      <td>0.940946</td>\n",
       "    </tr>\n",
       "    <tr>\n",
       "      <th>522158</th>\n",
       "      <td>50469</td>\n",
       "      <td>9</td>\n",
       "      <td>-10.489408</td>\n",
       "    </tr>\n",
       "    <tr>\n",
       "      <th>522159</th>\n",
       "      <td>911</td>\n",
       "      <td>111</td>\n",
       "      <td>5.021657</td>\n",
       "    </tr>\n",
       "    <tr>\n",
       "      <th>522160</th>\n",
       "      <td>33959</td>\n",
       "      <td>120</td>\n",
       "      <td>3.779661</td>\n",
       "    </tr>\n",
       "    <tr>\n",
       "      <th>522161</th>\n",
       "      <td>31883</td>\n",
       "      <td>59</td>\n",
       "      <td>-0.984521</td>\n",
       "    </tr>\n",
       "    <tr>\n",
       "      <th>522162</th>\n",
       "      <td>21144</td>\n",
       "      <td>20</td>\n",
       "      <td>4.326297</td>\n",
       "    </tr>\n",
       "    <tr>\n",
       "      <th>522163</th>\n",
       "      <td>39184</td>\n",
       "      <td>138</td>\n",
       "      <td>2.169574</td>\n",
       "    </tr>\n",
       "    <tr>\n",
       "      <th>522164</th>\n",
       "      <td>24339</td>\n",
       "      <td>128</td>\n",
       "      <td>6.378479</td>\n",
       "    </tr>\n",
       "    <tr>\n",
       "      <th>522165</th>\n",
       "      <td>34561</td>\n",
       "      <td>16</td>\n",
       "      <td>0.087659</td>\n",
       "    </tr>\n",
       "    <tr>\n",
       "      <th>522166</th>\n",
       "      <td>44137</td>\n",
       "      <td>118</td>\n",
       "      <td>3.206050</td>\n",
       "    </tr>\n",
       "    <tr>\n",
       "      <th>522167</th>\n",
       "      <td>21275</td>\n",
       "      <td>8</td>\n",
       "      <td>-3.205195</td>\n",
       "    </tr>\n",
       "    <tr>\n",
       "      <th>522168</th>\n",
       "      <td>39770</td>\n",
       "      <td>9</td>\n",
       "      <td>2.043581</td>\n",
       "    </tr>\n",
       "  </tbody>\n",
       "</table>\n",
       "<p>522169 rows × 3 columns</p>\n",
       "</div>"
      ],
      "text/plain": [
       "        user_id  joke_id     rating\n",
       "0         49541      113   3.512365\n",
       "1         39499       37   1.909110\n",
       "2         36804       73   4.493262\n",
       "3         16470       33   5.520261\n",
       "4         22614      128   4.843938\n",
       "5         21787       54   6.658633\n",
       "6         38999      115   1.895420\n",
       "7         47214       90   2.545023\n",
       "8         26710      137   1.456161\n",
       "9         28308       54   8.320579\n",
       "10        35827       22   5.489818\n",
       "11        10051       17  -8.782338\n",
       "12         5751       20  -3.330741\n",
       "13        27155      131  -1.351308\n",
       "14         1001      145   1.863220\n",
       "15         8283       16   1.354177\n",
       "16        33852       67   1.919363\n",
       "17         2224       92   2.983962\n",
       "18        31756       90   6.640297\n",
       "19         4326        9   1.213810\n",
       "20        48606      123  10.715269\n",
       "21        46808       73   0.160664\n",
       "22        30660       35  -0.703510\n",
       "23        13765        1   9.059970\n",
       "24        26511      121   2.224668\n",
       "25        47431      106   6.073616\n",
       "26        30852       91   3.645907\n",
       "27        42698        9  -2.564765\n",
       "28         6624        9  -4.836099\n",
       "29        43881        8  -3.459747\n",
       "...         ...      ...        ...\n",
       "522139    33378       77   3.824289\n",
       "522140    11644       25  -3.934166\n",
       "522141    37436        9  -3.354847\n",
       "522142    48048       97   1.507388\n",
       "522143    23991       20  -5.590739\n",
       "522144    26275       77   5.853851\n",
       "522145     6311      108   4.740481\n",
       "522146    13423      135   1.010771\n",
       "522147    22628        9  -3.662598\n",
       "522148    27004      146   7.643497\n",
       "522149     4765      135   2.618531\n",
       "522150    40682       18  -1.315661\n",
       "522151    37810        9   0.994773\n",
       "522152     6280      105  -1.967196\n",
       "522153    28463      110  -0.466062\n",
       "522154    17982      110  -0.908753\n",
       "522155    13559      145  -2.769161\n",
       "522156    11630       91   4.372990\n",
       "522157    40492       24   0.940946\n",
       "522158    50469        9 -10.489408\n",
       "522159      911      111   5.021657\n",
       "522160    33959      120   3.779661\n",
       "522161    31883       59  -0.984521\n",
       "522162    21144       20   4.326297\n",
       "522163    39184      138   2.169574\n",
       "522164    24339      128   6.378479\n",
       "522165    34561       16   0.087659\n",
       "522166    44137      118   3.206050\n",
       "522167    21275        8  -3.205195\n",
       "522168    39770        9   2.043581\n",
       "\n",
       "[522169 rows x 3 columns]"
      ]
     },
     "execution_count": 43,
     "metadata": {},
     "output_type": "execute_result"
    }
   ],
   "source": [
    "sample_subl_df"
   ]
  },
  {
   "cell_type": "code",
   "execution_count": 45,
   "metadata": {
    "collapsed": true
   },
   "outputs": [],
   "source": [
    "from nltk.tokenize import word_tokenize\n",
    "from nltk.stem.snowball import SnowballStemmer\n",
    "\n",
    "snowball = SnowballStemmer('english')\n",
    "\n",
    "def tokenize(doc):\n",
    "    return [snowball.stem(word) for word in word_tokenize(doc.lower())]\n",
    "\n",
    "vecterizer = TfidfVectorizer(tokenizer=tokenize, stop_words='english')\n",
    "vec_joke = vecterizer.fit_transform(df_jokes['content'])"
   ]
  },
  {
   "cell_type": "code",
   "execution_count": 63,
   "metadata": {},
   "outputs": [
    {
     "data": {
      "text/html": [
       "<pre>Recsys training: model = factorization_recommender</pre>"
      ],
      "text/plain": [
       "Recsys training: model = factorization_recommender"
      ]
     },
     "metadata": {},
     "output_type": "display_data"
    },
    {
     "data": {
      "text/html": [
       "<pre>Preparing data set.</pre>"
      ],
      "text/plain": [
       "Preparing data set."
      ]
     },
     "metadata": {},
     "output_type": "display_data"
    },
    {
     "data": {
      "text/html": [
       "<pre>    Data has 1218325 observations with 50692 users and 151 items.</pre>"
      ],
      "text/plain": [
       "    Data has 1218325 observations with 50692 users and 151 items."
      ]
     },
     "metadata": {},
     "output_type": "display_data"
    },
    {
     "data": {
      "text/html": [
       "<pre>    Data prepared in: 2.36037s</pre>"
      ],
      "text/plain": [
       "    Data prepared in: 2.36037s"
      ]
     },
     "metadata": {},
     "output_type": "display_data"
    },
    {
     "data": {
      "text/html": [
       "<pre>Training factorization_recommender for recommendations.</pre>"
      ],
      "text/plain": [
       "Training factorization_recommender for recommendations."
      ]
     },
     "metadata": {},
     "output_type": "display_data"
    },
    {
     "data": {
      "text/html": [
       "<pre>+--------------------------------+--------------------------------------------------+----------+</pre>"
      ],
      "text/plain": [
       "+--------------------------------+--------------------------------------------------+----------+"
      ]
     },
     "metadata": {},
     "output_type": "display_data"
    },
    {
     "data": {
      "text/html": [
       "<pre>| Parameter                      | Description                                      | Value    |</pre>"
      ],
      "text/plain": [
       "| Parameter                      | Description                                      | Value    |"
      ]
     },
     "metadata": {},
     "output_type": "display_data"
    },
    {
     "data": {
      "text/html": [
       "<pre>+--------------------------------+--------------------------------------------------+----------+</pre>"
      ],
      "text/plain": [
       "+--------------------------------+--------------------------------------------------+----------+"
      ]
     },
     "metadata": {},
     "output_type": "display_data"
    },
    {
     "data": {
      "text/html": [
       "<pre>| num_factors                    | Factor Dimension                                 | 8        |</pre>"
      ],
      "text/plain": [
       "| num_factors                    | Factor Dimension                                 | 8        |"
      ]
     },
     "metadata": {},
     "output_type": "display_data"
    },
    {
     "data": {
      "text/html": [
       "<pre>| regularization                 | L2 Regularization on Factors                     | 1e-05    |</pre>"
      ],
      "text/plain": [
       "| regularization                 | L2 Regularization on Factors                     | 1e-05    |"
      ]
     },
     "metadata": {},
     "output_type": "display_data"
    },
    {
     "data": {
      "text/html": [
       "<pre>| solver                         | Solver used for training                         | adagrad  |</pre>"
      ],
      "text/plain": [
       "| solver                         | Solver used for training                         | adagrad  |"
      ]
     },
     "metadata": {},
     "output_type": "display_data"
    },
    {
     "data": {
      "text/html": [
       "<pre>| linear_regularization          | L2 Regularization on Linear Coefficients         | 1e-10    |</pre>"
      ],
      "text/plain": [
       "| linear_regularization          | L2 Regularization on Linear Coefficients         | 1e-10    |"
      ]
     },
     "metadata": {},
     "output_type": "display_data"
    },
    {
     "data": {
      "text/html": [
       "<pre>| side_data_factorization        | Assign Factors for Side Data                     | True     |</pre>"
      ],
      "text/plain": [
       "| side_data_factorization        | Assign Factors for Side Data                     | True     |"
      ]
     },
     "metadata": {},
     "output_type": "display_data"
    },
    {
     "data": {
      "text/html": [
       "<pre>| max_iterations                 | Maximum Number of Iterations                     | 100      |</pre>"
      ],
      "text/plain": [
       "| max_iterations                 | Maximum Number of Iterations                     | 100      |"
      ]
     },
     "metadata": {},
     "output_type": "display_data"
    },
    {
     "data": {
      "text/html": [
       "<pre>+--------------------------------+--------------------------------------------------+----------+</pre>"
      ],
      "text/plain": [
       "+--------------------------------+--------------------------------------------------+----------+"
      ]
     },
     "metadata": {},
     "output_type": "display_data"
    },
    {
     "data": {
      "text/html": [
       "<pre>  Optimizing model using SGD; tuning step size.</pre>"
      ],
      "text/plain": [
       "  Optimizing model using SGD; tuning step size."
      ]
     },
     "metadata": {},
     "output_type": "display_data"
    },
    {
     "data": {
      "text/html": [
       "<pre>  Using 152290 / 1218325 points for tuning the step size.</pre>"
      ],
      "text/plain": [
       "  Using 152290 / 1218325 points for tuning the step size."
      ]
     },
     "metadata": {},
     "output_type": "display_data"
    },
    {
     "data": {
      "text/html": [
       "<pre>+---------+-------------------+------------------------------------------+</pre>"
      ],
      "text/plain": [
       "+---------+-------------------+------------------------------------------+"
      ]
     },
     "metadata": {},
     "output_type": "display_data"
    },
    {
     "data": {
      "text/html": [
       "<pre>| Attempt | Initial Step Size | Estimated Objective Value                |</pre>"
      ],
      "text/plain": [
       "| Attempt | Initial Step Size | Estimated Objective Value                |"
      ]
     },
     "metadata": {},
     "output_type": "display_data"
    },
    {
     "data": {
      "text/html": [
       "<pre>+---------+-------------------+------------------------------------------+</pre>"
      ],
      "text/plain": [
       "+---------+-------------------+------------------------------------------+"
      ]
     },
     "metadata": {},
     "output_type": "display_data"
    },
    {
     "data": {
      "text/html": [
       "<pre>| 0       | 5.55556           | Not Viable                               |</pre>"
      ],
      "text/plain": [
       "| 0       | 5.55556           | Not Viable                               |"
      ]
     },
     "metadata": {},
     "output_type": "display_data"
    },
    {
     "data": {
      "text/html": [
       "<pre>| 1       | 1.38889           | 5.66817                                  |</pre>"
      ],
      "text/plain": [
       "| 1       | 1.38889           | 5.66817                                  |"
      ]
     },
     "metadata": {},
     "output_type": "display_data"
    },
    {
     "data": {
      "text/html": [
       "<pre>| 2       | 0.694444          | Not Viable                               |</pre>"
      ],
      "text/plain": [
       "| 2       | 0.694444          | Not Viable                               |"
      ]
     },
     "metadata": {},
     "output_type": "display_data"
    },
    {
     "data": {
      "text/html": [
       "<pre>| 3       | 0.173611          | No Decrease (30.2163 >= 27.9932)         |</pre>"
      ],
      "text/plain": [
       "| 3       | 0.173611          | No Decrease (30.2163 >= 27.9932)         |"
      ]
     },
     "metadata": {},
     "output_type": "display_data"
    },
    {
     "data": {
      "text/html": [
       "<pre>| 4       | 0.0434028         | 16.6882                                  |</pre>"
      ],
      "text/plain": [
       "| 4       | 0.0434028         | 16.6882                                  |"
      ]
     },
     "metadata": {},
     "output_type": "display_data"
    },
    {
     "data": {
      "text/html": [
       "<pre>+---------+-------------------+------------------------------------------+</pre>"
      ],
      "text/plain": [
       "+---------+-------------------+------------------------------------------+"
      ]
     },
     "metadata": {},
     "output_type": "display_data"
    },
    {
     "data": {
      "text/html": [
       "<pre>| Final   | 1.38889           | 5.66817                                  |</pre>"
      ],
      "text/plain": [
       "| Final   | 1.38889           | 5.66817                                  |"
      ]
     },
     "metadata": {},
     "output_type": "display_data"
    },
    {
     "data": {
      "text/html": [
       "<pre>+---------+-------------------+------------------------------------------+</pre>"
      ],
      "text/plain": [
       "+---------+-------------------+------------------------------------------+"
      ]
     },
     "metadata": {},
     "output_type": "display_data"
    },
    {
     "data": {
      "text/html": [
       "<pre>Starting Optimization.</pre>"
      ],
      "text/plain": [
       "Starting Optimization."
      ]
     },
     "metadata": {},
     "output_type": "display_data"
    },
    {
     "data": {
      "text/html": [
       "<pre>+---------+--------------+-------------------+-----------------------+-------------+</pre>"
      ],
      "text/plain": [
       "+---------+--------------+-------------------+-----------------------+-------------+"
      ]
     },
     "metadata": {},
     "output_type": "display_data"
    },
    {
     "data": {
      "text/html": [
       "<pre>| Iter.   | Elapsed Time | Approx. Objective | Approx. Training RMSE | Step Size   |</pre>"
      ],
      "text/plain": [
       "| Iter.   | Elapsed Time | Approx. Objective | Approx. Training RMSE | Step Size   |"
      ]
     },
     "metadata": {},
     "output_type": "display_data"
    },
    {
     "data": {
      "text/html": [
       "<pre>+---------+--------------+-------------------+-----------------------+-------------+</pre>"
      ],
      "text/plain": [
       "+---------+--------------+-------------------+-----------------------+-------------+"
      ]
     },
     "metadata": {},
     "output_type": "display_data"
    },
    {
     "data": {
      "text/html": [
       "<pre>| Initial | 8.678ms      | 27.9392           | 5.28576               |             |</pre>"
      ],
      "text/plain": [
       "| Initial | 8.678ms      | 27.9392           | 5.28576               |             |"
      ]
     },
     "metadata": {},
     "output_type": "display_data"
    },
    {
     "data": {
      "text/html": [
       "<pre>+---------+--------------+-------------------+-----------------------+-------------+</pre>"
      ],
      "text/plain": [
       "+---------+--------------+-------------------+-----------------------+-------------+"
      ]
     },
     "metadata": {},
     "output_type": "display_data"
    },
    {
     "data": {
      "text/html": [
       "<pre>| 1       | 1.78s        | 19.3323           | 4.36661               | 1.38889     |</pre>"
      ],
      "text/plain": [
       "| 1       | 1.78s        | 19.3323           | 4.36661               | 1.38889     |"
      ]
     },
     "metadata": {},
     "output_type": "display_data"
    },
    {
     "data": {
      "text/html": [
       "<pre>| 2       | 3.16s        | 17.418            | 4.01316               | 1.38889     |</pre>"
      ],
      "text/plain": [
       "| 2       | 3.16s        | 17.418            | 4.01316               | 1.38889     |"
      ]
     },
     "metadata": {},
     "output_type": "display_data"
    },
    {
     "data": {
      "text/html": [
       "<pre>| 3       | 4.98s        | 15.2183           | 3.63223               | 1.38889     |</pre>"
      ],
      "text/plain": [
       "| 3       | 4.98s        | 15.2183           | 3.63223               | 1.38889     |"
      ]
     },
     "metadata": {},
     "output_type": "display_data"
    },
    {
     "data": {
      "text/html": [
       "<pre>| 4       | 6.32s        | 13.6456           | 3.37986               | 1.38889     |</pre>"
      ],
      "text/plain": [
       "| 4       | 6.32s        | 13.6456           | 3.37986               | 1.38889     |"
      ]
     },
     "metadata": {},
     "output_type": "display_data"
    },
    {
     "data": {
      "text/html": [
       "<pre>| 5       | 7.68s        | 12.9737           | 3.27935               | 1.38889     |</pre>"
      ],
      "text/plain": [
       "| 5       | 7.68s        | 12.9737           | 3.27935               | 1.38889     |"
      ]
     },
     "metadata": {},
     "output_type": "display_data"
    },
    {
     "data": {
      "text/html": [
       "<pre>| 6       | 9.00s        | 12.6086           | 3.22725               | 1.38889     |</pre>"
      ],
      "text/plain": [
       "| 6       | 9.00s        | 12.6086           | 3.22725               | 1.38889     |"
      ]
     },
     "metadata": {},
     "output_type": "display_data"
    },
    {
     "data": {
      "text/html": [
       "<pre>| 7       | 10.26s       | 12.3487           | 3.19473               | 1.38889     |</pre>"
      ],
      "text/plain": [
       "| 7       | 10.26s       | 12.3487           | 3.19473               | 1.38889     |"
      ]
     },
     "metadata": {},
     "output_type": "display_data"
    },
    {
     "data": {
      "text/html": [
       "<pre>| 8       | 11.57s       | 12.1172           | 3.16798               | 1.38889     |</pre>"
      ],
      "text/plain": [
       "| 8       | 11.57s       | 12.1172           | 3.16798               | 1.38889     |"
      ]
     },
     "metadata": {},
     "output_type": "display_data"
    },
    {
     "data": {
      "text/html": [
       "<pre>| 9       | 12.94s       | 11.9748           | 3.15381               | 1.38889     |</pre>"
      ],
      "text/plain": [
       "| 9       | 12.94s       | 11.9748           | 3.15381               | 1.38889     |"
      ]
     },
     "metadata": {},
     "output_type": "display_data"
    },
    {
     "data": {
      "text/html": [
       "<pre>| 10      | 14.25s       | 11.838            | 3.14444               | 1.38889     |</pre>"
      ],
      "text/plain": [
       "| 10      | 14.25s       | 11.838            | 3.14444               | 1.38889     |"
      ]
     },
     "metadata": {},
     "output_type": "display_data"
    },
    {
     "data": {
      "text/html": [
       "<pre>| 11      | 15.57s       | 11.7135           | 3.13302               | 1.38889     |</pre>"
      ],
      "text/plain": [
       "| 11      | 15.57s       | 11.7135           | 3.13302               | 1.38889     |"
      ]
     },
     "metadata": {},
     "output_type": "display_data"
    },
    {
     "data": {
      "text/html": [
       "<pre>| 12      | 17.07s       | 11.6145           | 3.1261                | 1.38889     |</pre>"
      ],
      "text/plain": [
       "| 12      | 17.07s       | 11.6145           | 3.1261                | 1.38889     |"
      ]
     },
     "metadata": {},
     "output_type": "display_data"
    },
    {
     "data": {
      "text/html": [
       "<pre>| 13      | 18.36s       | 11.5194           | 3.11771               | 1.38889     |</pre>"
      ],
      "text/plain": [
       "| 13      | 18.36s       | 11.5194           | 3.11771               | 1.38889     |"
      ]
     },
     "metadata": {},
     "output_type": "display_data"
    },
    {
     "data": {
      "text/html": [
       "<pre>| 14      | 19.71s       | 11.4256           | 3.11221               | 1.38889     |</pre>"
      ],
      "text/plain": [
       "| 14      | 19.71s       | 11.4256           | 3.11221               | 1.38889     |"
      ]
     },
     "metadata": {},
     "output_type": "display_data"
    },
    {
     "data": {
      "text/html": [
       "<pre>| 15      | 21.05s       | 11.3507           | 3.10704               | 1.38889     |</pre>"
      ],
      "text/plain": [
       "| 15      | 21.05s       | 11.3507           | 3.10704               | 1.38889     |"
      ]
     },
     "metadata": {},
     "output_type": "display_data"
    },
    {
     "data": {
      "text/html": [
       "<pre>| 16      | 22.42s       | 11.2791           | 3.10281               | 1.38889     |</pre>"
      ],
      "text/plain": [
       "| 16      | 22.42s       | 11.2791           | 3.10281               | 1.38889     |"
      ]
     },
     "metadata": {},
     "output_type": "display_data"
    },
    {
     "data": {
      "text/html": [
       "<pre>| 17      | 23.71s       | 11.2144           | 3.09842               | 1.38889     |</pre>"
      ],
      "text/plain": [
       "| 17      | 23.71s       | 11.2144           | 3.09842               | 1.38889     |"
      ]
     },
     "metadata": {},
     "output_type": "display_data"
    },
    {
     "data": {
      "text/html": [
       "<pre>| 18      | 25.39s       | 11.1577           | 3.09536               | 1.38889     |</pre>"
      ],
      "text/plain": [
       "| 18      | 25.39s       | 11.1577           | 3.09536               | 1.38889     |"
      ]
     },
     "metadata": {},
     "output_type": "display_data"
    },
    {
     "data": {
      "text/html": [
       "<pre>| 19      | 26.78s       | 11.0995           | 3.09123               | 1.38889     |</pre>"
      ],
      "text/plain": [
       "| 19      | 26.78s       | 11.0995           | 3.09123               | 1.38889     |"
      ]
     },
     "metadata": {},
     "output_type": "display_data"
    },
    {
     "data": {
      "text/html": [
       "<pre>| 20      | 28.05s       | 11.0581           | 3.0908                | 1.38889     |</pre>"
      ],
      "text/plain": [
       "| 20      | 28.05s       | 11.0581           | 3.0908                | 1.38889     |"
      ]
     },
     "metadata": {},
     "output_type": "display_data"
    },
    {
     "data": {
      "text/html": [
       "<pre>| 21      | 29.55s       | 11.0096           | 3.08768               | 1.38889     |</pre>"
      ],
      "text/plain": [
       "| 21      | 29.55s       | 11.0096           | 3.08768               | 1.38889     |"
      ]
     },
     "metadata": {},
     "output_type": "display_data"
    },
    {
     "data": {
      "text/html": [
       "<pre>| 22      | 31.05s       | 10.9634           | 3.08374               | 1.38889     |</pre>"
      ],
      "text/plain": [
       "| 22      | 31.05s       | 10.9634           | 3.08374               | 1.38889     |"
      ]
     },
     "metadata": {},
     "output_type": "display_data"
    },
    {
     "data": {
      "text/html": [
       "<pre>| 23      | 32.36s       | 10.9271           | 3.08362               | 1.38889     |</pre>"
      ],
      "text/plain": [
       "| 23      | 32.36s       | 10.9271           | 3.08362               | 1.38889     |"
      ]
     },
     "metadata": {},
     "output_type": "display_data"
    },
    {
     "data": {
      "text/html": [
       "<pre>| 24      | 33.68s       | 10.8781           | 3.07924               | 1.38889     |</pre>"
      ],
      "text/plain": [
       "| 24      | 33.68s       | 10.8781           | 3.07924               | 1.38889     |"
      ]
     },
     "metadata": {},
     "output_type": "display_data"
    },
    {
     "data": {
      "text/html": [
       "<pre>| 25      | 35.00s       | 10.8384           | 3.07726               | 1.38889     |</pre>"
      ],
      "text/plain": [
       "| 25      | 35.00s       | 10.8384           | 3.07726               | 1.38889     |"
      ]
     },
     "metadata": {},
     "output_type": "display_data"
    },
    {
     "data": {
      "text/html": [
       "<pre>| 26      | 36.31s       | 10.8118           | 3.07621               | 1.38889     |</pre>"
      ],
      "text/plain": [
       "| 26      | 36.31s       | 10.8118           | 3.07621               | 1.38889     |"
      ]
     },
     "metadata": {},
     "output_type": "display_data"
    },
    {
     "data": {
      "text/html": [
       "<pre>| 27      | 37.75s       | 10.7857           | 3.07569               | 1.38889     |</pre>"
      ],
      "text/plain": [
       "| 27      | 37.75s       | 10.7857           | 3.07569               | 1.38889     |"
      ]
     },
     "metadata": {},
     "output_type": "display_data"
    },
    {
     "data": {
      "text/html": [
       "<pre>| 28      | 39.33s       | 10.7514           | 3.07308               | 1.38889     |</pre>"
      ],
      "text/plain": [
       "| 28      | 39.33s       | 10.7514           | 3.07308               | 1.38889     |"
      ]
     },
     "metadata": {},
     "output_type": "display_data"
    },
    {
     "data": {
      "text/html": [
       "<pre>| 29      | 40.70s       | 10.7232           | 3.07145               | 1.38889     |</pre>"
      ],
      "text/plain": [
       "| 29      | 40.70s       | 10.7232           | 3.07145               | 1.38889     |"
      ]
     },
     "metadata": {},
     "output_type": "display_data"
    },
    {
     "data": {
      "text/html": [
       "<pre>| 30      | 41.97s       | 10.7018           | 3.07152               | 1.38889     |</pre>"
      ],
      "text/plain": [
       "| 30      | 41.97s       | 10.7018           | 3.07152               | 1.38889     |"
      ]
     },
     "metadata": {},
     "output_type": "display_data"
    },
    {
     "data": {
      "text/html": [
       "<pre>| 31      | 43.30s       | 10.6702           | 3.06966               | 1.38889     |</pre>"
      ],
      "text/plain": [
       "| 31      | 43.30s       | 10.6702           | 3.06966               | 1.38889     |"
      ]
     },
     "metadata": {},
     "output_type": "display_data"
    },
    {
     "data": {
      "text/html": [
       "<pre>| 32      | 44.58s       | 10.643            | 3.06736               | 1.38889     |</pre>"
      ],
      "text/plain": [
       "| 32      | 44.58s       | 10.643            | 3.06736               | 1.38889     |"
      ]
     },
     "metadata": {},
     "output_type": "display_data"
    },
    {
     "data": {
      "text/html": [
       "<pre>| 33      | 45.83s       | 10.6171           | 3.06558               | 1.38889     |</pre>"
      ],
      "text/plain": [
       "| 33      | 45.83s       | 10.6171           | 3.06558               | 1.38889     |"
      ]
     },
     "metadata": {},
     "output_type": "display_data"
    },
    {
     "data": {
      "text/html": [
       "<pre>| 34      | 47.08s       | 10.5971           | 3.0653                | 1.38889     |</pre>"
      ],
      "text/plain": [
       "| 34      | 47.08s       | 10.5971           | 3.0653                | 1.38889     |"
      ]
     },
     "metadata": {},
     "output_type": "display_data"
    },
    {
     "data": {
      "text/html": [
       "<pre>| 35      | 48.43s       | 10.573            | 3.06405               | 1.38889     |</pre>"
      ],
      "text/plain": [
       "| 35      | 48.43s       | 10.573            | 3.06405               | 1.38889     |"
      ]
     },
     "metadata": {},
     "output_type": "display_data"
    },
    {
     "data": {
      "text/html": [
       "<pre>| 36      | 49.71s       | 10.5528           | 3.06308               | 1.38889     |</pre>"
      ],
      "text/plain": [
       "| 36      | 49.71s       | 10.5528           | 3.06308               | 1.38889     |"
      ]
     },
     "metadata": {},
     "output_type": "display_data"
    },
    {
     "data": {
      "text/html": [
       "<pre>| 37      | 50.97s       | 10.5345           | 3.06196               | 1.38889     |</pre>"
      ],
      "text/plain": [
       "| 37      | 50.97s       | 10.5345           | 3.06196               | 1.38889     |"
      ]
     },
     "metadata": {},
     "output_type": "display_data"
    },
    {
     "data": {
      "text/html": [
       "<pre>| 38      | 52.24s       | 10.511            | 3.05981               | 1.38889     |</pre>"
      ],
      "text/plain": [
       "| 38      | 52.24s       | 10.511            | 3.05981               | 1.38889     |"
      ]
     },
     "metadata": {},
     "output_type": "display_data"
    },
    {
     "data": {
      "text/html": [
       "<pre>| 39      | 53.60s       | 10.496            | 3.0599                | 1.38889     |</pre>"
      ],
      "text/plain": [
       "| 39      | 53.60s       | 10.496            | 3.0599                | 1.38889     |"
      ]
     },
     "metadata": {},
     "output_type": "display_data"
    },
    {
     "data": {
      "text/html": [
       "<pre>| 40      | 54.93s       | 10.483            | 3.05944               | 1.38889     |</pre>"
      ],
      "text/plain": [
       "| 40      | 54.93s       | 10.483            | 3.05944               | 1.38889     |"
      ]
     },
     "metadata": {},
     "output_type": "display_data"
    },
    {
     "data": {
      "text/html": [
       "<pre>| 41      | 56.30s       | 10.4664           | 3.0583                | 1.38889     |</pre>"
      ],
      "text/plain": [
       "| 41      | 56.30s       | 10.4664           | 3.0583                | 1.38889     |"
      ]
     },
     "metadata": {},
     "output_type": "display_data"
    },
    {
     "data": {
      "text/html": [
       "<pre>| 42      | 57.60s       | 10.4474           | 3.05655               | 1.38889     |</pre>"
      ],
      "text/plain": [
       "| 42      | 57.60s       | 10.4474           | 3.05655               | 1.38889     |"
      ]
     },
     "metadata": {},
     "output_type": "display_data"
    },
    {
     "data": {
      "text/html": [
       "<pre>| 43      | 58.91s       | 10.4298           | 3.0561                | 1.38889     |</pre>"
      ],
      "text/plain": [
       "| 43      | 58.91s       | 10.4298           | 3.0561                | 1.38889     |"
      ]
     },
     "metadata": {},
     "output_type": "display_data"
    },
    {
     "data": {
      "text/html": [
       "<pre>| 44      | 1m 0s        | 10.42             | 3.05531               | 1.38889     |</pre>"
      ],
      "text/plain": [
       "| 44      | 1m 0s        | 10.42             | 3.05531               | 1.38889     |"
      ]
     },
     "metadata": {},
     "output_type": "display_data"
    },
    {
     "data": {
      "text/html": [
       "<pre>| 45      | 1m 1s        | 10.401            | 3.05466               | 1.38889     |</pre>"
      ],
      "text/plain": [
       "| 45      | 1m 1s        | 10.401            | 3.05466               | 1.38889     |"
      ]
     },
     "metadata": {},
     "output_type": "display_data"
    },
    {
     "data": {
      "text/html": [
       "<pre>| 46      | 1m 3s        | 10.3882           | 3.05338               | 1.38889     |</pre>"
      ],
      "text/plain": [
       "| 46      | 1m 3s        | 10.3882           | 3.05338               | 1.38889     |"
      ]
     },
     "metadata": {},
     "output_type": "display_data"
    },
    {
     "data": {
      "text/html": [
       "<pre>| 47      | 1m 4s        | 10.3759           | 3.05326               | 1.38889     |</pre>"
      ],
      "text/plain": [
       "| 47      | 1m 4s        | 10.3759           | 3.05326               | 1.38889     |"
      ]
     },
     "metadata": {},
     "output_type": "display_data"
    },
    {
     "data": {
      "text/html": [
       "<pre>| 48      | 1m 6s        | 10.3635           | 3.05235               | 1.38889     |</pre>"
      ],
      "text/plain": [
       "| 48      | 1m 6s        | 10.3635           | 3.05235               | 1.38889     |"
      ]
     },
     "metadata": {},
     "output_type": "display_data"
    },
    {
     "data": {
      "text/html": [
       "<pre>| 49      | 1m 7s        | 10.3455           | 3.05074               | 1.38889     |</pre>"
      ],
      "text/plain": [
       "| 49      | 1m 7s        | 10.3455           | 3.05074               | 1.38889     |"
      ]
     },
     "metadata": {},
     "output_type": "display_data"
    },
    {
     "data": {
      "text/html": [
       "<pre>| 50      | 1m 9s        | 10.328            | 3.04909               | 1.38889     |</pre>"
      ],
      "text/plain": [
       "| 50      | 1m 9s        | 10.328            | 3.04909               | 1.38889     |"
      ]
     },
     "metadata": {},
     "output_type": "display_data"
    },
    {
     "data": {
      "text/html": [
       "<pre>| 51      | 1m 10s       | 10.3134           | 3.04837               | 1.38889     |</pre>"
      ],
      "text/plain": [
       "| 51      | 1m 10s       | 10.3134           | 3.04837               | 1.38889     |"
      ]
     },
     "metadata": {},
     "output_type": "display_data"
    },
    {
     "data": {
      "text/html": [
       "<pre>| 52      | 1m 11s       | 10.3125           | 3.04871               | 1.38889     |</pre>"
      ],
      "text/plain": [
       "| 52      | 1m 11s       | 10.3125           | 3.04871               | 1.38889     |"
      ]
     },
     "metadata": {},
     "output_type": "display_data"
    },
    {
     "data": {
      "text/html": [
       "<pre>| 53      | 1m 13s       | 10.3052           | 3.04886               | 1.38889     |</pre>"
      ],
      "text/plain": [
       "| 53      | 1m 13s       | 10.3052           | 3.04886               | 1.38889     |"
      ]
     },
     "metadata": {},
     "output_type": "display_data"
    },
    {
     "data": {
      "text/html": [
       "<pre>| 54      | 1m 15s       | 10.2841           | 3.04628               | 1.38889     |</pre>"
      ],
      "text/plain": [
       "| 54      | 1m 15s       | 10.2841           | 3.04628               | 1.38889     |"
      ]
     },
     "metadata": {},
     "output_type": "display_data"
    },
    {
     "data": {
      "text/html": [
       "<pre>| 55      | 1m 17s       | 10.2846           | 3.04803               | 1.38889     |</pre>"
      ],
      "text/plain": [
       "| 55      | 1m 17s       | 10.2846           | 3.04803               | 1.38889     |"
      ]
     },
     "metadata": {},
     "output_type": "display_data"
    },
    {
     "data": {
      "text/html": [
       "<pre>| 56      | 1m 19s       | 10.2668           | 3.04593               | 1.38889     |</pre>"
      ],
      "text/plain": [
       "| 56      | 1m 19s       | 10.2668           | 3.04593               | 1.38889     |"
      ]
     },
     "metadata": {},
     "output_type": "display_data"
    },
    {
     "data": {
      "text/html": [
       "<pre>| 57      | 1m 21s       | 10.2509           | 3.04462               | 1.38889     |</pre>"
      ],
      "text/plain": [
       "| 57      | 1m 21s       | 10.2509           | 3.04462               | 1.38889     |"
      ]
     },
     "metadata": {},
     "output_type": "display_data"
    },
    {
     "data": {
      "text/html": [
       "<pre>| 58      | 1m 23s       | 10.2488           | 3.04494               | 1.38889     |</pre>"
      ],
      "text/plain": [
       "| 58      | 1m 23s       | 10.2488           | 3.04494               | 1.38889     |"
      ]
     },
     "metadata": {},
     "output_type": "display_data"
    },
    {
     "data": {
      "text/html": [
       "<pre>| 59      | 1m 25s       | 10.2402           | 3.04512               | 1.38889     |</pre>"
      ],
      "text/plain": [
       "| 59      | 1m 25s       | 10.2402           | 3.04512               | 1.38889     |"
      ]
     },
     "metadata": {},
     "output_type": "display_data"
    },
    {
     "data": {
      "text/html": [
       "<pre>| 60      | 1m 27s       | 10.2277           | 3.04363               | 1.38889     |</pre>"
      ],
      "text/plain": [
       "| 60      | 1m 27s       | 10.2277           | 3.04363               | 1.38889     |"
      ]
     },
     "metadata": {},
     "output_type": "display_data"
    },
    {
     "data": {
      "text/html": [
       "<pre>| 61      | 1m 29s       | 10.2162           | 3.04233               | 1.38889     |</pre>"
      ],
      "text/plain": [
       "| 61      | 1m 29s       | 10.2162           | 3.04233               | 1.38889     |"
      ]
     },
     "metadata": {},
     "output_type": "display_data"
    },
    {
     "data": {
      "text/html": [
       "<pre>| 62      | 1m 31s       | 10.2045           | 3.04097               | 1.38889     |</pre>"
      ],
      "text/plain": [
       "| 62      | 1m 31s       | 10.2045           | 3.04097               | 1.38889     |"
      ]
     },
     "metadata": {},
     "output_type": "display_data"
    },
    {
     "data": {
      "text/html": [
       "<pre>| 63      | 1m 33s       | 10.2055           | 3.04295               | 1.38889     |</pre>"
      ],
      "text/plain": [
       "| 63      | 1m 33s       | 10.2055           | 3.04295               | 1.38889     |"
      ]
     },
     "metadata": {},
     "output_type": "display_data"
    },
    {
     "data": {
      "text/html": [
       "<pre>| 64      | 1m 35s       | 10.193            | 3.04122               | 1.38889     |</pre>"
      ],
      "text/plain": [
       "| 64      | 1m 35s       | 10.193            | 3.04122               | 1.38889     |"
      ]
     },
     "metadata": {},
     "output_type": "display_data"
    },
    {
     "data": {
      "text/html": [
       "<pre>| 65      | 1m 36s       | 10.1794           | 3.04029               | 1.38889     |</pre>"
      ],
      "text/plain": [
       "| 65      | 1m 36s       | 10.1794           | 3.04029               | 1.38889     |"
      ]
     },
     "metadata": {},
     "output_type": "display_data"
    },
    {
     "data": {
      "text/html": [
       "<pre>| 66      | 1m 38s       | 10.1705           | 3.03887               | 1.38889     |</pre>"
      ],
      "text/plain": [
       "| 66      | 1m 38s       | 10.1705           | 3.03887               | 1.38889     |"
      ]
     },
     "metadata": {},
     "output_type": "display_data"
    },
    {
     "data": {
      "text/html": [
       "<pre>| 67      | 1m 39s       | 10.1742           | 3.0405                | 1.38889     |</pre>"
      ],
      "text/plain": [
       "| 67      | 1m 39s       | 10.1742           | 3.0405                | 1.38889     |"
      ]
     },
     "metadata": {},
     "output_type": "display_data"
    },
    {
     "data": {
      "text/html": [
       "<pre>| 68      | 1m 41s       | 10.156            | 3.03864               | 1.38889     |</pre>"
      ],
      "text/plain": [
       "| 68      | 1m 41s       | 10.156            | 3.03864               | 1.38889     |"
      ]
     },
     "metadata": {},
     "output_type": "display_data"
    },
    {
     "data": {
      "text/html": [
       "<pre>| 69      | 1m 42s       | 10.1518           | 3.03822               | 1.38889     |</pre>"
      ],
      "text/plain": [
       "| 69      | 1m 42s       | 10.1518           | 3.03822               | 1.38889     |"
      ]
     },
     "metadata": {},
     "output_type": "display_data"
    },
    {
     "data": {
      "text/html": [
       "<pre>| 70      | 1m 44s       | 10.1477           | 3.03871               | 1.38889     |</pre>"
      ],
      "text/plain": [
       "| 70      | 1m 44s       | 10.1477           | 3.03871               | 1.38889     |"
      ]
     },
     "metadata": {},
     "output_type": "display_data"
    },
    {
     "data": {
      "text/html": [
       "<pre>| 71      | 1m 47s       | 10.1365           | 3.03717               | 1.38889     |</pre>"
      ],
      "text/plain": [
       "| 71      | 1m 47s       | 10.1365           | 3.03717               | 1.38889     |"
      ]
     },
     "metadata": {},
     "output_type": "display_data"
    },
    {
     "data": {
      "text/html": [
       "<pre>| 72      | 1m 48s       | 10.1294           | 3.03654               | 1.38889     |</pre>"
      ],
      "text/plain": [
       "| 72      | 1m 48s       | 10.1294           | 3.03654               | 1.38889     |"
      ]
     },
     "metadata": {},
     "output_type": "display_data"
    },
    {
     "data": {
      "text/html": [
       "<pre>| 73      | 1m 49s       | 10.1244           | 3.03672               | 1.38889     |</pre>"
      ],
      "text/plain": [
       "| 73      | 1m 49s       | 10.1244           | 3.03672               | 1.38889     |"
      ]
     },
     "metadata": {},
     "output_type": "display_data"
    },
    {
     "data": {
      "text/html": [
       "<pre>| 74      | 1m 51s       | 10.1168           | 3.03597               | 1.38889     |</pre>"
      ],
      "text/plain": [
       "| 74      | 1m 51s       | 10.1168           | 3.03597               | 1.38889     |"
      ]
     },
     "metadata": {},
     "output_type": "display_data"
    },
    {
     "data": {
      "text/html": [
       "<pre>| 75      | 1m 52s       | 10.1019           | 3.03411               | 1.38889     |</pre>"
      ],
      "text/plain": [
       "| 75      | 1m 52s       | 10.1019           | 3.03411               | 1.38889     |"
      ]
     },
     "metadata": {},
     "output_type": "display_data"
    },
    {
     "data": {
      "text/html": [
       "<pre>| 76      | 1m 54s       | 10.1037           | 3.03519               | 1.38889     |</pre>"
      ],
      "text/plain": [
       "| 76      | 1m 54s       | 10.1037           | 3.03519               | 1.38889     |"
      ]
     },
     "metadata": {},
     "output_type": "display_data"
    },
    {
     "data": {
      "text/html": [
       "<pre>| 77      | 1m 56s       | 10.0914           | 3.03384               | 1.38889     |</pre>"
      ],
      "text/plain": [
       "| 77      | 1m 56s       | 10.0914           | 3.03384               | 1.38889     |"
      ]
     },
     "metadata": {},
     "output_type": "display_data"
    },
    {
     "data": {
      "text/html": [
       "<pre>| 78      | 1m 57s       | 10.0787           | 3.03259               | 1.38889     |</pre>"
      ],
      "text/plain": [
       "| 78      | 1m 57s       | 10.0787           | 3.03259               | 1.38889     |"
      ]
     },
     "metadata": {},
     "output_type": "display_data"
    },
    {
     "data": {
      "text/html": [
       "<pre>| 79      | 1m 59s       | 10.0845           | 3.03353               | 1.38889     |</pre>"
      ],
      "text/plain": [
       "| 79      | 1m 59s       | 10.0845           | 3.03353               | 1.38889     |"
      ]
     },
     "metadata": {},
     "output_type": "display_data"
    },
    {
     "data": {
      "text/html": [
       "<pre>| 80      | 2m 0s        | 10.0776           | 3.03336               | 1.38889     |</pre>"
      ],
      "text/plain": [
       "| 80      | 2m 0s        | 10.0776           | 3.03336               | 1.38889     |"
      ]
     },
     "metadata": {},
     "output_type": "display_data"
    },
    {
     "data": {
      "text/html": [
       "<pre>| 81      | 2m 1s        | 10.0688           | 3.0324                | 1.38889     |</pre>"
      ],
      "text/plain": [
       "| 81      | 2m 1s        | 10.0688           | 3.0324                | 1.38889     |"
      ]
     },
     "metadata": {},
     "output_type": "display_data"
    },
    {
     "data": {
      "text/html": [
       "<pre>| 82      | 2m 3s        | 10.0599           | 3.03163               | 1.38889     |</pre>"
      ],
      "text/plain": [
       "| 82      | 2m 3s        | 10.0599           | 3.03163               | 1.38889     |"
      ]
     },
     "metadata": {},
     "output_type": "display_data"
    },
    {
     "data": {
      "text/html": [
       "<pre>| 83      | 2m 4s        | 10.0536           | 3.03101               | 1.38889     |</pre>"
      ],
      "text/plain": [
       "| 83      | 2m 4s        | 10.0536           | 3.03101               | 1.38889     |"
      ]
     },
     "metadata": {},
     "output_type": "display_data"
    },
    {
     "data": {
      "text/html": [
       "<pre>| 84      | 2m 5s        | 10.0495           | 3.03044               | 1.38889     |</pre>"
      ],
      "text/plain": [
       "| 84      | 2m 5s        | 10.0495           | 3.03044               | 1.38889     |"
      ]
     },
     "metadata": {},
     "output_type": "display_data"
    },
    {
     "data": {
      "text/html": [
       "<pre>| 85      | 2m 8s        | 10.0426           | 3.03022               | 1.38889     |</pre>"
      ],
      "text/plain": [
       "| 85      | 2m 8s        | 10.0426           | 3.03022               | 1.38889     |"
      ]
     },
     "metadata": {},
     "output_type": "display_data"
    },
    {
     "data": {
      "text/html": [
       "<pre>| 86      | 2m 9s        | 10.0335           | 3.0294                | 1.38889     |</pre>"
      ],
      "text/plain": [
       "| 86      | 2m 9s        | 10.0335           | 3.0294                | 1.38889     |"
      ]
     },
     "metadata": {},
     "output_type": "display_data"
    },
    {
     "data": {
      "text/html": [
       "<pre>| 87      | 2m 10s       | 10.0353           | 3.02917               | 1.38889     |</pre>"
      ],
      "text/plain": [
       "| 87      | 2m 10s       | 10.0353           | 3.02917               | 1.38889     |"
      ]
     },
     "metadata": {},
     "output_type": "display_data"
    },
    {
     "data": {
      "text/html": [
       "<pre>| 88      | 2m 12s       | 10.0314           | 3.02952               | 1.38889     |</pre>"
      ],
      "text/plain": [
       "| 88      | 2m 12s       | 10.0314           | 3.02952               | 1.38889     |"
      ]
     },
     "metadata": {},
     "output_type": "display_data"
    },
    {
     "data": {
      "text/html": [
       "<pre>| 89      | 2m 13s       | 10.0253           | 3.02861               | 1.38889     |</pre>"
      ],
      "text/plain": [
       "| 89      | 2m 13s       | 10.0253           | 3.02861               | 1.38889     |"
      ]
     },
     "metadata": {},
     "output_type": "display_data"
    },
    {
     "data": {
      "text/html": [
       "<pre>| 90      | 2m 14s       | 10.017            | 3.02838               | 1.38889     |</pre>"
      ],
      "text/plain": [
       "| 90      | 2m 14s       | 10.017            | 3.02838               | 1.38889     |"
      ]
     },
     "metadata": {},
     "output_type": "display_data"
    },
    {
     "data": {
      "text/html": [
       "<pre>| 91      | 2m 16s       | 10.0126           | 3.02755               | 1.38889     |</pre>"
      ],
      "text/plain": [
       "| 91      | 2m 16s       | 10.0126           | 3.02755               | 1.38889     |"
      ]
     },
     "metadata": {},
     "output_type": "display_data"
    },
    {
     "data": {
      "text/html": [
       "<pre>| 92      | 2m 17s       | 10.009            | 3.02773               | 1.38889     |</pre>"
      ],
      "text/plain": [
       "| 92      | 2m 17s       | 10.009            | 3.02773               | 1.38889     |"
      ]
     },
     "metadata": {},
     "output_type": "display_data"
    },
    {
     "data": {
      "text/html": [
       "<pre>| 93      | 2m 19s       | 9.99881           | 3.02631               | 1.38889     |</pre>"
      ],
      "text/plain": [
       "| 93      | 2m 19s       | 9.99881           | 3.02631               | 1.38889     |"
      ]
     },
     "metadata": {},
     "output_type": "display_data"
    },
    {
     "data": {
      "text/html": [
       "<pre>| 94      | 2m 20s       | 9.99797           | 3.0267                | 1.38889     |</pre>"
      ],
      "text/plain": [
       "| 94      | 2m 20s       | 9.99797           | 3.0267                | 1.38889     |"
      ]
     },
     "metadata": {},
     "output_type": "display_data"
    },
    {
     "data": {
      "text/html": [
       "<pre>| 95      | 2m 22s       | 9.9895            | 3.02542               | 1.38889     |</pre>"
      ],
      "text/plain": [
       "| 95      | 2m 22s       | 9.9895            | 3.02542               | 1.38889     |"
      ]
     },
     "metadata": {},
     "output_type": "display_data"
    },
    {
     "data": {
      "text/html": [
       "<pre>| 96      | 2m 23s       | 9.99116           | 3.02617               | 1.38889     |</pre>"
      ],
      "text/plain": [
       "| 96      | 2m 23s       | 9.99116           | 3.02617               | 1.38889     |"
      ]
     },
     "metadata": {},
     "output_type": "display_data"
    },
    {
     "data": {
      "text/html": [
       "<pre>| 97      | 2m 24s       | 9.98576           | 3.02542               | 1.38889     |</pre>"
      ],
      "text/plain": [
       "| 97      | 2m 24s       | 9.98576           | 3.02542               | 1.38889     |"
      ]
     },
     "metadata": {},
     "output_type": "display_data"
    },
    {
     "data": {
      "text/html": [
       "<pre>| 98      | 2m 26s       | 9.98008           | 3.02526               | 1.38889     |</pre>"
      ],
      "text/plain": [
       "| 98      | 2m 26s       | 9.98008           | 3.02526               | 1.38889     |"
      ]
     },
     "metadata": {},
     "output_type": "display_data"
    },
    {
     "data": {
      "text/html": [
       "<pre>| 99      | 2m 27s       | 9.97532           | 3.02497               | 1.38889     |</pre>"
      ],
      "text/plain": [
       "| 99      | 2m 27s       | 9.97532           | 3.02497               | 1.38889     |"
      ]
     },
     "metadata": {},
     "output_type": "display_data"
    },
    {
     "data": {
      "text/html": [
       "<pre>| 100     | 2m 29s       | 9.96956           | 3.02422               | 1.38889     |</pre>"
      ],
      "text/plain": [
       "| 100     | 2m 29s       | 9.96956           | 3.02422               | 1.38889     |"
      ]
     },
     "metadata": {},
     "output_type": "display_data"
    },
    {
     "data": {
      "text/html": [
       "<pre>+---------+--------------+-------------------+-----------------------+-------------+</pre>"
      ],
      "text/plain": [
       "+---------+--------------+-------------------+-----------------------+-------------+"
      ]
     },
     "metadata": {},
     "output_type": "display_data"
    },
    {
     "data": {
      "text/html": [
       "<pre>Optimization Complete: Maximum number of passes through the data reached.</pre>"
      ],
      "text/plain": [
       "Optimization Complete: Maximum number of passes through the data reached."
      ]
     },
     "metadata": {},
     "output_type": "display_data"
    },
    {
     "data": {
      "text/html": [
       "<pre>Computing final objective value and training RMSE.</pre>"
      ],
      "text/plain": [
       "Computing final objective value and training RMSE."
      ]
     },
     "metadata": {},
     "output_type": "display_data"
    },
    {
     "data": {
      "text/html": [
       "<pre>       Final objective value: 9.41989</pre>"
      ],
      "text/plain": [
       "       Final objective value: 9.41989"
      ]
     },
     "metadata": {},
     "output_type": "display_data"
    },
    {
     "data": {
      "text/html": [
       "<pre>       Final training RMSE: 2.93194</pre>"
      ],
      "text/plain": [
       "       Final training RMSE: 2.93194"
      ]
     },
     "metadata": {},
     "output_type": "display_data"
    },
    {
     "data": {
      "text/html": [
       "<pre>Recsys training: model = factorization_recommender</pre>"
      ],
      "text/plain": [
       "Recsys training: model = factorization_recommender"
      ]
     },
     "metadata": {},
     "output_type": "display_data"
    },
    {
     "data": {
      "text/html": [
       "<pre>Preparing data set.</pre>"
      ],
      "text/plain": [
       "Preparing data set."
      ]
     },
     "metadata": {},
     "output_type": "display_data"
    },
    {
     "data": {
      "text/html": [
       "<pre>    Data has 1218325 observations with 50692 users and 151 items.</pre>"
      ],
      "text/plain": [
       "    Data has 1218325 observations with 50692 users and 151 items."
      ]
     },
     "metadata": {},
     "output_type": "display_data"
    },
    {
     "data": {
      "text/html": [
       "<pre>    Data prepared in: 2.87039s</pre>"
      ],
      "text/plain": [
       "    Data prepared in: 2.87039s"
      ]
     },
     "metadata": {},
     "output_type": "display_data"
    },
    {
     "data": {
      "text/html": [
       "<pre>Training factorization_recommender for recommendations.</pre>"
      ],
      "text/plain": [
       "Training factorization_recommender for recommendations."
      ]
     },
     "metadata": {},
     "output_type": "display_data"
    },
    {
     "data": {
      "text/html": [
       "<pre>+--------------------------------+--------------------------------------------------+----------+</pre>"
      ],
      "text/plain": [
       "+--------------------------------+--------------------------------------------------+----------+"
      ]
     },
     "metadata": {},
     "output_type": "display_data"
    },
    {
     "data": {
      "text/html": [
       "<pre>| Parameter                      | Description                                      | Value    |</pre>"
      ],
      "text/plain": [
       "| Parameter                      | Description                                      | Value    |"
      ]
     },
     "metadata": {},
     "output_type": "display_data"
    },
    {
     "data": {
      "text/html": [
       "<pre>+--------------------------------+--------------------------------------------------+----------+</pre>"
      ],
      "text/plain": [
       "+--------------------------------+--------------------------------------------------+----------+"
      ]
     },
     "metadata": {},
     "output_type": "display_data"
    },
    {
     "data": {
      "text/html": [
       "<pre>| num_factors                    | Factor Dimension                                 | 8        |</pre>"
      ],
      "text/plain": [
       "| num_factors                    | Factor Dimension                                 | 8        |"
      ]
     },
     "metadata": {},
     "output_type": "display_data"
    },
    {
     "data": {
      "text/html": [
       "<pre>| regularization                 | L2 Regularization on Factors                     | 1e-06    |</pre>"
      ],
      "text/plain": [
       "| regularization                 | L2 Regularization on Factors                     | 1e-06    |"
      ]
     },
     "metadata": {},
     "output_type": "display_data"
    },
    {
     "data": {
      "text/html": [
       "<pre>| solver                         | Solver used for training                         | adagrad  |</pre>"
      ],
      "text/plain": [
       "| solver                         | Solver used for training                         | adagrad  |"
      ]
     },
     "metadata": {},
     "output_type": "display_data"
    },
    {
     "data": {
      "text/html": [
       "<pre>| linear_regularization          | L2 Regularization on Linear Coefficients         | 1e-10    |</pre>"
      ],
      "text/plain": [
       "| linear_regularization          | L2 Regularization on Linear Coefficients         | 1e-10    |"
      ]
     },
     "metadata": {},
     "output_type": "display_data"
    },
    {
     "data": {
      "text/html": [
       "<pre>| side_data_factorization        | Assign Factors for Side Data                     | True     |</pre>"
      ],
      "text/plain": [
       "| side_data_factorization        | Assign Factors for Side Data                     | True     |"
      ]
     },
     "metadata": {},
     "output_type": "display_data"
    },
    {
     "data": {
      "text/html": [
       "<pre>| max_iterations                 | Maximum Number of Iterations                     | 100      |</pre>"
      ],
      "text/plain": [
       "| max_iterations                 | Maximum Number of Iterations                     | 100      |"
      ]
     },
     "metadata": {},
     "output_type": "display_data"
    },
    {
     "data": {
      "text/html": [
       "<pre>+--------------------------------+--------------------------------------------------+----------+</pre>"
      ],
      "text/plain": [
       "+--------------------------------+--------------------------------------------------+----------+"
      ]
     },
     "metadata": {},
     "output_type": "display_data"
    },
    {
     "data": {
      "text/html": [
       "<pre>  Optimizing model using SGD; tuning step size.</pre>"
      ],
      "text/plain": [
       "  Optimizing model using SGD; tuning step size."
      ]
     },
     "metadata": {},
     "output_type": "display_data"
    },
    {
     "data": {
      "text/html": [
       "<pre>  Using 152290 / 1218325 points for tuning the step size.</pre>"
      ],
      "text/plain": [
       "  Using 152290 / 1218325 points for tuning the step size."
      ]
     },
     "metadata": {},
     "output_type": "display_data"
    },
    {
     "data": {
      "text/html": [
       "<pre>+---------+-------------------+------------------------------------------+</pre>"
      ],
      "text/plain": [
       "+---------+-------------------+------------------------------------------+"
      ]
     },
     "metadata": {},
     "output_type": "display_data"
    },
    {
     "data": {
      "text/html": [
       "<pre>| Attempt | Initial Step Size | Estimated Objective Value                |</pre>"
      ],
      "text/plain": [
       "| Attempt | Initial Step Size | Estimated Objective Value                |"
      ]
     },
     "metadata": {},
     "output_type": "display_data"
    },
    {
     "data": {
      "text/html": [
       "<pre>+---------+-------------------+------------------------------------------+</pre>"
      ],
      "text/plain": [
       "+---------+-------------------+------------------------------------------+"
      ]
     },
     "metadata": {},
     "output_type": "display_data"
    },
    {
     "data": {
      "text/html": [
       "<pre>| 0       | 5.55556           | Not Viable                               |</pre>"
      ],
      "text/plain": [
       "| 0       | 5.55556           | Not Viable                               |"
      ]
     },
     "metadata": {},
     "output_type": "display_data"
    },
    {
     "data": {
      "text/html": [
       "<pre>| 1       | 1.38889           | 8.0524                                   |</pre>"
      ],
      "text/plain": [
       "| 1       | 1.38889           | 8.0524                                   |"
      ]
     },
     "metadata": {},
     "output_type": "display_data"
    },
    {
     "data": {
      "text/html": [
       "<pre>| 2       | 0.694444          | 3.90198                                  |</pre>"
      ],
      "text/plain": [
       "| 2       | 0.694444          | 3.90198                                  |"
      ]
     },
     "metadata": {},
     "output_type": "display_data"
    },
    {
     "data": {
      "text/html": [
       "<pre>| 3       | 0.347222          | 20.5713                                  |</pre>"
      ],
      "text/plain": [
       "| 3       | 0.347222          | 20.5713                                  |"
      ]
     },
     "metadata": {},
     "output_type": "display_data"
    },
    {
     "data": {
      "text/html": [
       "<pre>+---------+-------------------+------------------------------------------+</pre>"
      ],
      "text/plain": [
       "+---------+-------------------+------------------------------------------+"
      ]
     },
     "metadata": {},
     "output_type": "display_data"
    },
    {
     "data": {
      "text/html": [
       "<pre>| Final   | 0.694444          | 3.90198                                  |</pre>"
      ],
      "text/plain": [
       "| Final   | 0.694444          | 3.90198                                  |"
      ]
     },
     "metadata": {},
     "output_type": "display_data"
    },
    {
     "data": {
      "text/html": [
       "<pre>+---------+-------------------+------------------------------------------+</pre>"
      ],
      "text/plain": [
       "+---------+-------------------+------------------------------------------+"
      ]
     },
     "metadata": {},
     "output_type": "display_data"
    },
    {
     "data": {
      "text/html": [
       "<pre>Starting Optimization.</pre>"
      ],
      "text/plain": [
       "Starting Optimization."
      ]
     },
     "metadata": {},
     "output_type": "display_data"
    },
    {
     "data": {
      "text/html": [
       "<pre>+---------+--------------+-------------------+-----------------------+-------------+</pre>"
      ],
      "text/plain": [
       "+---------+--------------+-------------------+-----------------------+-------------+"
      ]
     },
     "metadata": {},
     "output_type": "display_data"
    },
    {
     "data": {
      "text/html": [
       "<pre>| Iter.   | Elapsed Time | Approx. Objective | Approx. Training RMSE | Step Size   |</pre>"
      ],
      "text/plain": [
       "| Iter.   | Elapsed Time | Approx. Objective | Approx. Training RMSE | Step Size   |"
      ]
     },
     "metadata": {},
     "output_type": "display_data"
    },
    {
     "data": {
      "text/html": [
       "<pre>+---------+--------------+-------------------+-----------------------+-------------+</pre>"
      ],
      "text/plain": [
       "+---------+--------------+-------------------+-----------------------+-------------+"
      ]
     },
     "metadata": {},
     "output_type": "display_data"
    },
    {
     "data": {
      "text/html": [
       "<pre>| Initial | 9.76ms       | 27.9392           | 5.28576               |             |</pre>"
      ],
      "text/plain": [
       "| Initial | 9.76ms       | 27.9392           | 5.28576               |             |"
      ]
     },
     "metadata": {},
     "output_type": "display_data"
    },
    {
     "data": {
      "text/html": [
       "<pre>+---------+--------------+-------------------+-----------------------+-------------+</pre>"
      ],
      "text/plain": [
       "+---------+--------------+-------------------+-----------------------+-------------+"
      ]
     },
     "metadata": {},
     "output_type": "display_data"
    },
    {
     "data": {
      "text/html": [
       "<pre>| 1       | 1.67s        | 18.8528           | 4.31452               | 0.694444    |</pre>"
      ],
      "text/plain": [
       "| 1       | 1.67s        | 18.8528           | 4.31452               | 0.694444    |"
      ]
     },
     "metadata": {},
     "output_type": "display_data"
    },
    {
     "data": {
      "text/html": [
       "<pre>| 2       | 3.38s        | 14.6829           | 3.79425               | 0.694444    |</pre>"
      ],
      "text/plain": [
       "| 2       | 3.38s        | 14.6829           | 3.79425               | 0.694444    |"
      ]
     },
     "metadata": {},
     "output_type": "display_data"
    },
    {
     "data": {
      "text/html": [
       "<pre>| 3       | 4.98s        | 13.0229           | 3.56637               | 0.694444    |</pre>"
      ],
      "text/plain": [
       "| 3       | 4.98s        | 13.0229           | 3.56637               | 0.694444    |"
      ]
     },
     "metadata": {},
     "output_type": "display_data"
    },
    {
     "data": {
      "text/html": [
       "<pre>| 4       | 6.70s        | 12.1052           | 3.43339               | 0.694444    |</pre>"
      ],
      "text/plain": [
       "| 4       | 6.70s        | 12.1052           | 3.43339               | 0.694444    |"
      ]
     },
     "metadata": {},
     "output_type": "display_data"
    },
    {
     "data": {
      "text/html": [
       "<pre>| 5       | 8.22s        | 11.6102           | 3.35987               | 0.694444    |</pre>"
      ],
      "text/plain": [
       "| 5       | 8.22s        | 11.6102           | 3.35987               | 0.694444    |"
      ]
     },
     "metadata": {},
     "output_type": "display_data"
    },
    {
     "data": {
      "text/html": [
       "<pre>| 6       | 9.82s        | 11.2455           | 3.30441               | 0.694444    |</pre>"
      ],
      "text/plain": [
       "| 6       | 9.82s        | 11.2455           | 3.30441               | 0.694444    |"
      ]
     },
     "metadata": {},
     "output_type": "display_data"
    },
    {
     "data": {
      "text/html": [
       "<pre>| 7       | 11.39s       | 10.9833           | 3.26393               | 0.694444    |</pre>"
      ],
      "text/plain": [
       "| 7       | 11.39s       | 10.9833           | 3.26393               | 0.694444    |"
      ]
     },
     "metadata": {},
     "output_type": "display_data"
    },
    {
     "data": {
      "text/html": [
       "<pre>| 8       | 12.98s       | 10.7874           | 3.23347               | 0.694444    |</pre>"
      ],
      "text/plain": [
       "| 8       | 12.98s       | 10.7874           | 3.23347               | 0.694444    |"
      ]
     },
     "metadata": {},
     "output_type": "display_data"
    },
    {
     "data": {
      "text/html": [
       "<pre>| 9       | 14.78s       | 10.6577           | 3.21305               | 0.694444    |</pre>"
      ],
      "text/plain": [
       "| 9       | 14.78s       | 10.6577           | 3.21305               | 0.694444    |"
      ]
     },
     "metadata": {},
     "output_type": "display_data"
    },
    {
     "data": {
      "text/html": [
       "<pre>| 10      | 16.46s       | 10.5551           | 3.19699               | 0.694444    |</pre>"
      ],
      "text/plain": [
       "| 10      | 16.46s       | 10.5551           | 3.19699               | 0.694444    |"
      ]
     },
     "metadata": {},
     "output_type": "display_data"
    },
    {
     "data": {
      "text/html": [
       "<pre>| 11      | 18.05s       | 10.4565           | 3.18132               | 0.694444    |</pre>"
      ],
      "text/plain": [
       "| 11      | 18.05s       | 10.4565           | 3.18132               | 0.694444    |"
      ]
     },
     "metadata": {},
     "output_type": "display_data"
    },
    {
     "data": {
      "text/html": [
       "<pre>| 12      | 19.75s       | 10.3942           | 3.17141               | 0.694444    |</pre>"
      ],
      "text/plain": [
       "| 12      | 19.75s       | 10.3942           | 3.17141               | 0.694444    |"
      ]
     },
     "metadata": {},
     "output_type": "display_data"
    },
    {
     "data": {
      "text/html": [
       "<pre>| 13      | 21.33s       | 10.3174           | 3.15915               | 0.694444    |</pre>"
      ],
      "text/plain": [
       "| 13      | 21.33s       | 10.3174           | 3.15915               | 0.694444    |"
      ]
     },
     "metadata": {},
     "output_type": "display_data"
    },
    {
     "data": {
      "text/html": [
       "<pre>| 14      | 22.75s       | 10.2562           | 3.14942               | 0.694444    |</pre>"
      ],
      "text/plain": [
       "| 14      | 22.75s       | 10.2562           | 3.14942               | 0.694444    |"
      ]
     },
     "metadata": {},
     "output_type": "display_data"
    },
    {
     "data": {
      "text/html": [
       "<pre>| 15      | 24.42s       | 10.2077           | 3.14166               | 0.694444    |</pre>"
      ],
      "text/plain": [
       "| 15      | 24.42s       | 10.2077           | 3.14166               | 0.694444    |"
      ]
     },
     "metadata": {},
     "output_type": "display_data"
    },
    {
     "data": {
      "text/html": [
       "<pre>| 16      | 26.24s       | 10.1636           | 3.13463               | 0.694444    |</pre>"
      ],
      "text/plain": [
       "| 16      | 26.24s       | 10.1636           | 3.13463               | 0.694444    |"
      ]
     },
     "metadata": {},
     "output_type": "display_data"
    },
    {
     "data": {
      "text/html": [
       "<pre>| 17      | 27.66s       | 10.1207           | 3.12773               | 0.694444    |</pre>"
      ],
      "text/plain": [
       "| 17      | 27.66s       | 10.1207           | 3.12773               | 0.694444    |"
      ]
     },
     "metadata": {},
     "output_type": "display_data"
    },
    {
     "data": {
      "text/html": [
       "<pre>| 18      | 29.24s       | 10.0854           | 3.12208               | 0.694444    |</pre>"
      ],
      "text/plain": [
       "| 18      | 29.24s       | 10.0854           | 3.12208               | 0.694444    |"
      ]
     },
     "metadata": {},
     "output_type": "display_data"
    },
    {
     "data": {
      "text/html": [
       "<pre>| 19      | 30.85s       | 10.0454           | 3.11562               | 0.694444    |</pre>"
      ],
      "text/plain": [
       "| 19      | 30.85s       | 10.0454           | 3.11562               | 0.694444    |"
      ]
     },
     "metadata": {},
     "output_type": "display_data"
    },
    {
     "data": {
      "text/html": [
       "<pre>| 20      | 32.44s       | 10.0232           | 3.1121                | 0.694444    |</pre>"
      ],
      "text/plain": [
       "| 20      | 32.44s       | 10.0232           | 3.1121                | 0.694444    |"
      ]
     },
     "metadata": {},
     "output_type": "display_data"
    },
    {
     "data": {
      "text/html": [
       "<pre>| 21      | 35.12s       | 9.99248           | 3.10715               | 0.694444    |</pre>"
      ],
      "text/plain": [
       "| 21      | 35.12s       | 9.99248           | 3.10715               | 0.694444    |"
      ]
     },
     "metadata": {},
     "output_type": "display_data"
    },
    {
     "data": {
      "text/html": [
       "<pre>| 22      | 36.97s       | 9.95731           | 3.10145               | 0.694444    |</pre>"
      ],
      "text/plain": [
       "| 22      | 36.97s       | 9.95731           | 3.10145               | 0.694444    |"
      ]
     },
     "metadata": {},
     "output_type": "display_data"
    },
    {
     "data": {
      "text/html": [
       "<pre>| 23      | 38.78s       | 9.94825           | 3.10004               | 0.694444    |</pre>"
      ],
      "text/plain": [
       "| 23      | 38.78s       | 9.94825           | 3.10004               | 0.694444    |"
      ]
     },
     "metadata": {},
     "output_type": "display_data"
    },
    {
     "data": {
      "text/html": [
       "<pre>| 24      | 40.64s       | 9.91354           | 3.09442               | 0.694444    |</pre>"
      ],
      "text/plain": [
       "| 24      | 40.64s       | 9.91354           | 3.09442               | 0.694444    |"
      ]
     },
     "metadata": {},
     "output_type": "display_data"
    },
    {
     "data": {
      "text/html": [
       "<pre>| 25      | 42.22s       | 9.88768           | 3.09028               | 0.694444    |</pre>"
      ],
      "text/plain": [
       "| 25      | 42.22s       | 9.88768           | 3.09028               | 0.694444    |"
      ]
     },
     "metadata": {},
     "output_type": "display_data"
    },
    {
     "data": {
      "text/html": [
       "<pre>| 26      | 43.97s       | 9.87076           | 3.08752               | 0.694444    |</pre>"
      ],
      "text/plain": [
       "| 26      | 43.97s       | 9.87076           | 3.08752               | 0.694444    |"
      ]
     },
     "metadata": {},
     "output_type": "display_data"
    },
    {
     "data": {
      "text/html": [
       "<pre>| 27      | 45.39s       | 9.8612            | 3.08598               | 0.694444    |</pre>"
      ],
      "text/plain": [
       "| 27      | 45.39s       | 9.8612            | 3.08598               | 0.694444    |"
      ]
     },
     "metadata": {},
     "output_type": "display_data"
    },
    {
     "data": {
      "text/html": [
       "<pre>| 28      | 46.81s       | 9.84681           | 3.08359               | 0.694444    |</pre>"
      ],
      "text/plain": [
       "| 28      | 46.81s       | 9.84681           | 3.08359               | 0.694444    |"
      ]
     },
     "metadata": {},
     "output_type": "display_data"
    },
    {
     "data": {
      "text/html": [
       "<pre>| 29      | 48.21s       | 10.1365           | 3.12976               | 0.694444    |</pre>"
      ],
      "text/plain": [
       "| 29      | 48.21s       | 10.1365           | 3.12976               | 0.694444    |"
      ]
     },
     "metadata": {},
     "output_type": "display_data"
    },
    {
     "data": {
      "text/html": [
       "<pre>| 30      | 50.03s       | DIVERGED          | DIVERGED              | 0.694444    |</pre>"
      ],
      "text/plain": [
       "| 30      | 50.03s       | DIVERGED          | DIVERGED              | 0.694444    |"
      ]
     },
     "metadata": {},
     "output_type": "display_data"
    },
    {
     "data": {
      "text/html": [
       "<pre>| RESET   | 50.41s       | 27.9392           | 5.28575               |             |</pre>"
      ],
      "text/plain": [
       "| RESET   | 50.41s       | 27.9392           | 5.28575               |             |"
      ]
     },
     "metadata": {},
     "output_type": "display_data"
    },
    {
     "data": {
      "text/html": [
       "<pre>| 1       | 52.08s       | DIVERGED          | DIVERGED              | 0.347222    |</pre>"
      ],
      "text/plain": [
       "| 1       | 52.08s       | DIVERGED          | DIVERGED              | 0.347222    |"
      ]
     },
     "metadata": {},
     "output_type": "display_data"
    },
    {
     "data": {
      "text/html": [
       "<pre>| RESET   | 52.47s       | 27.9391           | 5.28574               |             |</pre>"
      ],
      "text/plain": [
       "| RESET   | 52.47s       | 27.9391           | 5.28574               |             |"
      ]
     },
     "metadata": {},
     "output_type": "display_data"
    },
    {
     "data": {
      "text/html": [
       "<pre>| 1       | 54.09s       | DIVERGED          | DIVERGED              | 0.173611    |</pre>"
      ],
      "text/plain": [
       "| 1       | 54.09s       | DIVERGED          | DIVERGED              | 0.173611    |"
      ]
     },
     "metadata": {},
     "output_type": "display_data"
    },
    {
     "data": {
      "text/html": [
       "<pre>| RESET   | 54.46s       | 27.9392           | 5.28575               |             |</pre>"
      ],
      "text/plain": [
       "| RESET   | 54.46s       | 27.9392           | 5.28575               |             |"
      ]
     },
     "metadata": {},
     "output_type": "display_data"
    },
    {
     "data": {
      "text/html": [
       "<pre>| 1       | 56.12s       | DIVERGED          | DIVERGED              | 0.0868056   |</pre>"
      ],
      "text/plain": [
       "| 1       | 56.12s       | DIVERGED          | DIVERGED              | 0.0868056   |"
      ]
     },
     "metadata": {},
     "output_type": "display_data"
    },
    {
     "data": {
      "text/html": [
       "<pre>| RESET   | 56.53s       | 27.9392           | 5.28576               |             |</pre>"
      ],
      "text/plain": [
       "| RESET   | 56.53s       | 27.9392           | 5.28576               |             |"
      ]
     },
     "metadata": {},
     "output_type": "display_data"
    },
    {
     "data": {
      "text/html": [
       "<pre>| 1       | 57.96s       | 30.5454           | 5.52357               | 0.0434028   |</pre>"
      ],
      "text/plain": [
       "| 1       | 57.96s       | 30.5454           | 5.52357               | 0.0434028   |"
      ]
     },
     "metadata": {},
     "output_type": "display_data"
    },
    {
     "data": {
      "text/html": [
       "<pre>| 2       | 59.55s       | DIVERGED          | DIVERGED              | 0.0434028   |</pre>"
      ],
      "text/plain": [
       "| 2       | 59.55s       | DIVERGED          | DIVERGED              | 0.0434028   |"
      ]
     },
     "metadata": {},
     "output_type": "display_data"
    },
    {
     "data": {
      "text/html": [
       "<pre>| RESET   | 1m 0s        | 27.9391           | 5.28574               |             |</pre>"
      ],
      "text/plain": [
       "| RESET   | 1m 0s        | 27.9391           | 5.28574               |             |"
      ]
     },
     "metadata": {},
     "output_type": "display_data"
    },
    {
     "data": {
      "text/html": [
       "<pre>| 1       | 1m 2s        | 24.2679           | 4.92565               | 0.0217014   |</pre>"
      ],
      "text/plain": [
       "| 1       | 1m 2s        | 24.2679           | 4.92565               | 0.0217014   |"
      ]
     },
     "metadata": {},
     "output_type": "display_data"
    },
    {
     "data": {
      "text/html": [
       "<pre>| 2       | 1m 4s        | 23.6874           | 4.86566               | 0.0217014   |</pre>"
      ],
      "text/plain": [
       "| 2       | 1m 4s        | 23.6874           | 4.86566               | 0.0217014   |"
      ]
     },
     "metadata": {},
     "output_type": "display_data"
    },
    {
     "data": {
      "text/html": [
       "<pre>| 3       | 1m 5s        | 28.9047           | 5.37406               | 0.0217014   |</pre>"
      ],
      "text/plain": [
       "| 3       | 1m 5s        | 28.9047           | 5.37406               | 0.0217014   |"
      ]
     },
     "metadata": {},
     "output_type": "display_data"
    },
    {
     "data": {
      "text/html": [
       "<pre>| 4       | 1m 7s        | 43.0092           | 6.55509               | 0.0217014   |</pre>"
      ],
      "text/plain": [
       "| 4       | 1m 7s        | 43.0092           | 6.55509               | 0.0217014   |"
      ]
     },
     "metadata": {},
     "output_type": "display_data"
    },
    {
     "data": {
      "text/html": [
       "<pre>| 5       | 1m 9s        | DIVERGED          | DIVERGED              | 0.0217014   |</pre>"
      ],
      "text/plain": [
       "| 5       | 1m 9s        | DIVERGED          | DIVERGED              | 0.0217014   |"
      ]
     },
     "metadata": {},
     "output_type": "display_data"
    },
    {
     "data": {
      "text/html": [
       "<pre>| RESET   | 1m 10s       | 27.9391           | 5.28575               |             |</pre>"
      ],
      "text/plain": [
       "| RESET   | 1m 10s       | 27.9391           | 5.28575               |             |"
      ]
     },
     "metadata": {},
     "output_type": "display_data"
    },
    {
     "data": {
      "text/html": [
       "<pre>| 1       | 1m 11s       | 25.5126           | 5.05088               | 0.0108507   |</pre>"
      ],
      "text/plain": [
       "| 1       | 1m 11s       | 25.5126           | 5.05088               | 0.0108507   |"
      ]
     },
     "metadata": {},
     "output_type": "display_data"
    },
    {
     "data": {
      "text/html": [
       "<pre>| 2       | 1m 12s       | 23.5298           | 4.85051               | 0.0108507   |</pre>"
      ],
      "text/plain": [
       "| 2       | 1m 12s       | 23.5298           | 4.85051               | 0.0108507   |"
      ]
     },
     "metadata": {},
     "output_type": "display_data"
    },
    {
     "data": {
      "text/html": [
       "<pre>| 3       | 1m 14s       | 22.3149           | 4.72349               | 0.0108507   |</pre>"
      ],
      "text/plain": [
       "| 3       | 1m 14s       | 22.3149           | 4.72349               | 0.0108507   |"
      ]
     },
     "metadata": {},
     "output_type": "display_data"
    },
    {
     "data": {
      "text/html": [
       "<pre>| 4       | 1m 16s       | 21.5044           | 4.6368                | 0.0108507   |</pre>"
      ],
      "text/plain": [
       "| 4       | 1m 16s       | 21.5044           | 4.6368                | 0.0108507   |"
      ]
     },
     "metadata": {},
     "output_type": "display_data"
    },
    {
     "data": {
      "text/html": [
       "<pre>| 5       | 1m 18s       | 20.9604           | 4.57767               | 0.0108507   |</pre>"
      ],
      "text/plain": [
       "| 5       | 1m 18s       | 20.9604           | 4.57767               | 0.0108507   |"
      ]
     },
     "metadata": {},
     "output_type": "display_data"
    },
    {
     "data": {
      "text/html": [
       "<pre>| 6       | 1m 20s       | 20.5888           | 4.53682               | 0.0108507   |</pre>"
      ],
      "text/plain": [
       "| 6       | 1m 20s       | 20.5888           | 4.53682               | 0.0108507   |"
      ]
     },
     "metadata": {},
     "output_type": "display_data"
    },
    {
     "data": {
      "text/html": [
       "<pre>| 7       | 1m 21s       | 20.3393           | 4.50917               | 0.0108507   |</pre>"
      ],
      "text/plain": [
       "| 7       | 1m 21s       | 20.3393           | 4.50917               | 0.0108507   |"
      ]
     },
     "metadata": {},
     "output_type": "display_data"
    },
    {
     "data": {
      "text/html": [
       "<pre>| 8       | 1m 23s       | 20.1795           | 4.49135               | 0.0108507   |</pre>"
      ],
      "text/plain": [
       "| 8       | 1m 23s       | 20.1795           | 4.49135               | 0.0108507   |"
      ]
     },
     "metadata": {},
     "output_type": "display_data"
    },
    {
     "data": {
      "text/html": [
       "<pre>| 9       | 1m 24s       | 20.0967           | 4.48204               | 0.0108507   |</pre>"
      ],
      "text/plain": [
       "| 9       | 1m 24s       | 20.0967           | 4.48204               | 0.0108507   |"
      ]
     },
     "metadata": {},
     "output_type": "display_data"
    },
    {
     "data": {
      "text/html": [
       "<pre>| 10      | 1m 25s       | 20.0777           | 4.47986               | 0.0108507   |</pre>"
      ],
      "text/plain": [
       "| 10      | 1m 25s       | 20.0777           | 4.47986               | 0.0108507   |"
      ]
     },
     "metadata": {},
     "output_type": "display_data"
    },
    {
     "data": {
      "text/html": [
       "<pre>| 11      | 1m 27s       | 20.1303           | 4.48564               | 0.0108507   |</pre>"
      ],
      "text/plain": [
       "| 11      | 1m 27s       | 20.1303           | 4.48564               | 0.0108507   |"
      ]
     },
     "metadata": {},
     "output_type": "display_data"
    },
    {
     "data": {
      "text/html": [
       "<pre>| 12      | 1m 28s       | 20.2591           | 4.4999                | 0.0108507   |</pre>"
      ],
      "text/plain": [
       "| 12      | 1m 28s       | 20.2591           | 4.4999                | 0.0108507   |"
      ]
     },
     "metadata": {},
     "output_type": "display_data"
    },
    {
     "data": {
      "text/html": [
       "<pre>| 13      | 1m 30s       | 20.4847           | 4.52479               | 0.0108507   |</pre>"
      ],
      "text/plain": [
       "| 13      | 1m 30s       | 20.4847           | 4.52479               | 0.0108507   |"
      ]
     },
     "metadata": {},
     "output_type": "display_data"
    },
    {
     "data": {
      "text/html": [
       "<pre>| 14      | 1m 31s       | 20.8352           | 4.56325               | 0.0108507   |</pre>"
      ],
      "text/plain": [
       "| 14      | 1m 31s       | 20.8352           | 4.56325               | 0.0108507   |"
      ]
     },
     "metadata": {},
     "output_type": "display_data"
    },
    {
     "data": {
      "text/html": [
       "<pre>| 15      | 1m 32s       | 21.3508           | 4.61928               | 0.0108507   |</pre>"
      ],
      "text/plain": [
       "| 15      | 1m 32s       | 21.3508           | 4.61928               | 0.0108507   |"
      ]
     },
     "metadata": {},
     "output_type": "display_data"
    },
    {
     "data": {
      "text/html": [
       "<pre>| 16      | 1m 34s       | 22.1092           | 4.7005                | 0.0108507   |</pre>"
      ],
      "text/plain": [
       "| 16      | 1m 34s       | 22.1092           | 4.7005                | 0.0108507   |"
      ]
     },
     "metadata": {},
     "output_type": "display_data"
    },
    {
     "data": {
      "text/html": [
       "<pre>| 17      | 1m 35s       | 23.1908           | 4.81401               | 0.0108507   |</pre>"
      ],
      "text/plain": [
       "| 17      | 1m 35s       | 23.1908           | 4.81401               | 0.0108507   |"
      ]
     },
     "metadata": {},
     "output_type": "display_data"
    },
    {
     "data": {
      "text/html": [
       "<pre>| 18      | 1m 37s       | 24.7309           | 4.97119               | 0.0108507   |</pre>"
      ],
      "text/plain": [
       "| 18      | 1m 37s       | 24.7309           | 4.97119               | 0.0108507   |"
      ]
     },
     "metadata": {},
     "output_type": "display_data"
    },
    {
     "data": {
      "text/html": [
       "<pre>| 19      | 1m 38s       | 26.9667           | 5.19095               | 0.0108507   |</pre>"
      ],
      "text/plain": [
       "| 19      | 1m 38s       | 26.9667           | 5.19095               | 0.0108507   |"
      ]
     },
     "metadata": {},
     "output_type": "display_data"
    },
    {
     "data": {
      "text/html": [
       "<pre>| 20      | 1m 39s       | 30.1441           | 5.48819               | 0.0108507   |</pre>"
      ],
      "text/plain": [
       "| 20      | 1m 39s       | 30.1441           | 5.48819               | 0.0108507   |"
      ]
     },
     "metadata": {},
     "output_type": "display_data"
    },
    {
     "data": {
      "text/html": [
       "<pre>| 21      | 1m 41s       | 34.502            | 5.87149               | 0.0108507   |</pre>"
      ],
      "text/plain": [
       "| 21      | 1m 41s       | 34.502            | 5.87149               | 0.0108507   |"
      ]
     },
     "metadata": {},
     "output_type": "display_data"
    },
    {
     "data": {
      "text/html": [
       "<pre>| 22      | 1m 42s       | 40.2944           | 6.34528               | 0.0108507   |</pre>"
      ],
      "text/plain": [
       "| 22      | 1m 42s       | 40.2944           | 6.34528               | 0.0108507   |"
      ]
     },
     "metadata": {},
     "output_type": "display_data"
    },
    {
     "data": {
      "text/html": [
       "<pre>| 23      | 1m 44s       | 47.4319           | 6.88441               | 0.0108507   |</pre>"
      ],
      "text/plain": [
       "| 23      | 1m 44s       | 47.4319           | 6.88441               | 0.0108507   |"
      ]
     },
     "metadata": {},
     "output_type": "display_data"
    },
    {
     "data": {
      "text/html": [
       "<pre>| 24      | 1m 45s       | DIVERGED          | DIVERGED              | 0.0108507   |</pre>"
      ],
      "text/plain": [
       "| 24      | 1m 45s       | DIVERGED          | DIVERGED              | 0.0108507   |"
      ]
     },
     "metadata": {},
     "output_type": "display_data"
    },
    {
     "data": {
      "text/html": [
       "<pre>| RESET   | 1m 46s       | 27.9391           | 5.28574               |             |</pre>"
      ],
      "text/plain": [
       "| RESET   | 1m 46s       | 27.9391           | 5.28574               |             |"
      ]
     },
     "metadata": {},
     "output_type": "display_data"
    },
    {
     "data": {
      "text/html": [
       "<pre>| 1       | 1m 47s       | 26.5119           | 5.14893               | 0.00542535  |</pre>"
      ],
      "text/plain": [
       "| 1       | 1m 47s       | 26.5119           | 5.14893               | 0.00542535  |"
      ]
     },
     "metadata": {},
     "output_type": "display_data"
    },
    {
     "data": {
      "text/html": [
       "<pre>| 2       | 1m 49s       | 25.3795           | 5.03774               | 0.00542535  |</pre>"
      ],
      "text/plain": [
       "| 2       | 1m 49s       | 25.3795           | 5.03774               | 0.00542535  |"
      ]
     },
     "metadata": {},
     "output_type": "display_data"
    },
    {
     "data": {
      "text/html": [
       "<pre>| 3       | 1m 50s       | 24.7121           | 4.97102               | 0.00542535  |</pre>"
      ],
      "text/plain": [
       "| 3       | 1m 50s       | 24.7121           | 4.97102               | 0.00542535  |"
      ]
     },
     "metadata": {},
     "output_type": "display_data"
    },
    {
     "data": {
      "text/html": [
       "<pre>| 4       | 1m 51s       | 24.1857           | 4.91776               | 0.00542535  |</pre>"
      ],
      "text/plain": [
       "| 4       | 1m 51s       | 24.1857           | 4.91776               | 0.00542535  |"
      ]
     },
     "metadata": {},
     "output_type": "display_data"
    },
    {
     "data": {
      "text/html": [
       "<pre>| 5       | 1m 53s       | 23.7649           | 4.87476               | 0.00542535  |</pre>"
      ],
      "text/plain": [
       "| 5       | 1m 53s       | 23.7649           | 4.87476               | 0.00542535  |"
      ]
     },
     "metadata": {},
     "output_type": "display_data"
    },
    {
     "data": {
      "text/html": [
       "<pre>| 6       | 1m 54s       | 23.4144           | 4.83865               | 0.00542535  |</pre>"
      ],
      "text/plain": [
       "| 6       | 1m 54s       | 23.4144           | 4.83865               | 0.00542535  |"
      ]
     },
     "metadata": {},
     "output_type": "display_data"
    },
    {
     "data": {
      "text/html": [
       "<pre>| 7       | 1m 55s       | 23.112            | 4.80727               | 0.00542535  |</pre>"
      ],
      "text/plain": [
       "| 7       | 1m 55s       | 23.112            | 4.80727               | 0.00542535  |"
      ]
     },
     "metadata": {},
     "output_type": "display_data"
    },
    {
     "data": {
      "text/html": [
       "<pre>| 8       | 1m 57s       | 22.8487           | 4.77977               | 0.00542535  |</pre>"
      ],
      "text/plain": [
       "| 8       | 1m 57s       | 22.8487           | 4.77977               | 0.00542535  |"
      ]
     },
     "metadata": {},
     "output_type": "display_data"
    },
    {
     "data": {
      "text/html": [
       "<pre>| 9       | 1m 58s       | 22.6178           | 4.75554               | 0.00542535  |</pre>"
      ],
      "text/plain": [
       "| 9       | 1m 58s       | 22.6178           | 4.75554               | 0.00542535  |"
      ]
     },
     "metadata": {},
     "output_type": "display_data"
    },
    {
     "data": {
      "text/html": [
       "<pre>| 10      | 2m 0s        | 22.4126           | 4.73389               | 0.00542535  |</pre>"
      ],
      "text/plain": [
       "| 10      | 2m 0s        | 22.4126           | 4.73389               | 0.00542535  |"
      ]
     },
     "metadata": {},
     "output_type": "display_data"
    },
    {
     "data": {
      "text/html": [
       "<pre>| 11      | 2m 1s        | 22.23             | 4.71454               | 0.00542535  |</pre>"
      ],
      "text/plain": [
       "| 11      | 2m 1s        | 22.23             | 4.71454               | 0.00542535  |"
      ]
     },
     "metadata": {},
     "output_type": "display_data"
    },
    {
     "data": {
      "text/html": [
       "<pre>| 12      | 2m 2s        | 22.0666           | 4.69716               | 0.00542535  |</pre>"
      ],
      "text/plain": [
       "| 12      | 2m 2s        | 22.0666           | 4.69716               | 0.00542535  |"
      ]
     },
     "metadata": {},
     "output_type": "display_data"
    },
    {
     "data": {
      "text/html": [
       "<pre>| 13      | 2m 4s        | 21.9216           | 4.68168               | 0.00542535  |</pre>"
      ],
      "text/plain": [
       "| 13      | 2m 4s        | 21.9216           | 4.68168               | 0.00542535  |"
      ]
     },
     "metadata": {},
     "output_type": "display_data"
    },
    {
     "data": {
      "text/html": [
       "<pre>| 14      | 2m 5s        | 21.7909           | 4.66768               | 0.00542535  |</pre>"
      ],
      "text/plain": [
       "| 14      | 2m 5s        | 21.7909           | 4.66768               | 0.00542535  |"
      ]
     },
     "metadata": {},
     "output_type": "display_data"
    },
    {
     "data": {
      "text/html": [
       "<pre>| 15      | 2m 7s        | 21.6743           | 4.65516               | 0.00542535  |</pre>"
      ],
      "text/plain": [
       "| 15      | 2m 7s        | 21.6743           | 4.65516               | 0.00542535  |"
      ]
     },
     "metadata": {},
     "output_type": "display_data"
    },
    {
     "data": {
      "text/html": [
       "<pre>| 16      | 2m 8s        | 21.5699           | 4.64391               | 0.00542535  |</pre>"
      ],
      "text/plain": [
       "| 16      | 2m 8s        | 21.5699           | 4.64391               | 0.00542535  |"
      ]
     },
     "metadata": {},
     "output_type": "display_data"
    },
    {
     "data": {
      "text/html": [
       "<pre>| 17      | 2m 9s        | 21.4767           | 4.63384               | 0.00542535  |</pre>"
      ],
      "text/plain": [
       "| 17      | 2m 9s        | 21.4767           | 4.63384               | 0.00542535  |"
      ]
     },
     "metadata": {},
     "output_type": "display_data"
    },
    {
     "data": {
      "text/html": [
       "<pre>| 18      | 2m 11s       | 21.3941           | 4.62491               | 0.00542535  |</pre>"
      ],
      "text/plain": [
       "| 18      | 2m 11s       | 21.3941           | 4.62491               | 0.00542535  |"
      ]
     },
     "metadata": {},
     "output_type": "display_data"
    },
    {
     "data": {
      "text/html": [
       "<pre>| 19      | 2m 12s       | 21.3213           | 4.61701               | 0.00542535  |</pre>"
      ],
      "text/plain": [
       "| 19      | 2m 12s       | 21.3213           | 4.61701               | 0.00542535  |"
      ]
     },
     "metadata": {},
     "output_type": "display_data"
    },
    {
     "data": {
      "text/html": [
       "<pre>| 20      | 2m 14s       | 21.2584           | 4.61017               | 0.00542535  |</pre>"
      ],
      "text/plain": [
       "| 20      | 2m 14s       | 21.2584           | 4.61017               | 0.00542535  |"
      ]
     },
     "metadata": {},
     "output_type": "display_data"
    },
    {
     "data": {
      "text/html": [
       "<pre>| 21      | 2m 15s       | 21.2045           | 4.6043                | 0.00542535  |</pre>"
      ],
      "text/plain": [
       "| 21      | 2m 15s       | 21.2045           | 4.6043                | 0.00542535  |"
      ]
     },
     "metadata": {},
     "output_type": "display_data"
    },
    {
     "data": {
      "text/html": [
       "<pre>| 22      | 2m 16s       | 21.1595           | 4.5994                | 0.00542535  |</pre>"
      ],
      "text/plain": [
       "| 22      | 2m 16s       | 21.1595           | 4.5994                | 0.00542535  |"
      ]
     },
     "metadata": {},
     "output_type": "display_data"
    },
    {
     "data": {
      "text/html": [
       "<pre>| 23      | 2m 18s       | 21.1247           | 4.59559               | 0.00542535  |</pre>"
      ],
      "text/plain": [
       "| 23      | 2m 18s       | 21.1247           | 4.59559               | 0.00542535  |"
      ]
     },
     "metadata": {},
     "output_type": "display_data"
    },
    {
     "data": {
      "text/html": [
       "<pre>| 24      | 2m 19s       | 21.0977           | 4.59263               | 0.00542535  |</pre>"
      ],
      "text/plain": [
       "| 24      | 2m 19s       | 21.0977           | 4.59263               | 0.00542535  |"
      ]
     },
     "metadata": {},
     "output_type": "display_data"
    },
    {
     "data": {
      "text/html": [
       "<pre>| 25      | 2m 21s       | 21.0806           | 4.59076               | 0.00542535  |</pre>"
      ],
      "text/plain": [
       "| 25      | 2m 21s       | 21.0806           | 4.59076               | 0.00542535  |"
      ]
     },
     "metadata": {},
     "output_type": "display_data"
    },
    {
     "data": {
      "text/html": [
       "<pre>| 26      | 2m 22s       | 21.0746           | 4.59008               | 0.00542535  |</pre>"
      ],
      "text/plain": [
       "| 26      | 2m 22s       | 21.0746           | 4.59008               | 0.00542535  |"
      ]
     },
     "metadata": {},
     "output_type": "display_data"
    },
    {
     "data": {
      "text/html": [
       "<pre>| 27      | 2m 23s       | 21.0804           | 4.59069               | 0.00542535  |</pre>"
      ],
      "text/plain": [
       "| 27      | 2m 23s       | 21.0804           | 4.59069               | 0.00542535  |"
      ]
     },
     "metadata": {},
     "output_type": "display_data"
    },
    {
     "data": {
      "text/html": [
       "<pre>| 28      | 2m 25s       | 21.0974           | 4.59251               | 0.00542535  |</pre>"
      ],
      "text/plain": [
       "| 28      | 2m 25s       | 21.0974           | 4.59251               | 0.00542535  |"
      ]
     },
     "metadata": {},
     "output_type": "display_data"
    },
    {
     "data": {
      "text/html": [
       "<pre>| 29      | 2m 26s       | 21.1287           | 4.5959                | 0.00542535  |</pre>"
      ],
      "text/plain": [
       "| 29      | 2m 26s       | 21.1287           | 4.5959                | 0.00542535  |"
      ]
     },
     "metadata": {},
     "output_type": "display_data"
    },
    {
     "data": {
      "text/html": [
       "<pre>| 30      | 2m 28s       | 21.1762           | 4.60103               | 0.00542535  |</pre>"
      ],
      "text/plain": [
       "| 30      | 2m 28s       | 21.1762           | 4.60103               | 0.00542535  |"
      ]
     },
     "metadata": {},
     "output_type": "display_data"
    },
    {
     "data": {
      "text/html": [
       "<pre>| 31      | 2m 29s       | 21.2417           | 4.60812               | 0.00542535  |</pre>"
      ],
      "text/plain": [
       "| 31      | 2m 29s       | 21.2417           | 4.60812               | 0.00542535  |"
      ]
     },
     "metadata": {},
     "output_type": "display_data"
    },
    {
     "data": {
      "text/html": [
       "<pre>| 32      | 2m 30s       | 21.33             | 4.61765               | 0.00542535  |</pre>"
      ],
      "text/plain": [
       "| 32      | 2m 30s       | 21.33             | 4.61765               | 0.00542535  |"
      ]
     },
     "metadata": {},
     "output_type": "display_data"
    },
    {
     "data": {
      "text/html": [
       "<pre>| 33      | 2m 32s       | 21.4417           | 4.6297                | 0.00542535  |</pre>"
      ],
      "text/plain": [
       "| 33      | 2m 32s       | 21.4417           | 4.6297                | 0.00542535  |"
      ]
     },
     "metadata": {},
     "output_type": "display_data"
    },
    {
     "data": {
      "text/html": [
       "<pre>| 34      | 2m 33s       | 21.586            | 4.64522               | 0.00542535  |</pre>"
      ],
      "text/plain": [
       "| 34      | 2m 33s       | 21.586            | 4.64522               | 0.00542535  |"
      ]
     },
     "metadata": {},
     "output_type": "display_data"
    },
    {
     "data": {
      "text/html": [
       "<pre>| 35      | 2m 35s       | 21.7645           | 4.66435               | 0.00542535  |</pre>"
      ],
      "text/plain": [
       "| 35      | 2m 35s       | 21.7645           | 4.66435               | 0.00542535  |"
      ]
     },
     "metadata": {},
     "output_type": "display_data"
    },
    {
     "data": {
      "text/html": [
       "<pre>| 36      | 2m 37s       | 21.9918           | 4.68861               | 0.00542535  |</pre>"
      ],
      "text/plain": [
       "| 36      | 2m 37s       | 21.9918           | 4.68861               | 0.00542535  |"
      ]
     },
     "metadata": {},
     "output_type": "display_data"
    },
    {
     "data": {
      "text/html": [
       "<pre>| 37      | 2m 39s       | 22.2736           | 4.71851               | 0.00542535  |</pre>"
      ],
      "text/plain": [
       "| 37      | 2m 39s       | 22.2736           | 4.71851               | 0.00542535  |"
      ]
     },
     "metadata": {},
     "output_type": "display_data"
    },
    {
     "data": {
      "text/html": [
       "<pre>| 38      | 2m 41s       | 22.6293           | 4.756                 | 0.00542535  |</pre>"
      ],
      "text/plain": [
       "| 38      | 2m 41s       | 22.6293           | 4.756                 | 0.00542535  |"
      ]
     },
     "metadata": {},
     "output_type": "display_data"
    },
    {
     "data": {
      "text/html": [
       "<pre>| 39      | 2m 42s       | 23.0716           | 4.80221               | 0.00542535  |</pre>"
      ],
      "text/plain": [
       "| 39      | 2m 42s       | 23.0716           | 4.80221               | 0.00542535  |"
      ]
     },
     "metadata": {},
     "output_type": "display_data"
    },
    {
     "data": {
      "text/html": [
       "<pre>| 40      | 2m 44s       | 23.6247           | 4.85938               | 0.00542535  |</pre>"
      ],
      "text/plain": [
       "| 40      | 2m 44s       | 23.6247           | 4.85938               | 0.00542535  |"
      ]
     },
     "metadata": {},
     "output_type": "display_data"
    },
    {
     "data": {
      "text/html": [
       "<pre>| 41      | 2m 46s       | 24.315            | 4.92982               | 0.00542535  |</pre>"
      ],
      "text/plain": [
       "| 41      | 2m 46s       | 24.315            | 4.92982               | 0.00542535  |"
      ]
     },
     "metadata": {},
     "output_type": "display_data"
    },
    {
     "data": {
      "text/html": [
       "<pre>+---------+--------------+-------------------+-----------------------+-------------+</pre>"
      ],
      "text/plain": [
       "+---------+--------------+-------------------+-----------------------+-------------+"
      ]
     },
     "metadata": {},
     "output_type": "display_data"
    },
    {
     "data": {
      "text/html": [
       "<pre>Optimization Complete: Maximum number of passes through the data reached (hard limit).</pre>"
      ],
      "text/plain": [
       "Optimization Complete: Maximum number of passes through the data reached (hard limit)."
      ]
     },
     "metadata": {},
     "output_type": "display_data"
    },
    {
     "data": {
      "text/html": [
       "<pre>Computing final objective value and training RMSE.</pre>"
      ],
      "text/plain": [
       "Computing final objective value and training RMSE."
      ]
     },
     "metadata": {},
     "output_type": "display_data"
    },
    {
     "data": {
      "text/html": [
       "<pre>       Final objective value: 24.7069</pre>"
      ],
      "text/plain": [
       "       Final objective value: 24.7069"
      ]
     },
     "metadata": {},
     "output_type": "display_data"
    },
    {
     "data": {
      "text/html": [
       "<pre>       Final training RMSE: 4.9694</pre>"
      ],
      "text/plain": [
       "       Final training RMSE: 4.9694"
      ]
     },
     "metadata": {},
     "output_type": "display_data"
    },
    {
     "data": {
      "text/html": [
       "<pre>Recsys training: model = factorization_recommender</pre>"
      ],
      "text/plain": [
       "Recsys training: model = factorization_recommender"
      ]
     },
     "metadata": {},
     "output_type": "display_data"
    },
    {
     "data": {
      "text/html": [
       "<pre>Preparing data set.</pre>"
      ],
      "text/plain": [
       "Preparing data set."
      ]
     },
     "metadata": {},
     "output_type": "display_data"
    },
    {
     "data": {
      "text/html": [
       "<pre>    Data has 1218325 observations with 50692 users and 151 items.</pre>"
      ],
      "text/plain": [
       "    Data has 1218325 observations with 50692 users and 151 items."
      ]
     },
     "metadata": {},
     "output_type": "display_data"
    },
    {
     "data": {
      "text/html": [
       "<pre>    Data prepared in: 2.24028s</pre>"
      ],
      "text/plain": [
       "    Data prepared in: 2.24028s"
      ]
     },
     "metadata": {},
     "output_type": "display_data"
    },
    {
     "data": {
      "text/html": [
       "<pre>Training factorization_recommender for recommendations.</pre>"
      ],
      "text/plain": [
       "Training factorization_recommender for recommendations."
      ]
     },
     "metadata": {},
     "output_type": "display_data"
    },
    {
     "data": {
      "text/html": [
       "<pre>+--------------------------------+--------------------------------------------------+----------+</pre>"
      ],
      "text/plain": [
       "+--------------------------------+--------------------------------------------------+----------+"
      ]
     },
     "metadata": {},
     "output_type": "display_data"
    },
    {
     "data": {
      "text/html": [
       "<pre>| Parameter                      | Description                                      | Value    |</pre>"
      ],
      "text/plain": [
       "| Parameter                      | Description                                      | Value    |"
      ]
     },
     "metadata": {},
     "output_type": "display_data"
    },
    {
     "data": {
      "text/html": [
       "<pre>+--------------------------------+--------------------------------------------------+----------+</pre>"
      ],
      "text/plain": [
       "+--------------------------------+--------------------------------------------------+----------+"
      ]
     },
     "metadata": {},
     "output_type": "display_data"
    },
    {
     "data": {
      "text/html": [
       "<pre>| num_factors                    | Factor Dimension                                 | 8        |</pre>"
      ],
      "text/plain": [
       "| num_factors                    | Factor Dimension                                 | 8        |"
      ]
     },
     "metadata": {},
     "output_type": "display_data"
    },
    {
     "data": {
      "text/html": [
       "<pre>| regularization                 | L2 Regularization on Factors                     | 1e-07    |</pre>"
      ],
      "text/plain": [
       "| regularization                 | L2 Regularization on Factors                     | 1e-07    |"
      ]
     },
     "metadata": {},
     "output_type": "display_data"
    },
    {
     "data": {
      "text/html": [
       "<pre>| solver                         | Solver used for training                         | adagrad  |</pre>"
      ],
      "text/plain": [
       "| solver                         | Solver used for training                         | adagrad  |"
      ]
     },
     "metadata": {},
     "output_type": "display_data"
    },
    {
     "data": {
      "text/html": [
       "<pre>| linear_regularization          | L2 Regularization on Linear Coefficients         | 1e-10    |</pre>"
      ],
      "text/plain": [
       "| linear_regularization          | L2 Regularization on Linear Coefficients         | 1e-10    |"
      ]
     },
     "metadata": {},
     "output_type": "display_data"
    },
    {
     "data": {
      "text/html": [
       "<pre>| side_data_factorization        | Assign Factors for Side Data                     | True     |</pre>"
      ],
      "text/plain": [
       "| side_data_factorization        | Assign Factors for Side Data                     | True     |"
      ]
     },
     "metadata": {},
     "output_type": "display_data"
    },
    {
     "data": {
      "text/html": [
       "<pre>| max_iterations                 | Maximum Number of Iterations                     | 100      |</pre>"
      ],
      "text/plain": [
       "| max_iterations                 | Maximum Number of Iterations                     | 100      |"
      ]
     },
     "metadata": {},
     "output_type": "display_data"
    },
    {
     "data": {
      "text/html": [
       "<pre>+--------------------------------+--------------------------------------------------+----------+</pre>"
      ],
      "text/plain": [
       "+--------------------------------+--------------------------------------------------+----------+"
      ]
     },
     "metadata": {},
     "output_type": "display_data"
    },
    {
     "data": {
      "text/html": [
       "<pre>  Optimizing model using SGD; tuning step size.</pre>"
      ],
      "text/plain": [
       "  Optimizing model using SGD; tuning step size."
      ]
     },
     "metadata": {},
     "output_type": "display_data"
    },
    {
     "data": {
      "text/html": [
       "<pre>  Using 152290 / 1218325 points for tuning the step size.</pre>"
      ],
      "text/plain": [
       "  Using 152290 / 1218325 points for tuning the step size."
      ]
     },
     "metadata": {},
     "output_type": "display_data"
    },
    {
     "data": {
      "text/html": [
       "<pre>+---------+-------------------+------------------------------------------+</pre>"
      ],
      "text/plain": [
       "+---------+-------------------+------------------------------------------+"
      ]
     },
     "metadata": {},
     "output_type": "display_data"
    },
    {
     "data": {
      "text/html": [
       "<pre>| Attempt | Initial Step Size | Estimated Objective Value                |</pre>"
      ],
      "text/plain": [
       "| Attempt | Initial Step Size | Estimated Objective Value                |"
      ]
     },
     "metadata": {},
     "output_type": "display_data"
    },
    {
     "data": {
      "text/html": [
       "<pre>+---------+-------------------+------------------------------------------+</pre>"
      ],
      "text/plain": [
       "+---------+-------------------+------------------------------------------+"
      ]
     },
     "metadata": {},
     "output_type": "display_data"
    },
    {
     "data": {
      "text/html": [
       "<pre>| 0       | 5.55556           | Not Viable                               |</pre>"
      ],
      "text/plain": [
       "| 0       | 5.55556           | Not Viable                               |"
      ]
     },
     "metadata": {},
     "output_type": "display_data"
    },
    {
     "data": {
      "text/html": [
       "<pre>| 1       | 1.38889           | 8.50986                                  |</pre>"
      ],
      "text/plain": [
       "| 1       | 1.38889           | 8.50986                                  |"
      ]
     },
     "metadata": {},
     "output_type": "display_data"
    },
    {
     "data": {
      "text/html": [
       "<pre>| 2       | 0.694444          | 3.76792                                  |</pre>"
      ],
      "text/plain": [
       "| 2       | 0.694444          | 3.76792                                  |"
      ]
     },
     "metadata": {},
     "output_type": "display_data"
    },
    {
     "data": {
      "text/html": [
       "<pre>| 3       | 0.347222          | 22.644                                   |</pre>"
      ],
      "text/plain": [
       "| 3       | 0.347222          | 22.644                                   |"
      ]
     },
     "metadata": {},
     "output_type": "display_data"
    },
    {
     "data": {
      "text/html": [
       "<pre>+---------+-------------------+------------------------------------------+</pre>"
      ],
      "text/plain": [
       "+---------+-------------------+------------------------------------------+"
      ]
     },
     "metadata": {},
     "output_type": "display_data"
    },
    {
     "data": {
      "text/html": [
       "<pre>| Final   | 0.694444          | 3.76792                                  |</pre>"
      ],
      "text/plain": [
       "| Final   | 0.694444          | 3.76792                                  |"
      ]
     },
     "metadata": {},
     "output_type": "display_data"
    },
    {
     "data": {
      "text/html": [
       "<pre>+---------+-------------------+------------------------------------------+</pre>"
      ],
      "text/plain": [
       "+---------+-------------------+------------------------------------------+"
      ]
     },
     "metadata": {},
     "output_type": "display_data"
    },
    {
     "data": {
      "text/html": [
       "<pre>Starting Optimization.</pre>"
      ],
      "text/plain": [
       "Starting Optimization."
      ]
     },
     "metadata": {},
     "output_type": "display_data"
    },
    {
     "data": {
      "text/html": [
       "<pre>+---------+--------------+-------------------+-----------------------+-------------+</pre>"
      ],
      "text/plain": [
       "+---------+--------------+-------------------+-----------------------+-------------+"
      ]
     },
     "metadata": {},
     "output_type": "display_data"
    },
    {
     "data": {
      "text/html": [
       "<pre>| Iter.   | Elapsed Time | Approx. Objective | Approx. Training RMSE | Step Size   |</pre>"
      ],
      "text/plain": [
       "| Iter.   | Elapsed Time | Approx. Objective | Approx. Training RMSE | Step Size   |"
      ]
     },
     "metadata": {},
     "output_type": "display_data"
    },
    {
     "data": {
      "text/html": [
       "<pre>+---------+--------------+-------------------+-----------------------+-------------+</pre>"
      ],
      "text/plain": [
       "+---------+--------------+-------------------+-----------------------+-------------+"
      ]
     },
     "metadata": {},
     "output_type": "display_data"
    },
    {
     "data": {
      "text/html": [
       "<pre>| Initial | 8.086ms      | 27.9392           | 5.28576               |             |</pre>"
      ],
      "text/plain": [
       "| Initial | 8.086ms      | 27.9392           | 5.28576               |             |"
      ]
     },
     "metadata": {},
     "output_type": "display_data"
    },
    {
     "data": {
      "text/html": [
       "<pre>+---------+--------------+-------------------+-----------------------+-------------+</pre>"
      ],
      "text/plain": [
       "+---------+--------------+-------------------+-----------------------+-------------+"
      ]
     },
     "metadata": {},
     "output_type": "display_data"
    },
    {
     "data": {
      "text/html": [
       "<pre>| 1       | 1.55s        | 18.6799           | 4.31632               | 0.694444    |</pre>"
      ],
      "text/plain": [
       "| 1       | 1.55s        | 18.6799           | 4.31632               | 0.694444    |"
      ]
     },
     "metadata": {},
     "output_type": "display_data"
    },
    {
     "data": {
      "text/html": [
       "<pre>| 2       | 2.96s        | 14.025            | 3.73812               | 0.694444    |</pre>"
      ],
      "text/plain": [
       "| 2       | 2.96s        | 14.025            | 3.73812               | 0.694444    |"
      ]
     },
     "metadata": {},
     "output_type": "display_data"
    },
    {
     "data": {
      "text/html": [
       "<pre>| 3       | 4.37s        | 12.8925           | 3.58331               | 0.694444    |</pre>"
      ],
      "text/plain": [
       "| 3       | 4.37s        | 12.8925           | 3.58331               | 0.694444    |"
      ]
     },
     "metadata": {},
     "output_type": "display_data"
    },
    {
     "data": {
      "text/html": [
       "<pre>| 4       | 5.77s        | 12.2419           | 3.49126               | 0.694444    |</pre>"
      ],
      "text/plain": [
       "| 4       | 5.77s        | 12.2419           | 3.49126               | 0.694444    |"
      ]
     },
     "metadata": {},
     "output_type": "display_data"
    },
    {
     "data": {
      "text/html": [
       "<pre>| 5       | 7.15s        | 11.8299           | 3.4317                | 0.694444    |</pre>"
      ],
      "text/plain": [
       "| 5       | 7.15s        | 11.8299           | 3.4317                | 0.694444    |"
      ]
     },
     "metadata": {},
     "output_type": "display_data"
    },
    {
     "data": {
      "text/html": [
       "<pre>| 6       | 8.56s        | 11.5178           | 3.38587               | 0.694444    |</pre>"
      ],
      "text/plain": [
       "| 6       | 8.56s        | 11.5178           | 3.38587               | 0.694444    |"
      ]
     },
     "metadata": {},
     "output_type": "display_data"
    },
    {
     "data": {
      "text/html": [
       "<pre>| 7       | 9.95s        | 11.2682           | 3.34877               | 0.694444    |</pre>"
      ],
      "text/plain": [
       "| 7       | 9.95s        | 11.2682           | 3.34877               | 0.694444    |"
      ]
     },
     "metadata": {},
     "output_type": "display_data"
    },
    {
     "data": {
      "text/html": [
       "<pre>| 8       | 11.33s       | 11.0626           | 3.3179                | 0.694444    |</pre>"
      ],
      "text/plain": [
       "| 8       | 11.33s       | 11.0626           | 3.3179                | 0.694444    |"
      ]
     },
     "metadata": {},
     "output_type": "display_data"
    },
    {
     "data": {
      "text/html": [
       "<pre>| 9       | 12.73s       | 10.9019           | 3.29357               | 0.694444    |</pre>"
      ],
      "text/plain": [
       "| 9       | 12.73s       | 10.9019           | 3.29357               | 0.694444    |"
      ]
     },
     "metadata": {},
     "output_type": "display_data"
    },
    {
     "data": {
      "text/html": [
       "<pre>| 10      | 14.20s       | 10.7999           | 3.27804               | 0.694444    |</pre>"
      ],
      "text/plain": [
       "| 10      | 14.20s       | 10.7999           | 3.27804               | 0.694444    |"
      ]
     },
     "metadata": {},
     "output_type": "display_data"
    },
    {
     "data": {
      "text/html": [
       "<pre>| 11      | 15.57s       | 10.6907           | 3.26132               | 0.694444    |</pre>"
      ],
      "text/plain": [
       "| 11      | 15.57s       | 10.6907           | 3.26132               | 0.694444    |"
      ]
     },
     "metadata": {},
     "output_type": "display_data"
    },
    {
     "data": {
      "text/html": [
       "<pre>| 12      | 16.99s       | 10.6137           | 3.24949               | 0.694444    |</pre>"
      ],
      "text/plain": [
       "| 12      | 16.99s       | 10.6137           | 3.24949               | 0.694444    |"
      ]
     },
     "metadata": {},
     "output_type": "display_data"
    },
    {
     "data": {
      "text/html": [
       "<pre>| 13      | 18.39s       | 10.5191           | 3.23489               | 0.694444    |</pre>"
      ],
      "text/plain": [
       "| 13      | 18.39s       | 10.5191           | 3.23489               | 0.694444    |"
      ]
     },
     "metadata": {},
     "output_type": "display_data"
    },
    {
     "data": {
      "text/html": [
       "<pre>| 14      | 19.74s       | 10.4512           | 3.22437               | 0.694444    |</pre>"
      ],
      "text/plain": [
       "| 14      | 19.74s       | 10.4512           | 3.22437               | 0.694444    |"
      ]
     },
     "metadata": {},
     "output_type": "display_data"
    },
    {
     "data": {
      "text/html": [
       "<pre>| 15      | 21.25s       | 10.3766           | 3.21277               | 0.694444    |</pre>"
      ],
      "text/plain": [
       "| 15      | 21.25s       | 10.3766           | 3.21277               | 0.694444    |"
      ]
     },
     "metadata": {},
     "output_type": "display_data"
    },
    {
     "data": {
      "text/html": [
       "<pre>| 16      | 22.63s       | 10.3382           | 3.20678               | 0.694444    |</pre>"
      ],
      "text/plain": [
       "| 16      | 22.63s       | 10.3382           | 3.20678               | 0.694444    |"
      ]
     },
     "metadata": {},
     "output_type": "display_data"
    },
    {
     "data": {
      "text/html": [
       "<pre>| 17      | 24.02s       | 10.2785           | 3.19746               | 0.694444    |</pre>"
      ],
      "text/plain": [
       "| 17      | 24.02s       | 10.2785           | 3.19746               | 0.694444    |"
      ]
     },
     "metadata": {},
     "output_type": "display_data"
    },
    {
     "data": {
      "text/html": [
       "<pre>| 18      | 25.41s       | 10.2379           | 3.1911                | 0.694444    |</pre>"
      ],
      "text/plain": [
       "| 18      | 25.41s       | 10.2379           | 3.1911                | 0.694444    |"
      ]
     },
     "metadata": {},
     "output_type": "display_data"
    },
    {
     "data": {
      "text/html": [
       "<pre>| 19      | 26.81s       | 10.1779           | 3.18166               | 0.694444    |</pre>"
      ],
      "text/plain": [
       "| 19      | 26.81s       | 10.1779           | 3.18166               | 0.694444    |"
      ]
     },
     "metadata": {},
     "output_type": "display_data"
    },
    {
     "data": {
      "text/html": [
       "<pre>| 20      | 28.20s       | 10.157            | 3.17839               | 0.694444    |</pre>"
      ],
      "text/plain": [
       "| 20      | 28.20s       | 10.157            | 3.17839               | 0.694444    |"
      ]
     },
     "metadata": {},
     "output_type": "display_data"
    },
    {
     "data": {
      "text/html": [
       "<pre>| 21      | 29.63s       | 10.1142           | 3.17164               | 0.694444    |</pre>"
      ],
      "text/plain": [
       "| 21      | 29.63s       | 10.1142           | 3.17164               | 0.694444    |"
      ]
     },
     "metadata": {},
     "output_type": "display_data"
    },
    {
     "data": {
      "text/html": [
       "<pre>| 22      | 31.08s       | 10.0705           | 3.16474               | 0.694444    |</pre>"
      ],
      "text/plain": [
       "| 22      | 31.08s       | 10.0705           | 3.16474               | 0.694444    |"
      ]
     },
     "metadata": {},
     "output_type": "display_data"
    },
    {
     "data": {
      "text/html": [
       "<pre>| 23      | 32.87s       | 10.063            | 3.16356               | 0.694444    |</pre>"
      ],
      "text/plain": [
       "| 23      | 32.87s       | 10.063            | 3.16356               | 0.694444    |"
      ]
     },
     "metadata": {},
     "output_type": "display_data"
    },
    {
     "data": {
      "text/html": [
       "<pre>| 24      | 34.65s       | 10.0099           | 3.15513               | 0.694444    |</pre>"
      ],
      "text/plain": [
       "| 24      | 34.65s       | 10.0099           | 3.15513               | 0.694444    |"
      ]
     },
     "metadata": {},
     "output_type": "display_data"
    },
    {
     "data": {
      "text/html": [
       "<pre>| 25      | 36.72s       | 9.98122           | 3.15059               | 0.694444    |</pre>"
      ],
      "text/plain": [
       "| 25      | 36.72s       | 9.98122           | 3.15059               | 0.694444    |"
      ]
     },
     "metadata": {},
     "output_type": "display_data"
    },
    {
     "data": {
      "text/html": [
       "<pre>| 26      | 38.49s       | 9.94674           | 3.14511               | 0.694444    |</pre>"
      ],
      "text/plain": [
       "| 26      | 38.49s       | 9.94674           | 3.14511               | 0.694444    |"
      ]
     },
     "metadata": {},
     "output_type": "display_data"
    },
    {
     "data": {
      "text/html": [
       "<pre>| 27      | 40.18s       | 9.94608           | 3.145                 | 0.694444    |</pre>"
      ],
      "text/plain": [
       "| 27      | 40.18s       | 9.94608           | 3.145                 | 0.694444    |"
      ]
     },
     "metadata": {},
     "output_type": "display_data"
    },
    {
     "data": {
      "text/html": [
       "<pre>| 28      | 41.83s       | 9.91592           | 3.1402                | 0.694444    |</pre>"
      ],
      "text/plain": [
       "| 28      | 41.83s       | 9.91592           | 3.1402                | 0.694444    |"
      ]
     },
     "metadata": {},
     "output_type": "display_data"
    },
    {
     "data": {
      "text/html": [
       "<pre>| 29      | 43.39s       | 9.88977           | 3.13603               | 0.694444    |</pre>"
      ],
      "text/plain": [
       "| 29      | 43.39s       | 9.88977           | 3.13603               | 0.694444    |"
      ]
     },
     "metadata": {},
     "output_type": "display_data"
    },
    {
     "data": {
      "text/html": [
       "<pre>| 30      | 44.74s       | 9.88622           | 3.13547               | 0.694444    |</pre>"
      ],
      "text/plain": [
       "| 30      | 44.74s       | 9.88622           | 3.13547               | 0.694444    |"
      ]
     },
     "metadata": {},
     "output_type": "display_data"
    },
    {
     "data": {
      "text/html": [
       "<pre>| 31      | 46.11s       | 9.86315           | 3.13178               | 0.694444    |</pre>"
      ],
      "text/plain": [
       "| 31      | 46.11s       | 9.86315           | 3.13178               | 0.694444    |"
      ]
     },
     "metadata": {},
     "output_type": "display_data"
    },
    {
     "data": {
      "text/html": [
       "<pre>| 32      | 47.43s       | 9.83845           | 3.12783               | 0.694444    |</pre>"
      ],
      "text/plain": [
       "| 32      | 47.43s       | 9.83845           | 3.12783               | 0.694444    |"
      ]
     },
     "metadata": {},
     "output_type": "display_data"
    },
    {
     "data": {
      "text/html": [
       "<pre>| 33      | 48.79s       | 9.81943           | 3.12479               | 0.694444    |</pre>"
      ],
      "text/plain": [
       "| 33      | 48.79s       | 9.81943           | 3.12479               | 0.694444    |"
      ]
     },
     "metadata": {},
     "output_type": "display_data"
    },
    {
     "data": {
      "text/html": [
       "<pre>| 34      | 50.16s       | 9.80499           | 3.12248               | 0.694444    |</pre>"
      ],
      "text/plain": [
       "| 34      | 50.16s       | 9.80499           | 3.12248               | 0.694444    |"
      ]
     },
     "metadata": {},
     "output_type": "display_data"
    },
    {
     "data": {
      "text/html": [
       "<pre>| 35      | 51.62s       | 9.79139           | 3.1203                | 0.694444    |</pre>"
      ],
      "text/plain": [
       "| 35      | 51.62s       | 9.79139           | 3.1203                | 0.694444    |"
      ]
     },
     "metadata": {},
     "output_type": "display_data"
    },
    {
     "data": {
      "text/html": [
       "<pre>| 36      | 53.00s       | 9.76883           | 3.11668               | 0.694444    |</pre>"
      ],
      "text/plain": [
       "| 36      | 53.00s       | 9.76883           | 3.11668               | 0.694444    |"
      ]
     },
     "metadata": {},
     "output_type": "display_data"
    },
    {
     "data": {
      "text/html": [
       "<pre>| 37      | 54.40s       | 9.75941           | 3.11517               | 0.694444    |</pre>"
      ],
      "text/plain": [
       "| 37      | 54.40s       | 9.75941           | 3.11517               | 0.694444    |"
      ]
     },
     "metadata": {},
     "output_type": "display_data"
    },
    {
     "data": {
      "text/html": [
       "<pre>| 38      | 55.79s       | 9.74216           | 3.1124                | 0.694444    |</pre>"
      ],
      "text/plain": [
       "| 38      | 55.79s       | 9.74216           | 3.1124                | 0.694444    |"
      ]
     },
     "metadata": {},
     "output_type": "display_data"
    },
    {
     "data": {
      "text/html": [
       "<pre>| 39      | 57.16s       | 9.73192           | 3.11075               | 0.694444    |</pre>"
      ],
      "text/plain": [
       "| 39      | 57.16s       | 9.73192           | 3.11075               | 0.694444    |"
      ]
     },
     "metadata": {},
     "output_type": "display_data"
    },
    {
     "data": {
      "text/html": [
       "<pre>| 40      | 58.59s       | 9.72335           | 3.10937               | 0.694444    |</pre>"
      ],
      "text/plain": [
       "| 40      | 58.59s       | 9.72335           | 3.10937               | 0.694444    |"
      ]
     },
     "metadata": {},
     "output_type": "display_data"
    },
    {
     "data": {
      "text/html": [
       "<pre>| 41      | 59.97s       | 9.70301           | 3.1061                | 0.694444    |</pre>"
      ],
      "text/plain": [
       "| 41      | 59.97s       | 9.70301           | 3.1061                | 0.694444    |"
      ]
     },
     "metadata": {},
     "output_type": "display_data"
    },
    {
     "data": {
      "text/html": [
       "<pre>| 42      | 1m 1s        | 9.69069           | 3.10411               | 0.694444    |</pre>"
      ],
      "text/plain": [
       "| 42      | 1m 1s        | 9.69069           | 3.10411               | 0.694444    |"
      ]
     },
     "metadata": {},
     "output_type": "display_data"
    },
    {
     "data": {
      "text/html": [
       "<pre>| 43      | 1m 2s        | 9.68031           | 3.10244               | 0.694444    |</pre>"
      ],
      "text/plain": [
       "| 43      | 1m 2s        | 9.68031           | 3.10244               | 0.694444    |"
      ]
     },
     "metadata": {},
     "output_type": "display_data"
    },
    {
     "data": {
      "text/html": [
       "<pre>| 44      | 1m 4s        | 9.66796           | 3.10045               | 0.694444    |</pre>"
      ],
      "text/plain": [
       "| 44      | 1m 4s        | 9.66796           | 3.10045               | 0.694444    |"
      ]
     },
     "metadata": {},
     "output_type": "display_data"
    },
    {
     "data": {
      "text/html": [
       "<pre>| 45      | 1m 5s        | 9.66209           | 3.0995                | 0.694444    |</pre>"
      ],
      "text/plain": [
       "| 45      | 1m 5s        | 9.66209           | 3.0995                | 0.694444    |"
      ]
     },
     "metadata": {},
     "output_type": "display_data"
    },
    {
     "data": {
      "text/html": [
       "<pre>| 46      | 1m 6s        | 9.64795           | 3.09722               | 0.694444    |</pre>"
      ],
      "text/plain": [
       "| 46      | 1m 6s        | 9.64795           | 3.09722               | 0.694444    |"
      ]
     },
     "metadata": {},
     "output_type": "display_data"
    },
    {
     "data": {
      "text/html": [
       "<pre>| 47      | 1m 8s        | 9.64089           | 3.09608               | 0.694444    |</pre>"
      ],
      "text/plain": [
       "| 47      | 1m 8s        | 9.64089           | 3.09608               | 0.694444    |"
      ]
     },
     "metadata": {},
     "output_type": "display_data"
    },
    {
     "data": {
      "text/html": [
       "<pre>| 48      | 1m 9s        | 9.63031           | 3.09437               | 0.694444    |</pre>"
      ],
      "text/plain": [
       "| 48      | 1m 9s        | 9.63031           | 3.09437               | 0.694444    |"
      ]
     },
     "metadata": {},
     "output_type": "display_data"
    },
    {
     "data": {
      "text/html": [
       "<pre>| 49      | 1m 11s       | 9.61233           | 3.09146               | 0.694444    |</pre>"
      ],
      "text/plain": [
       "| 49      | 1m 11s       | 9.61233           | 3.09146               | 0.694444    |"
      ]
     },
     "metadata": {},
     "output_type": "display_data"
    },
    {
     "data": {
      "text/html": [
       "<pre>| 50      | 1m 12s       | 9.60431           | 3.09016               | 0.694444    |</pre>"
      ],
      "text/plain": [
       "| 50      | 1m 12s       | 9.60431           | 3.09016               | 0.694444    |"
      ]
     },
     "metadata": {},
     "output_type": "display_data"
    },
    {
     "data": {
      "text/html": [
       "<pre>| 51      | 1m 13s       | 9.5957            | 3.08877               | 0.694444    |</pre>"
      ],
      "text/plain": [
       "| 51      | 1m 13s       | 9.5957            | 3.08877               | 0.694444    |"
      ]
     },
     "metadata": {},
     "output_type": "display_data"
    },
    {
     "data": {
      "text/html": [
       "<pre>| 52      | 1m 15s       | 9.59037           | 3.08791               | 0.694444    |</pre>"
      ],
      "text/plain": [
       "| 52      | 1m 15s       | 9.59037           | 3.08791               | 0.694444    |"
      ]
     },
     "metadata": {},
     "output_type": "display_data"
    },
    {
     "data": {
      "text/html": [
       "<pre>| 53      | 1m 16s       | 9.58333           | 3.08677               | 0.694444    |</pre>"
      ],
      "text/plain": [
       "| 53      | 1m 16s       | 9.58333           | 3.08677               | 0.694444    |"
      ]
     },
     "metadata": {},
     "output_type": "display_data"
    },
    {
     "data": {
      "text/html": [
       "<pre>| 54      | 1m 17s       | 9.56782           | 3.08425               | 0.694444    |</pre>"
      ],
      "text/plain": [
       "| 54      | 1m 17s       | 9.56782           | 3.08425               | 0.694444    |"
      ]
     },
     "metadata": {},
     "output_type": "display_data"
    },
    {
     "data": {
      "text/html": [
       "<pre>| 55      | 1m 19s       | 9.56792           | 3.08427               | 0.694444    |</pre>"
      ],
      "text/plain": [
       "| 55      | 1m 19s       | 9.56792           | 3.08427               | 0.694444    |"
      ]
     },
     "metadata": {},
     "output_type": "display_data"
    },
    {
     "data": {
      "text/html": [
       "<pre>| 56      | 1m 20s       | 9.55448           | 3.08209               | 0.694444    |</pre>"
      ],
      "text/plain": [
       "| 56      | 1m 20s       | 9.55448           | 3.08209               | 0.694444    |"
      ]
     },
     "metadata": {},
     "output_type": "display_data"
    },
    {
     "data": {
      "text/html": [
       "<pre>| 57      | 1m 22s       | 9.54152           | 3.07999               | 0.694444    |</pre>"
      ],
      "text/plain": [
       "| 57      | 1m 22s       | 9.54152           | 3.07999               | 0.694444    |"
      ]
     },
     "metadata": {},
     "output_type": "display_data"
    },
    {
     "data": {
      "text/html": [
       "<pre>| 58      | 1m 23s       | 9.54268           | 3.08017               | 0.694444    |</pre>"
      ],
      "text/plain": [
       "| 58      | 1m 23s       | 9.54268           | 3.08017               | 0.694444    |"
      ]
     },
     "metadata": {},
     "output_type": "display_data"
    },
    {
     "data": {
      "text/html": [
       "<pre>| 59      | 1m 24s       | 9.54079           | 3.07987               | 0.694444    |</pre>"
      ],
      "text/plain": [
       "| 59      | 1m 24s       | 9.54079           | 3.07987               | 0.694444    |"
      ]
     },
     "metadata": {},
     "output_type": "display_data"
    },
    {
     "data": {
      "text/html": [
       "<pre>| 60      | 1m 26s       | 9.52476           | 3.07726               | 0.694444    |</pre>"
      ],
      "text/plain": [
       "| 60      | 1m 26s       | 9.52476           | 3.07726               | 0.694444    |"
      ]
     },
     "metadata": {},
     "output_type": "display_data"
    },
    {
     "data": {
      "text/html": [
       "<pre>| 61      | 1m 27s       | 9.50927           | 3.07474               | 0.694444    |</pre>"
      ],
      "text/plain": [
       "| 61      | 1m 27s       | 9.50927           | 3.07474               | 0.694444    |"
      ]
     },
     "metadata": {},
     "output_type": "display_data"
    },
    {
     "data": {
      "text/html": [
       "<pre>| 62      | 1m 29s       | 9.51544           | 3.07575               | 0.694444    |</pre>"
      ],
      "text/plain": [
       "| 62      | 1m 29s       | 9.51544           | 3.07575               | 0.694444    |"
      ]
     },
     "metadata": {},
     "output_type": "display_data"
    },
    {
     "data": {
      "text/html": [
       "<pre>| 63      | 1m 31s       | 9.50827           | 3.07458               | 0.694444    |</pre>"
      ],
      "text/plain": [
       "| 63      | 1m 31s       | 9.50827           | 3.07458               | 0.694444    |"
      ]
     },
     "metadata": {},
     "output_type": "display_data"
    },
    {
     "data": {
      "text/html": [
       "<pre>| 64      | 1m 33s       | 9.49848           | 3.07299               | 0.694444    |</pre>"
      ],
      "text/plain": [
       "| 64      | 1m 33s       | 9.49848           | 3.07299               | 0.694444    |"
      ]
     },
     "metadata": {},
     "output_type": "display_data"
    },
    {
     "data": {
      "text/html": [
       "<pre>| 65      | 1m 35s       | 9.49025           | 3.07165               | 0.694444    |</pre>"
      ],
      "text/plain": [
       "| 65      | 1m 35s       | 9.49025           | 3.07165               | 0.694444    |"
      ]
     },
     "metadata": {},
     "output_type": "display_data"
    },
    {
     "data": {
      "text/html": [
       "<pre>| 66      | 1m 37s       | 9.48133           | 3.0702                | 0.694444    |</pre>"
      ],
      "text/plain": [
       "| 66      | 1m 37s       | 9.48133           | 3.0702                | 0.694444    |"
      ]
     },
     "metadata": {},
     "output_type": "display_data"
    },
    {
     "data": {
      "text/html": [
       "<pre>| 67      | 1m 38s       | 9.48306           | 3.07048               | 0.694444    |</pre>"
      ],
      "text/plain": [
       "| 67      | 1m 38s       | 9.48306           | 3.07048               | 0.694444    |"
      ]
     },
     "metadata": {},
     "output_type": "display_data"
    },
    {
     "data": {
      "text/html": [
       "<pre>| 68      | 1m 39s       | 9.47446           | 3.06908               | 0.694444    |</pre>"
      ],
      "text/plain": [
       "| 68      | 1m 39s       | 9.47446           | 3.06908               | 0.694444    |"
      ]
     },
     "metadata": {},
     "output_type": "display_data"
    },
    {
     "data": {
      "text/html": [
       "<pre>| 69      | 1m 41s       | 9.46648           | 3.06778               | 0.694444    |</pre>"
      ],
      "text/plain": [
       "| 69      | 1m 41s       | 9.46648           | 3.06778               | 0.694444    |"
      ]
     },
     "metadata": {},
     "output_type": "display_data"
    },
    {
     "data": {
      "text/html": [
       "<pre>| 70      | 1m 42s       | 9.46582           | 3.06767               | 0.694444    |</pre>"
      ],
      "text/plain": [
       "| 70      | 1m 42s       | 9.46582           | 3.06767               | 0.694444    |"
      ]
     },
     "metadata": {},
     "output_type": "display_data"
    },
    {
     "data": {
      "text/html": [
       "<pre>| 71      | 1m 44s       | 9.45744           | 3.0663                | 0.694444    |</pre>"
      ],
      "text/plain": [
       "| 71      | 1m 44s       | 9.45744           | 3.0663                | 0.694444    |"
      ]
     },
     "metadata": {},
     "output_type": "display_data"
    },
    {
     "data": {
      "text/html": [
       "<pre>| 72      | 1m 47s       | 9.44792           | 3.06475               | 0.694444    |</pre>"
      ],
      "text/plain": [
       "| 72      | 1m 47s       | 9.44792           | 3.06475               | 0.694444    |"
      ]
     },
     "metadata": {},
     "output_type": "display_data"
    },
    {
     "data": {
      "text/html": [
       "<pre>| 73      | 1m 48s       | 9.44723           | 3.06464               | 0.694444    |</pre>"
      ],
      "text/plain": [
       "| 73      | 1m 48s       | 9.44723           | 3.06464               | 0.694444    |"
      ]
     },
     "metadata": {},
     "output_type": "display_data"
    },
    {
     "data": {
      "text/html": [
       "<pre>| 74      | 1m 50s       | 9.44042           | 3.06353               | 0.694444    |</pre>"
      ],
      "text/plain": [
       "| 74      | 1m 50s       | 9.44042           | 3.06353               | 0.694444    |"
      ]
     },
     "metadata": {},
     "output_type": "display_data"
    },
    {
     "data": {
      "text/html": [
       "<pre>| 75      | 1m 51s       | 9.42817           | 3.06153               | 0.694444    |</pre>"
      ],
      "text/plain": [
       "| 75      | 1m 51s       | 9.42817           | 3.06153               | 0.694444    |"
      ]
     },
     "metadata": {},
     "output_type": "display_data"
    },
    {
     "data": {
      "text/html": [
       "<pre>| 76      | 1m 53s       | 9.42913           | 3.06169               | 0.694444    |</pre>"
      ],
      "text/plain": [
       "| 76      | 1m 53s       | 9.42913           | 3.06169               | 0.694444    |"
      ]
     },
     "metadata": {},
     "output_type": "display_data"
    },
    {
     "data": {
      "text/html": [
       "<pre>| 77      | 1m 54s       | 9.41798           | 3.05986               | 0.694444    |</pre>"
      ],
      "text/plain": [
       "| 77      | 1m 54s       | 9.41798           | 3.05986               | 0.694444    |"
      ]
     },
     "metadata": {},
     "output_type": "display_data"
    },
    {
     "data": {
      "text/html": [
       "<pre>| 78      | 1m 56s       | 9.41283           | 3.05902               | 0.694444    |</pre>"
      ],
      "text/plain": [
       "| 78      | 1m 56s       | 9.41283           | 3.05902               | 0.694444    |"
      ]
     },
     "metadata": {},
     "output_type": "display_data"
    },
    {
     "data": {
      "text/html": [
       "<pre>| 79      | 1m 58s       | 9.41302           | 3.05905               | 0.694444    |</pre>"
      ],
      "text/plain": [
       "| 79      | 1m 58s       | 9.41302           | 3.05905               | 0.694444    |"
      ]
     },
     "metadata": {},
     "output_type": "display_data"
    },
    {
     "data": {
      "text/html": [
       "<pre>| 80      | 1m 59s       | 9.41496           | 3.05937               | 0.694444    |</pre>"
      ],
      "text/plain": [
       "| 80      | 1m 59s       | 9.41496           | 3.05937               | 0.694444    |"
      ]
     },
     "metadata": {},
     "output_type": "display_data"
    },
    {
     "data": {
      "text/html": [
       "<pre>| 81      | 2m 1s        | 9.40238           | 3.05731               | 0.694444    |</pre>"
      ],
      "text/plain": [
       "| 81      | 2m 1s        | 9.40238           | 3.05731               | 0.694444    |"
      ]
     },
     "metadata": {},
     "output_type": "display_data"
    },
    {
     "data": {
      "text/html": [
       "<pre>| 82      | 2m 3s        | 9.39052           | 3.05538               | 0.694444    |</pre>"
      ],
      "text/plain": [
       "| 82      | 2m 3s        | 9.39052           | 3.05538               | 0.694444    |"
      ]
     },
     "metadata": {},
     "output_type": "display_data"
    },
    {
     "data": {
      "text/html": [
       "<pre>| 83      | 2m 6s        | 9.39231           | 3.05567               | 0.694444    |</pre>"
      ],
      "text/plain": [
       "| 83      | 2m 6s        | 9.39231           | 3.05567               | 0.694444    |"
      ]
     },
     "metadata": {},
     "output_type": "display_data"
    },
    {
     "data": {
      "text/html": [
       "<pre>| 84      | 2m 7s        | 9.3837            | 3.05426               | 0.694444    |</pre>"
      ],
      "text/plain": [
       "| 84      | 2m 7s        | 9.3837            | 3.05426               | 0.694444    |"
      ]
     },
     "metadata": {},
     "output_type": "display_data"
    },
    {
     "data": {
      "text/html": [
       "<pre>| 85      | 2m 9s        | 9.38761           | 3.0549                | 0.694444    |</pre>"
      ],
      "text/plain": [
       "| 85      | 2m 9s        | 9.38761           | 3.0549                | 0.694444    |"
      ]
     },
     "metadata": {},
     "output_type": "display_data"
    },
    {
     "data": {
      "text/html": [
       "<pre>| 86      | 2m 10s       | 9.37863           | 3.05343               | 0.694444    |</pre>"
      ],
      "text/plain": [
       "| 86      | 2m 10s       | 9.37863           | 3.05343               | 0.694444    |"
      ]
     },
     "metadata": {},
     "output_type": "display_data"
    },
    {
     "data": {
      "text/html": [
       "<pre>| 87      | 2m 11s       | 9.37528           | 3.05288               | 0.694444    |</pre>"
      ],
      "text/plain": [
       "| 87      | 2m 11s       | 9.37528           | 3.05288               | 0.694444    |"
      ]
     },
     "metadata": {},
     "output_type": "display_data"
    },
    {
     "data": {
      "text/html": [
       "<pre>| 88      | 2m 13s       | 9.37414           | 3.05269               | 0.694444    |</pre>"
      ],
      "text/plain": [
       "| 88      | 2m 13s       | 9.37414           | 3.05269               | 0.694444    |"
      ]
     },
     "metadata": {},
     "output_type": "display_data"
    },
    {
     "data": {
      "text/html": [
       "<pre>| 89      | 2m 14s       | 9.3631            | 3.05088               | 0.694444    |</pre>"
      ],
      "text/plain": [
       "| 89      | 2m 14s       | 9.3631            | 3.05088               | 0.694444    |"
      ]
     },
     "metadata": {},
     "output_type": "display_data"
    },
    {
     "data": {
      "text/html": [
       "<pre>| 90      | 2m 16s       | 9.36371           | 3.05098               | 0.694444    |</pre>"
      ],
      "text/plain": [
       "| 90      | 2m 16s       | 9.36371           | 3.05098               | 0.694444    |"
      ]
     },
     "metadata": {},
     "output_type": "display_data"
    },
    {
     "data": {
      "text/html": [
       "<pre>| 91      | 2m 17s       | 9.35632           | 3.04977               | 0.694444    |</pre>"
      ],
      "text/plain": [
       "| 91      | 2m 17s       | 9.35632           | 3.04977               | 0.694444    |"
      ]
     },
     "metadata": {},
     "output_type": "display_data"
    },
    {
     "data": {
      "text/html": [
       "<pre>| 92      | 2m 18s       | 9.3588            | 3.05018               | 0.694444    |</pre>"
      ],
      "text/plain": [
       "| 92      | 2m 18s       | 9.3588            | 3.05018               | 0.694444    |"
      ]
     },
     "metadata": {},
     "output_type": "display_data"
    },
    {
     "data": {
      "text/html": [
       "<pre>| 93      | 2m 20s       | 9.34759           | 3.04834               | 0.694444    |</pre>"
      ],
      "text/plain": [
       "| 93      | 2m 20s       | 9.34759           | 3.04834               | 0.694444    |"
      ]
     },
     "metadata": {},
     "output_type": "display_data"
    },
    {
     "data": {
      "text/html": [
       "<pre>| 94      | 2m 21s       | 9.34547           | 3.04799               | 0.694444    |</pre>"
      ],
      "text/plain": [
       "| 94      | 2m 21s       | 9.34547           | 3.04799               | 0.694444    |"
      ]
     },
     "metadata": {},
     "output_type": "display_data"
    },
    {
     "data": {
      "text/html": [
       "<pre>| 95      | 2m 23s       | 9.34034           | 3.04715               | 0.694444    |</pre>"
      ],
      "text/plain": [
       "| 95      | 2m 23s       | 9.34034           | 3.04715               | 0.694444    |"
      ]
     },
     "metadata": {},
     "output_type": "display_data"
    },
    {
     "data": {
      "text/html": [
       "<pre>| 96      | 2m 24s       | 9.33938           | 3.047                 | 0.694444    |</pre>"
      ],
      "text/plain": [
       "| 96      | 2m 24s       | 9.33938           | 3.047                 | 0.694444    |"
      ]
     },
     "metadata": {},
     "output_type": "display_data"
    },
    {
     "data": {
      "text/html": [
       "<pre>| 97      | 2m 26s       | 9.33734           | 3.04666               | 0.694444    |</pre>"
      ],
      "text/plain": [
       "| 97      | 2m 26s       | 9.33734           | 3.04666               | 0.694444    |"
      ]
     },
     "metadata": {},
     "output_type": "display_data"
    },
    {
     "data": {
      "text/html": [
       "<pre>| 98      | 2m 27s       | 9.33296           | 3.04594               | 0.694444    |</pre>"
      ],
      "text/plain": [
       "| 98      | 2m 27s       | 9.33296           | 3.04594               | 0.694444    |"
      ]
     },
     "metadata": {},
     "output_type": "display_data"
    },
    {
     "data": {
      "text/html": [
       "<pre>| 99      | 2m 29s       | 9.32777           | 3.04509               | 0.694444    |</pre>"
      ],
      "text/plain": [
       "| 99      | 2m 29s       | 9.32777           | 3.04509               | 0.694444    |"
      ]
     },
     "metadata": {},
     "output_type": "display_data"
    },
    {
     "data": {
      "text/html": [
       "<pre>| 100     | 2m 30s       | 9.32046           | 3.04389               | 0.694444    |</pre>"
      ],
      "text/plain": [
       "| 100     | 2m 30s       | 9.32046           | 3.04389               | 0.694444    |"
      ]
     },
     "metadata": {},
     "output_type": "display_data"
    },
    {
     "data": {
      "text/html": [
       "<pre>+---------+--------------+-------------------+-----------------------+-------------+</pre>"
      ],
      "text/plain": [
       "+---------+--------------+-------------------+-----------------------+-------------+"
      ]
     },
     "metadata": {},
     "output_type": "display_data"
    },
    {
     "data": {
      "text/html": [
       "<pre>Optimization Complete: Maximum number of passes through the data reached.</pre>"
      ],
      "text/plain": [
       "Optimization Complete: Maximum number of passes through the data reached."
      ]
     },
     "metadata": {},
     "output_type": "display_data"
    },
    {
     "data": {
      "text/html": [
       "<pre>Computing final objective value and training RMSE.</pre>"
      ],
      "text/plain": [
       "Computing final objective value and training RMSE."
      ]
     },
     "metadata": {},
     "output_type": "display_data"
    },
    {
     "data": {
      "text/html": [
       "<pre>       Final objective value: 9.3655</pre>"
      ],
      "text/plain": [
       "       Final objective value: 9.3655"
      ]
     },
     "metadata": {},
     "output_type": "display_data"
    },
    {
     "data": {
      "text/html": [
       "<pre>       Final training RMSE: 3.05128</pre>"
      ],
      "text/plain": [
       "       Final training RMSE: 3.05128"
      ]
     },
     "metadata": {},
     "output_type": "display_data"
    }
   ],
   "source": [
    "regularization_vals = [0.00001, 0.000001, 0.0000001]\n",
    "models = [graphlab.factorization_recommender.create(\n",
    "            df_rating,\n",
    "            user_id='user_id',\n",
    "            item_id='joke_id',\n",
    "            target='rating',\n",
    "            item_data=graphlab.SFrame(item_data),\n",
    "            max_iterations=100,\n",
    "            regularization=0.00001)\n",
    "          for r in regularization_vals]"
   ]
  },
  {
   "cell_type": "code",
   "execution_count": 64,
   "metadata": {},
   "outputs": [],
   "source": [
    "(rmse_train, rmse_test) = ([], [])\n",
    "for m in models:\n",
    "    rmse_train.append(m['training_rmse'])"
   ]
  },
  {
   "cell_type": "code",
   "execution_count": 65,
   "metadata": {},
   "outputs": [
    {
     "data": {
      "text/plain": [
       "[2.9292757417209514, 4.9694185659398675, 3.051291266290803]"
      ]
     },
     "execution_count": 65,
     "metadata": {},
     "output_type": "execute_result"
    }
   ],
   "source": [
    "rmse_train\n"
   ]
  },
  {
   "cell_type": "code",
   "execution_count": null,
   "metadata": {
    "collapsed": true
   },
   "outputs": [],
   "source": []
  },
  {
   "cell_type": "code",
   "execution_count": 97,
   "metadata": {},
   "outputs": [
    {
     "name": "stdout",
     "output_type": "stream",
     "text": [
      "[u'is', u'was', u'in', u'his', u'engineer', u'he', u'to', u'of', u'and', u'the']\n",
      "[u'in', u'my', u'do', u'to', u'are', u'me', u'says', u'and', u'the', u'you']\n",
      "[u'used', u'organized', u'mafia', u'toilet', u'plumber', u'and', u'the', u'whats', u'between', u'difference']\n",
      "[u'says', u'him', u'good', u'cancer', u'have', u'bad', u'the', u'man', u'news', u'doctor']\n",
      "[u'lightbulb', u'to', u'how', u'screw', u'it', u'light', u'take', u'does', u'many', u'bulb']\n",
      "[u'languages', u'is', u'hear', u'knock', u'say', u'speaks', u'what', u'did', u'who', u'person']\n",
      "[u'feeding', u'work', u'replied', u'confused', u'new', u'the', u'said', u'her', u'shredder', u'she']\n"
     ]
    },
    {
     "ename": "IndexError",
     "evalue": "index 7 is out of bounds for axis 0 with size 7",
     "output_type": "error",
     "traceback": [
      "\u001b[1;31m---------------------------------------------------------------------------\u001b[0m",
      "\u001b[1;31mIndexError\u001b[0m                                Traceback (most recent call last)",
      "\u001b[1;32m<ipython-input-97-9dece07310ad>\u001b[0m in \u001b[0;36m<module>\u001b[1;34m()\u001b[0m\n\u001b[0;32m      1\u001b[0m \u001b[0md\u001b[0m\u001b[1;33m=\u001b[0m\u001b[0mdict\u001b[0m\u001b[1;33m(\u001b[0m\u001b[0menumerate\u001b[0m\u001b[1;33m(\u001b[0m\u001b[0mvecterizer\u001b[0m\u001b[1;33m.\u001b[0m\u001b[0mget_feature_names\u001b[0m\u001b[1;33m(\u001b[0m\u001b[1;33m)\u001b[0m\u001b[1;33m)\u001b[0m\u001b[1;33m)\u001b[0m\u001b[1;33m\u001b[0m\u001b[0m\n\u001b[0;32m      2\u001b[0m \u001b[1;32mfor\u001b[0m \u001b[0mrow\u001b[0m \u001b[1;32min\u001b[0m \u001b[0mrange\u001b[0m\u001b[1;33m(\u001b[0m\u001b[1;36m10\u001b[0m\u001b[1;33m)\u001b[0m\u001b[1;33m:\u001b[0m\u001b[1;33m\u001b[0m\u001b[0m\n\u001b[1;32m----> 3\u001b[1;33m    \u001b[1;32mprint\u001b[0m \u001b[1;33m[\u001b[0m\u001b[0md\u001b[0m\u001b[1;33m[\u001b[0m\u001b[0mi\u001b[0m\u001b[1;33m]\u001b[0m \u001b[1;32mfor\u001b[0m \u001b[0mi\u001b[0m \u001b[1;32min\u001b[0m \u001b[0mnp\u001b[0m\u001b[1;33m.\u001b[0m\u001b[0margsort\u001b[0m\u001b[1;33m(\u001b[0m\u001b[0mH\u001b[0m\u001b[1;33m[\u001b[0m\u001b[0mrow\u001b[0m\u001b[1;33m]\u001b[0m\u001b[1;33m)\u001b[0m\u001b[1;33m[\u001b[0m\u001b[1;33m-\u001b[0m\u001b[1;36m10\u001b[0m\u001b[1;33m:\u001b[0m\u001b[1;33m]\u001b[0m\u001b[1;33m]\u001b[0m\u001b[1;33m\u001b[0m\u001b[0m\n\u001b[0m",
      "\u001b[1;31mIndexError\u001b[0m: index 7 is out of bounds for axis 0 with size 7"
     ]
    }
   ],
   "source": [
    "d=dict(enumerate(vecterizer.get_feature_names()))\n",
    "for row in range(10):\n",
    "   print [d[i] for i in np.argsort(H[row])[-10:]]"
   ]
  },
  {
   "cell_type": "code",
   "execution_count": null,
   "metadata": {
    "collapsed": true
   },
   "outputs": [],
   "source": []
  }
 ],
 "metadata": {
  "kernelspec": {
   "display_name": "Python 3",
   "language": "python",
   "name": "python3"
  },
  "language_info": {
   "codemirror_mode": {
    "name": "ipython",
    "version": 3
   },
   "file_extension": ".py",
   "mimetype": "text/x-python",
   "name": "python",
   "nbconvert_exporter": "python",
   "pygments_lexer": "ipython3",
   "version": "3.6.3"
  }
 },
 "nbformat": 4,
 "nbformat_minor": 2
}
